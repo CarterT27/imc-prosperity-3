{
 "cells": [
  {
   "cell_type": "code",
   "execution_count": 1,
   "metadata": {},
   "outputs": [],
   "source": [
    "import pandas as pd\n",
    "import os\n",
    "from pathlib import Path\n",
    "import re\n",
    "\n",
    "def load_trading_data(data_folder: str) -> dict[str, pd.DataFrame]:\n",
    "    \"\"\"\n",
    "    Load trading data from CSV files into pandas DataFrames, agnostic to round and day.\n",
    "\n",
    "    Args:\n",
    "        data_folder (str): Path to the folder containing the CSV files\n",
    "\n",
    "    Returns:\n",
    "        Dict[str, pd.DataFrame]: Dictionary containing the following DataFrames:\n",
    "            - 'prices': Price data for all days/rounds\n",
    "            - 'trades': Trade data for all days/rounds\n",
    "            - 'observations': Observation data for all days/rounds\n",
    "    \"\"\"\n",
    "    data = {\n",
    "        'prices': [],\n",
    "        'trades': [],\n",
    "        'observations': []\n",
    "    }\n",
    "\n",
    "    # Regex to match files and extract type, round, and day\n",
    "    pattern = re.compile(r'^(prices|trades|observations)_round_(\\d+)_day_(\\d+)\\.csv$')\n",
    "\n",
    "    for file in Path(data_folder).iterdir():\n",
    "        if file.is_file():\n",
    "            match = pattern.match(file.name)\n",
    "            if match:\n",
    "                data_type, round_num, day = match.groups()\n",
    "                sep = ';' if data_type in ['prices', 'trades'] else ','\n",
    "                df = pd.read_csv(file, sep=sep)\n",
    "                df['day'] = int(day)\n",
    "                df['round'] = int(round_num)\n",
    "                if 'timestamp' in df.columns:\n",
    "                    df = df.sort_values('timestamp')\n",
    "                data[data_type].append(df)\n",
    "\n",
    "    # Concatenate all days' data\n",
    "    result = {}\n",
    "    for key, dfs in data.items():\n",
    "        if dfs:  # Only add if we found any data\n",
    "            result[key] = pd.concat(dfs, ignore_index=True)\n",
    "            result[key].sort_values(['day', 'timestamp'], inplace=True)\n",
    "\n",
    "    return result\n",
    "\n",
    "def get_product_data(df: pd.DataFrame, product: str) -> pd.DataFrame:\n",
    "    \"\"\"\n",
    "    Filter DataFrame for a specific product.\n",
    "\n",
    "    Args:\n",
    "        df (pd.DataFrame): DataFrame containing trading data\n",
    "        product (str): Product name to filter for\n",
    "\n",
    "    Returns:\n",
    "        pd.DataFrame: Filtered DataFrame containing only data for the specified product\n",
    "    \"\"\"\n",
    "    return df[df['product'] == product]\n",
    "\n",
    "def get_day_data(df: pd.DataFrame, day: int) -> pd.DataFrame:\n",
    "    \"\"\"\n",
    "    Filter DataFrame for a specific day.\n",
    "\n",
    "    Args:\n",
    "        df (pd.DataFrame): DataFrame containing trading data\n",
    "        day (int): Day number to filter for\n",
    "\n",
    "    Returns:\n",
    "        pd.DataFrame: Filtered DataFrame containing only data for the specified day\n",
    "    \"\"\"\n",
    "    return df[df['day'] == day]\n",
    "\n",
    "def get_product_day_data(df: pd.DataFrame, product: str, day: int) -> pd.DataFrame:\n",
    "    \"\"\"\n",
    "    Filter DataFrame for a specific product and day.\n",
    "\n",
    "    Args:\n",
    "        df (pd.DataFrame): DataFrame containing trading data\n",
    "        product (str): Product name to filter for\n",
    "        day (int): Day number to filter for\n",
    "\n",
    "    Returns:\n",
    "        pd.DataFrame: Filtered DataFrame containing only data for the specified product and day\n",
    "    \"\"\"\n",
    "    return df[(df['product'] == product) & (df['day'] == day)]\n",
    "\n",
    "def get_price_data(df: pd.DataFrame, product: str = None, day: int = None) -> pd.DataFrame:\n",
    "    \"\"\"\n",
    "    Get price data with optional filtering by product and/or day.\n",
    "\n",
    "    Args:\n",
    "        df (pd.DataFrame): DataFrame containing price data\n",
    "        product (str, optional): Product name to filter for\n",
    "        day (int, optional): Day number to filter for\n",
    "\n",
    "    Returns:\n",
    "        pd.DataFrame: Filtered price data\n",
    "    \"\"\"\n",
    "    result = df.copy()\n",
    "    if product:\n",
    "        result = result[result['product'] == product]\n",
    "    if day:\n",
    "        result = result[result['day'] == day]\n",
    "    if 'timestamp' in result.columns:\n",
    "        result = result.sort_values('timestamp')\n",
    "    return result\n",
    "\n",
    "def get_order_book_data(df: pd.DataFrame, product: str = None, day: int = None) -> pd.DataFrame:\n",
    "    \"\"\"\n",
    "    Get order book data with optional filtering by product and/or day.\n",
    "\n",
    "    Args:\n",
    "        df (pd.DataFrame): DataFrame containing price data\n",
    "        product (str, optional): Product name to filter for\n",
    "        day (int, optional): Day number to filter for\n",
    "\n",
    "    Returns:\n",
    "        pd.DataFrame: Filtered order book data\n",
    "    \"\"\"\n",
    "    result = df.copy()\n",
    "    if product:\n",
    "        result = result[result['product'] == product]\n",
    "    if day:\n",
    "        result = result[result['day'] == day]\n",
    "    if 'timestamp' in result.columns:\n",
    "        result = result.sort_values('timestamp')\n",
    "    return result\n",
    "\n",
    "def get_volume_data(df: pd.DataFrame, product: str = None, day: int = None) -> pd.DataFrame:\n",
    "    \"\"\"\n",
    "    Get volume data with optional filtering by product and/or day.\n",
    "\n",
    "    Args:\n",
    "        df (pd.DataFrame): DataFrame containing trade data\n",
    "        product (str, optional): Product name to filter for\n",
    "        day (int, optional): Day number to filter for\n",
    "\n",
    "    Returns:\n",
    "        pd.DataFrame: Filtered volume data\n",
    "    \"\"\"\n",
    "    result = df.copy()\n",
    "    if product:\n",
    "        result = result[result['product'] == product]\n",
    "    if day:\n",
    "        result = result[result['day'] == day]\n",
    "    if 'timestamp' in result.columns:\n",
    "        result = result.sort_values('timestamp')\n",
    "    return result\n",
    "\n",
    "def convert_timestamp(df: pd.DataFrame) -> pd.DataFrame:\n",
    "    return df.assign(t=(df['day'] - 1) * 1_000_000 + df['timestamp']).drop(columns=['day', 'timestamp'])"
   ]
  },
  {
   "cell_type": "code",
   "execution_count": 2,
   "metadata": {},
   "outputs": [
    {
     "data": {
      "text/html": [
       "<div>\n",
       "<style scoped>\n",
       "    .dataframe tbody tr th:only-of-type {\n",
       "        vertical-align: middle;\n",
       "    }\n",
       "\n",
       "    .dataframe tbody tr th {\n",
       "        vertical-align: top;\n",
       "    }\n",
       "\n",
       "    .dataframe thead th {\n",
       "        text-align: right;\n",
       "    }\n",
       "</style>\n",
       "<table border=\"1\" class=\"dataframe\">\n",
       "  <thead>\n",
       "    <tr style=\"text-align: right;\">\n",
       "      <th></th>\n",
       "      <th>day</th>\n",
       "      <th>timestamp</th>\n",
       "      <th>product</th>\n",
       "      <th>bid_price_1</th>\n",
       "      <th>bid_volume_1</th>\n",
       "      <th>bid_price_2</th>\n",
       "      <th>bid_volume_2</th>\n",
       "      <th>bid_price_3</th>\n",
       "      <th>bid_volume_3</th>\n",
       "      <th>ask_price_1</th>\n",
       "      <th>ask_volume_1</th>\n",
       "      <th>ask_price_2</th>\n",
       "      <th>ask_volume_2</th>\n",
       "      <th>ask_price_3</th>\n",
       "      <th>ask_volume_3</th>\n",
       "      <th>mid_price</th>\n",
       "      <th>profit_and_loss</th>\n",
       "      <th>round</th>\n",
       "    </tr>\n",
       "  </thead>\n",
       "  <tbody>\n",
       "    <tr>\n",
       "      <th>0</th>\n",
       "      <td>0</td>\n",
       "      <td>0</td>\n",
       "      <td>AMETHYSTS</td>\n",
       "      <td>10002</td>\n",
       "      <td>1</td>\n",
       "      <td>9996.0</td>\n",
       "      <td>2.0</td>\n",
       "      <td>9995.0</td>\n",
       "      <td>29.0</td>\n",
       "      <td>10004</td>\n",
       "      <td>2</td>\n",
       "      <td>10005.0</td>\n",
       "      <td>29.0</td>\n",
       "      <td>NaN</td>\n",
       "      <td>NaN</td>\n",
       "      <td>10003.0</td>\n",
       "      <td>0.0</td>\n",
       "      <td>6</td>\n",
       "    </tr>\n",
       "    <tr>\n",
       "      <th>1</th>\n",
       "      <td>0</td>\n",
       "      <td>0</td>\n",
       "      <td>STARFRUIT</td>\n",
       "      <td>5002</td>\n",
       "      <td>1</td>\n",
       "      <td>4997.0</td>\n",
       "      <td>31.0</td>\n",
       "      <td>NaN</td>\n",
       "      <td>NaN</td>\n",
       "      <td>5003</td>\n",
       "      <td>31</td>\n",
       "      <td>NaN</td>\n",
       "      <td>NaN</td>\n",
       "      <td>NaN</td>\n",
       "      <td>NaN</td>\n",
       "      <td>5002.5</td>\n",
       "      <td>0.0</td>\n",
       "      <td>6</td>\n",
       "    </tr>\n",
       "    <tr>\n",
       "      <th>2</th>\n",
       "      <td>0</td>\n",
       "      <td>100</td>\n",
       "      <td>AMETHYSTS</td>\n",
       "      <td>9996</td>\n",
       "      <td>2</td>\n",
       "      <td>9995.0</td>\n",
       "      <td>22.0</td>\n",
       "      <td>NaN</td>\n",
       "      <td>NaN</td>\n",
       "      <td>10004</td>\n",
       "      <td>2</td>\n",
       "      <td>10005.0</td>\n",
       "      <td>22.0</td>\n",
       "      <td>NaN</td>\n",
       "      <td>NaN</td>\n",
       "      <td>10000.0</td>\n",
       "      <td>0.0</td>\n",
       "      <td>6</td>\n",
       "    </tr>\n",
       "    <tr>\n",
       "      <th>3</th>\n",
       "      <td>0</td>\n",
       "      <td>100</td>\n",
       "      <td>STARFRUIT</td>\n",
       "      <td>4997</td>\n",
       "      <td>24</td>\n",
       "      <td>NaN</td>\n",
       "      <td>NaN</td>\n",
       "      <td>NaN</td>\n",
       "      <td>NaN</td>\n",
       "      <td>5003</td>\n",
       "      <td>2</td>\n",
       "      <td>5004.0</td>\n",
       "      <td>22.0</td>\n",
       "      <td>NaN</td>\n",
       "      <td>NaN</td>\n",
       "      <td>5000.0</td>\n",
       "      <td>0.0</td>\n",
       "      <td>6</td>\n",
       "    </tr>\n",
       "    <tr>\n",
       "      <th>4</th>\n",
       "      <td>0</td>\n",
       "      <td>200</td>\n",
       "      <td>STARFRUIT</td>\n",
       "      <td>4997</td>\n",
       "      <td>2</td>\n",
       "      <td>4996.0</td>\n",
       "      <td>20.0</td>\n",
       "      <td>NaN</td>\n",
       "      <td>NaN</td>\n",
       "      <td>5003</td>\n",
       "      <td>20</td>\n",
       "      <td>NaN</td>\n",
       "      <td>NaN</td>\n",
       "      <td>NaN</td>\n",
       "      <td>NaN</td>\n",
       "      <td>5000.0</td>\n",
       "      <td>0.0</td>\n",
       "      <td>6</td>\n",
       "    </tr>\n",
       "    <tr>\n",
       "      <th>...</th>\n",
       "      <td>...</td>\n",
       "      <td>...</td>\n",
       "      <td>...</td>\n",
       "      <td>...</td>\n",
       "      <td>...</td>\n",
       "      <td>...</td>\n",
       "      <td>...</td>\n",
       "      <td>...</td>\n",
       "      <td>...</td>\n",
       "      <td>...</td>\n",
       "      <td>...</td>\n",
       "      <td>...</td>\n",
       "      <td>...</td>\n",
       "      <td>...</td>\n",
       "      <td>...</td>\n",
       "      <td>...</td>\n",
       "      <td>...</td>\n",
       "      <td>...</td>\n",
       "    </tr>\n",
       "    <tr>\n",
       "      <th>24995</th>\n",
       "      <td>5</td>\n",
       "      <td>99900</td>\n",
       "      <td>STRAWBERRIES</td>\n",
       "      <td>3980</td>\n",
       "      <td>231</td>\n",
       "      <td>NaN</td>\n",
       "      <td>NaN</td>\n",
       "      <td>NaN</td>\n",
       "      <td>NaN</td>\n",
       "      <td>3981</td>\n",
       "      <td>240</td>\n",
       "      <td>NaN</td>\n",
       "      <td>NaN</td>\n",
       "      <td>NaN</td>\n",
       "      <td>NaN</td>\n",
       "      <td>3980.5</td>\n",
       "      <td>0.0</td>\n",
       "      <td>6</td>\n",
       "    </tr>\n",
       "    <tr>\n",
       "      <th>24996</th>\n",
       "      <td>5</td>\n",
       "      <td>99900</td>\n",
       "      <td>ROSES</td>\n",
       "      <td>13677</td>\n",
       "      <td>74</td>\n",
       "      <td>NaN</td>\n",
       "      <td>NaN</td>\n",
       "      <td>NaN</td>\n",
       "      <td>NaN</td>\n",
       "      <td>13678</td>\n",
       "      <td>28</td>\n",
       "      <td>13679.0</td>\n",
       "      <td>46.0</td>\n",
       "      <td>NaN</td>\n",
       "      <td>NaN</td>\n",
       "      <td>13677.5</td>\n",
       "      <td>0.0</td>\n",
       "      <td>6</td>\n",
       "    </tr>\n",
       "    <tr>\n",
       "      <th>24997</th>\n",
       "      <td>5</td>\n",
       "      <td>99900</td>\n",
       "      <td>AMETHYSTS</td>\n",
       "      <td>9996</td>\n",
       "      <td>2</td>\n",
       "      <td>9995.0</td>\n",
       "      <td>29.0</td>\n",
       "      <td>NaN</td>\n",
       "      <td>NaN</td>\n",
       "      <td>10004</td>\n",
       "      <td>2</td>\n",
       "      <td>10005.0</td>\n",
       "      <td>29.0</td>\n",
       "      <td>NaN</td>\n",
       "      <td>NaN</td>\n",
       "      <td>10000.0</td>\n",
       "      <td>0.0</td>\n",
       "      <td>6</td>\n",
       "    </tr>\n",
       "    <tr>\n",
       "      <th>24998</th>\n",
       "      <td>5</td>\n",
       "      <td>99900</td>\n",
       "      <td>STARFRUIT</td>\n",
       "      <td>4898</td>\n",
       "      <td>4</td>\n",
       "      <td>4897.0</td>\n",
       "      <td>31.0</td>\n",
       "      <td>NaN</td>\n",
       "      <td>NaN</td>\n",
       "      <td>4903</td>\n",
       "      <td>2</td>\n",
       "      <td>4904.0</td>\n",
       "      <td>29.0</td>\n",
       "      <td>NaN</td>\n",
       "      <td>NaN</td>\n",
       "      <td>4900.5</td>\n",
       "      <td>0.0</td>\n",
       "      <td>6</td>\n",
       "    </tr>\n",
       "    <tr>\n",
       "      <th>24999</th>\n",
       "      <td>5</td>\n",
       "      <td>99900</td>\n",
       "      <td>GIFT_BASKET</td>\n",
       "      <td>69157</td>\n",
       "      <td>2</td>\n",
       "      <td>69147.0</td>\n",
       "      <td>2.0</td>\n",
       "      <td>69146.0</td>\n",
       "      <td>15.0</td>\n",
       "      <td>69159</td>\n",
       "      <td>15</td>\n",
       "      <td>69160.0</td>\n",
       "      <td>28.0</td>\n",
       "      <td>NaN</td>\n",
       "      <td>NaN</td>\n",
       "      <td>69158.0</td>\n",
       "      <td>0.0</td>\n",
       "      <td>6</td>\n",
       "    </tr>\n",
       "  </tbody>\n",
       "</table>\n",
       "<p>34000 rows × 18 columns</p>\n",
       "</div>"
      ],
      "text/plain": [
       "       day  timestamp       product  bid_price_1  bid_volume_1  bid_price_2  \\\n",
       "0        0          0     AMETHYSTS        10002             1       9996.0   \n",
       "1        0          0     STARFRUIT         5002             1       4997.0   \n",
       "2        0        100     AMETHYSTS         9996             2       9995.0   \n",
       "3        0        100     STARFRUIT         4997            24          NaN   \n",
       "4        0        200     STARFRUIT         4997             2       4996.0   \n",
       "...    ...        ...           ...          ...           ...          ...   \n",
       "24995    5      99900  STRAWBERRIES         3980           231          NaN   \n",
       "24996    5      99900         ROSES        13677            74          NaN   \n",
       "24997    5      99900     AMETHYSTS         9996             2       9995.0   \n",
       "24998    5      99900     STARFRUIT         4898             4       4897.0   \n",
       "24999    5      99900   GIFT_BASKET        69157             2      69147.0   \n",
       "\n",
       "       bid_volume_2  bid_price_3  bid_volume_3  ask_price_1  ask_volume_1  \\\n",
       "0               2.0       9995.0          29.0        10004             2   \n",
       "1              31.0          NaN           NaN         5003            31   \n",
       "2              22.0          NaN           NaN        10004             2   \n",
       "3               NaN          NaN           NaN         5003             2   \n",
       "4              20.0          NaN           NaN         5003            20   \n",
       "...             ...          ...           ...          ...           ...   \n",
       "24995           NaN          NaN           NaN         3981           240   \n",
       "24996           NaN          NaN           NaN        13678            28   \n",
       "24997          29.0          NaN           NaN        10004             2   \n",
       "24998          31.0          NaN           NaN         4903             2   \n",
       "24999           2.0      69146.0          15.0        69159            15   \n",
       "\n",
       "       ask_price_2  ask_volume_2  ask_price_3  ask_volume_3  mid_price  \\\n",
       "0          10005.0          29.0          NaN           NaN    10003.0   \n",
       "1              NaN           NaN          NaN           NaN     5002.5   \n",
       "2          10005.0          22.0          NaN           NaN    10000.0   \n",
       "3           5004.0          22.0          NaN           NaN     5000.0   \n",
       "4              NaN           NaN          NaN           NaN     5000.0   \n",
       "...            ...           ...          ...           ...        ...   \n",
       "24995          NaN           NaN          NaN           NaN     3980.5   \n",
       "24996      13679.0          46.0          NaN           NaN    13677.5   \n",
       "24997      10005.0          29.0          NaN           NaN    10000.0   \n",
       "24998       4904.0          29.0          NaN           NaN     4900.5   \n",
       "24999      69160.0          28.0          NaN           NaN    69158.0   \n",
       "\n",
       "       profit_and_loss  round  \n",
       "0                  0.0      6  \n",
       "1                  0.0      6  \n",
       "2                  0.0      6  \n",
       "3                  0.0      6  \n",
       "4                  0.0      6  \n",
       "...                ...    ...  \n",
       "24995              0.0      6  \n",
       "24996              0.0      6  \n",
       "24997              0.0      6  \n",
       "24998              0.0      6  \n",
       "24999              0.0      6  \n",
       "\n",
       "[34000 rows x 18 columns]"
      ]
     },
     "execution_count": 2,
     "metadata": {},
     "output_type": "execute_result"
    }
   ],
   "source": [
    "# round 6 is for submission rounds, round 7 is for end of round runs\n",
    "\n",
    "prosperity2 = load_trading_data('../imc-prosperity-2-backtester/prosperity2bt/resources/round6')\n",
    "prosperity2_prices = prosperity2['prices']\n",
    "prosperity2_prices"
   ]
  },
  {
   "cell_type": "code",
   "execution_count": 3,
   "metadata": {},
   "outputs": [
    {
     "data": {
      "text/html": [
       "<div>\n",
       "<style scoped>\n",
       "    .dataframe tbody tr th:only-of-type {\n",
       "        vertical-align: middle;\n",
       "    }\n",
       "\n",
       "    .dataframe tbody tr th {\n",
       "        vertical-align: top;\n",
       "    }\n",
       "\n",
       "    .dataframe thead th {\n",
       "        text-align: right;\n",
       "    }\n",
       "</style>\n",
       "<table border=\"1\" class=\"dataframe\">\n",
       "  <thead>\n",
       "    <tr style=\"text-align: right;\">\n",
       "      <th></th>\n",
       "      <th>day</th>\n",
       "      <th>timestamp</th>\n",
       "      <th>product</th>\n",
       "      <th>bid_price_1</th>\n",
       "      <th>bid_volume_1</th>\n",
       "      <th>bid_price_2</th>\n",
       "      <th>bid_volume_2</th>\n",
       "      <th>bid_price_3</th>\n",
       "      <th>bid_volume_3</th>\n",
       "      <th>ask_price_1</th>\n",
       "      <th>ask_volume_1</th>\n",
       "      <th>ask_price_2</th>\n",
       "      <th>ask_volume_2</th>\n",
       "      <th>ask_price_3</th>\n",
       "      <th>ask_volume_3</th>\n",
       "      <th>mid_price</th>\n",
       "      <th>profit_and_loss</th>\n",
       "      <th>round</th>\n",
       "    </tr>\n",
       "  </thead>\n",
       "  <tbody>\n",
       "    <tr>\n",
       "      <th>0</th>\n",
       "      <td>0</td>\n",
       "      <td>0</td>\n",
       "      <td>RAINFOREST_RESIN</td>\n",
       "      <td>10002.0</td>\n",
       "      <td>1.0</td>\n",
       "      <td>9996.0</td>\n",
       "      <td>2.0</td>\n",
       "      <td>9995.0</td>\n",
       "      <td>29.0</td>\n",
       "      <td>10004</td>\n",
       "      <td>2</td>\n",
       "      <td>10005.0</td>\n",
       "      <td>29.0</td>\n",
       "      <td>NaN</td>\n",
       "      <td>NaN</td>\n",
       "      <td>10003.0</td>\n",
       "      <td>0.0</td>\n",
       "      <td>6</td>\n",
       "    </tr>\n",
       "    <tr>\n",
       "      <th>1</th>\n",
       "      <td>0</td>\n",
       "      <td>0</td>\n",
       "      <td>KELP</td>\n",
       "      <td>2028.0</td>\n",
       "      <td>1.0</td>\n",
       "      <td>2026.0</td>\n",
       "      <td>2.0</td>\n",
       "      <td>2025.0</td>\n",
       "      <td>29.0</td>\n",
       "      <td>2029</td>\n",
       "      <td>31</td>\n",
       "      <td>NaN</td>\n",
       "      <td>NaN</td>\n",
       "      <td>NaN</td>\n",
       "      <td>NaN</td>\n",
       "      <td>2028.5</td>\n",
       "      <td>0.0</td>\n",
       "      <td>6</td>\n",
       "    </tr>\n",
       "    <tr>\n",
       "      <th>2</th>\n",
       "      <td>0</td>\n",
       "      <td>100</td>\n",
       "      <td>KELP</td>\n",
       "      <td>2025.0</td>\n",
       "      <td>24.0</td>\n",
       "      <td>NaN</td>\n",
       "      <td>NaN</td>\n",
       "      <td>NaN</td>\n",
       "      <td>NaN</td>\n",
       "      <td>2028</td>\n",
       "      <td>2</td>\n",
       "      <td>2029.0</td>\n",
       "      <td>22.0</td>\n",
       "      <td>NaN</td>\n",
       "      <td>NaN</td>\n",
       "      <td>2026.5</td>\n",
       "      <td>0.0</td>\n",
       "      <td>6</td>\n",
       "    </tr>\n",
       "    <tr>\n",
       "      <th>3</th>\n",
       "      <td>0</td>\n",
       "      <td>100</td>\n",
       "      <td>RAINFOREST_RESIN</td>\n",
       "      <td>9996.0</td>\n",
       "      <td>2.0</td>\n",
       "      <td>9995.0</td>\n",
       "      <td>22.0</td>\n",
       "      <td>NaN</td>\n",
       "      <td>NaN</td>\n",
       "      <td>10004</td>\n",
       "      <td>2</td>\n",
       "      <td>10005.0</td>\n",
       "      <td>22.0</td>\n",
       "      <td>NaN</td>\n",
       "      <td>NaN</td>\n",
       "      <td>10000.0</td>\n",
       "      <td>0.0</td>\n",
       "      <td>6</td>\n",
       "    </tr>\n",
       "    <tr>\n",
       "      <th>4</th>\n",
       "      <td>0</td>\n",
       "      <td>200</td>\n",
       "      <td>RAINFOREST_RESIN</td>\n",
       "      <td>9995.0</td>\n",
       "      <td>20.0</td>\n",
       "      <td>NaN</td>\n",
       "      <td>NaN</td>\n",
       "      <td>NaN</td>\n",
       "      <td>NaN</td>\n",
       "      <td>10005</td>\n",
       "      <td>20</td>\n",
       "      <td>NaN</td>\n",
       "      <td>NaN</td>\n",
       "      <td>NaN</td>\n",
       "      <td>NaN</td>\n",
       "      <td>10000.0</td>\n",
       "      <td>0.0</td>\n",
       "      <td>6</td>\n",
       "    </tr>\n",
       "    <tr>\n",
       "      <th>...</th>\n",
       "      <td>...</td>\n",
       "      <td>...</td>\n",
       "      <td>...</td>\n",
       "      <td>...</td>\n",
       "      <td>...</td>\n",
       "      <td>...</td>\n",
       "      <td>...</td>\n",
       "      <td>...</td>\n",
       "      <td>...</td>\n",
       "      <td>...</td>\n",
       "      <td>...</td>\n",
       "      <td>...</td>\n",
       "      <td>...</td>\n",
       "      <td>...</td>\n",
       "      <td>...</td>\n",
       "      <td>...</td>\n",
       "      <td>...</td>\n",
       "      <td>...</td>\n",
       "    </tr>\n",
       "    <tr>\n",
       "      <th>51995</th>\n",
       "      <td>5</td>\n",
       "      <td>99900</td>\n",
       "      <td>VOLCANIC_ROCK</td>\n",
       "      <td>9914.0</td>\n",
       "      <td>144.0</td>\n",
       "      <td>9913.0</td>\n",
       "      <td>76.0</td>\n",
       "      <td>NaN</td>\n",
       "      <td>NaN</td>\n",
       "      <td>9916</td>\n",
       "      <td>220</td>\n",
       "      <td>NaN</td>\n",
       "      <td>NaN</td>\n",
       "      <td>NaN</td>\n",
       "      <td>NaN</td>\n",
       "      <td>9915.0</td>\n",
       "      <td>0.0</td>\n",
       "      <td>6</td>\n",
       "    </tr>\n",
       "    <tr>\n",
       "      <th>51996</th>\n",
       "      <td>5</td>\n",
       "      <td>99900</td>\n",
       "      <td>VOLCANIC_ROCK_VOUCHER_10500</td>\n",
       "      <td>0.0</td>\n",
       "      <td>17.0</td>\n",
       "      <td>NaN</td>\n",
       "      <td>NaN</td>\n",
       "      <td>NaN</td>\n",
       "      <td>NaN</td>\n",
       "      <td>2</td>\n",
       "      <td>17</td>\n",
       "      <td>NaN</td>\n",
       "      <td>NaN</td>\n",
       "      <td>NaN</td>\n",
       "      <td>NaN</td>\n",
       "      <td>1.0</td>\n",
       "      <td>0.0</td>\n",
       "      <td>6</td>\n",
       "    </tr>\n",
       "    <tr>\n",
       "      <th>51997</th>\n",
       "      <td>5</td>\n",
       "      <td>99900</td>\n",
       "      <td>PICNIC_BASKET2</td>\n",
       "      <td>30157.0</td>\n",
       "      <td>4.0</td>\n",
       "      <td>30153.0</td>\n",
       "      <td>2.0</td>\n",
       "      <td>30152.0</td>\n",
       "      <td>43.0</td>\n",
       "      <td>30158</td>\n",
       "      <td>17</td>\n",
       "      <td>30159.0</td>\n",
       "      <td>28.0</td>\n",
       "      <td>NaN</td>\n",
       "      <td>NaN</td>\n",
       "      <td>30157.5</td>\n",
       "      <td>0.0</td>\n",
       "      <td>6</td>\n",
       "    </tr>\n",
       "    <tr>\n",
       "      <th>51998</th>\n",
       "      <td>5</td>\n",
       "      <td>99900</td>\n",
       "      <td>VOLCANIC_ROCK_VOUCHER_10000</td>\n",
       "      <td>31.0</td>\n",
       "      <td>17.0</td>\n",
       "      <td>NaN</td>\n",
       "      <td>NaN</td>\n",
       "      <td>NaN</td>\n",
       "      <td>NaN</td>\n",
       "      <td>32</td>\n",
       "      <td>17</td>\n",
       "      <td>NaN</td>\n",
       "      <td>NaN</td>\n",
       "      <td>NaN</td>\n",
       "      <td>NaN</td>\n",
       "      <td>31.5</td>\n",
       "      <td>0.0</td>\n",
       "      <td>6</td>\n",
       "    </tr>\n",
       "    <tr>\n",
       "      <th>51999</th>\n",
       "      <td>5</td>\n",
       "      <td>99900</td>\n",
       "      <td>PICNIC_BASKET1</td>\n",
       "      <td>58357.0</td>\n",
       "      <td>2.0</td>\n",
       "      <td>58348.0</td>\n",
       "      <td>2.0</td>\n",
       "      <td>58347.0</td>\n",
       "      <td>15.0</td>\n",
       "      <td>58358</td>\n",
       "      <td>15</td>\n",
       "      <td>58359.0</td>\n",
       "      <td>28.0</td>\n",
       "      <td>NaN</td>\n",
       "      <td>NaN</td>\n",
       "      <td>58357.5</td>\n",
       "      <td>0.0</td>\n",
       "      <td>6</td>\n",
       "    </tr>\n",
       "  </tbody>\n",
       "</table>\n",
       "<p>59000 rows × 18 columns</p>\n",
       "</div>"
      ],
      "text/plain": [
       "       day  timestamp                      product  bid_price_1  bid_volume_1  \\\n",
       "0        0          0             RAINFOREST_RESIN      10002.0           1.0   \n",
       "1        0          0                         KELP       2028.0           1.0   \n",
       "2        0        100                         KELP       2025.0          24.0   \n",
       "3        0        100             RAINFOREST_RESIN       9996.0           2.0   \n",
       "4        0        200             RAINFOREST_RESIN       9995.0          20.0   \n",
       "...    ...        ...                          ...          ...           ...   \n",
       "51995    5      99900                VOLCANIC_ROCK       9914.0         144.0   \n",
       "51996    5      99900  VOLCANIC_ROCK_VOUCHER_10500          0.0          17.0   \n",
       "51997    5      99900               PICNIC_BASKET2      30157.0           4.0   \n",
       "51998    5      99900  VOLCANIC_ROCK_VOUCHER_10000         31.0          17.0   \n",
       "51999    5      99900               PICNIC_BASKET1      58357.0           2.0   \n",
       "\n",
       "       bid_price_2  bid_volume_2  bid_price_3  bid_volume_3  ask_price_1  \\\n",
       "0           9996.0           2.0       9995.0          29.0        10004   \n",
       "1           2026.0           2.0       2025.0          29.0         2029   \n",
       "2              NaN           NaN          NaN           NaN         2028   \n",
       "3           9995.0          22.0          NaN           NaN        10004   \n",
       "4              NaN           NaN          NaN           NaN        10005   \n",
       "...            ...           ...          ...           ...          ...   \n",
       "51995       9913.0          76.0          NaN           NaN         9916   \n",
       "51996          NaN           NaN          NaN           NaN            2   \n",
       "51997      30153.0           2.0      30152.0          43.0        30158   \n",
       "51998          NaN           NaN          NaN           NaN           32   \n",
       "51999      58348.0           2.0      58347.0          15.0        58358   \n",
       "\n",
       "       ask_volume_1  ask_price_2  ask_volume_2  ask_price_3  ask_volume_3  \\\n",
       "0                 2      10005.0          29.0          NaN           NaN   \n",
       "1                31          NaN           NaN          NaN           NaN   \n",
       "2                 2       2029.0          22.0          NaN           NaN   \n",
       "3                 2      10005.0          22.0          NaN           NaN   \n",
       "4                20          NaN           NaN          NaN           NaN   \n",
       "...             ...          ...           ...          ...           ...   \n",
       "51995           220          NaN           NaN          NaN           NaN   \n",
       "51996            17          NaN           NaN          NaN           NaN   \n",
       "51997            17      30159.0          28.0          NaN           NaN   \n",
       "51998            17          NaN           NaN          NaN           NaN   \n",
       "51999            15      58359.0          28.0          NaN           NaN   \n",
       "\n",
       "       mid_price  profit_and_loss  round  \n",
       "0        10003.0              0.0      6  \n",
       "1         2028.5              0.0      6  \n",
       "2         2026.5              0.0      6  \n",
       "3        10000.0              0.0      6  \n",
       "4        10000.0              0.0      6  \n",
       "...          ...              ...    ...  \n",
       "51995     9915.0              0.0      6  \n",
       "51996        1.0              0.0      6  \n",
       "51997    30157.5              0.0      6  \n",
       "51998       31.5              0.0      6  \n",
       "51999    58357.5              0.0      6  \n",
       "\n",
       "[59000 rows x 18 columns]"
      ]
     },
     "execution_count": 3,
     "metadata": {},
     "output_type": "execute_result"
    }
   ],
   "source": [
    "prosperity3 = load_trading_data('../imc-prosperity-3-backtester/prosperity3bt/resources/round6')\n",
    "prosperity3_prices = prosperity3['prices'].query('day != 6')\n",
    "prosperity3_prices"
   ]
  },
  {
   "cell_type": "code",
   "execution_count": 4,
   "metadata": {},
   "outputs": [
    {
     "data": {
      "text/html": [
       "<div>\n",
       "<style scoped>\n",
       "    .dataframe tbody tr th:only-of-type {\n",
       "        vertical-align: middle;\n",
       "    }\n",
       "\n",
       "    .dataframe tbody tr th {\n",
       "        vertical-align: top;\n",
       "    }\n",
       "\n",
       "    .dataframe thead th {\n",
       "        text-align: right;\n",
       "    }\n",
       "</style>\n",
       "<table border=\"1\" class=\"dataframe\">\n",
       "  <thead>\n",
       "    <tr style=\"text-align: right;\">\n",
       "      <th></th>\n",
       "      <th>timestamp</th>\n",
       "      <th>product</th>\n",
       "      <th>bid_price_1</th>\n",
       "      <th>bid_volume_1</th>\n",
       "      <th>bid_price_2</th>\n",
       "      <th>bid_volume_2</th>\n",
       "      <th>bid_price_3</th>\n",
       "      <th>bid_volume_3</th>\n",
       "      <th>ask_price_1</th>\n",
       "      <th>ask_volume_1</th>\n",
       "      <th>ask_price_2</th>\n",
       "      <th>ask_volume_2</th>\n",
       "      <th>ask_price_3</th>\n",
       "      <th>ask_volume_3</th>\n",
       "      <th>mid_price</th>\n",
       "      <th>profit_and_loss</th>\n",
       "      <th>round</th>\n",
       "    </tr>\n",
       "  </thead>\n",
       "  <tbody>\n",
       "    <tr>\n",
       "      <th>16000</th>\n",
       "      <td>0</td>\n",
       "      <td>STARFRUIT</td>\n",
       "      <td>4906</td>\n",
       "      <td>2</td>\n",
       "      <td>4905.0</td>\n",
       "      <td>20.0</td>\n",
       "      <td>NaN</td>\n",
       "      <td>NaN</td>\n",
       "      <td>4912</td>\n",
       "      <td>22</td>\n",
       "      <td>NaN</td>\n",
       "      <td>NaN</td>\n",
       "      <td>NaN</td>\n",
       "      <td>NaN</td>\n",
       "      <td>4909.0</td>\n",
       "      <td>0.0</td>\n",
       "      <td>6</td>\n",
       "    </tr>\n",
       "    <tr>\n",
       "      <th>16001</th>\n",
       "      <td>0</td>\n",
       "      <td>STRAWBERRIES</td>\n",
       "      <td>3957</td>\n",
       "      <td>199</td>\n",
       "      <td>NaN</td>\n",
       "      <td>NaN</td>\n",
       "      <td>NaN</td>\n",
       "      <td>NaN</td>\n",
       "      <td>3959</td>\n",
       "      <td>199</td>\n",
       "      <td>NaN</td>\n",
       "      <td>NaN</td>\n",
       "      <td>NaN</td>\n",
       "      <td>NaN</td>\n",
       "      <td>3958.0</td>\n",
       "      <td>0.0</td>\n",
       "      <td>6</td>\n",
       "    </tr>\n",
       "    <tr>\n",
       "      <th>16002</th>\n",
       "      <td>0</td>\n",
       "      <td>COCONUT</td>\n",
       "      <td>9883</td>\n",
       "      <td>133</td>\n",
       "      <td>9882.0</td>\n",
       "      <td>47.0</td>\n",
       "      <td>NaN</td>\n",
       "      <td>NaN</td>\n",
       "      <td>9884</td>\n",
       "      <td>133</td>\n",
       "      <td>9885.0</td>\n",
       "      <td>47.0</td>\n",
       "      <td>NaN</td>\n",
       "      <td>NaN</td>\n",
       "      <td>9883.5</td>\n",
       "      <td>0.0</td>\n",
       "      <td>6</td>\n",
       "    </tr>\n",
       "    <tr>\n",
       "      <th>16003</th>\n",
       "      <td>0</td>\n",
       "      <td>COCONUT_COUPON</td>\n",
       "      <td>574</td>\n",
       "      <td>45</td>\n",
       "      <td>NaN</td>\n",
       "      <td>NaN</td>\n",
       "      <td>NaN</td>\n",
       "      <td>NaN</td>\n",
       "      <td>575</td>\n",
       "      <td>45</td>\n",
       "      <td>NaN</td>\n",
       "      <td>NaN</td>\n",
       "      <td>NaN</td>\n",
       "      <td>NaN</td>\n",
       "      <td>574.5</td>\n",
       "      <td>0.0</td>\n",
       "      <td>6</td>\n",
       "    </tr>\n",
       "    <tr>\n",
       "      <th>16004</th>\n",
       "      <td>0</td>\n",
       "      <td>ROSES</td>\n",
       "      <td>13712</td>\n",
       "      <td>63</td>\n",
       "      <td>NaN</td>\n",
       "      <td>NaN</td>\n",
       "      <td>NaN</td>\n",
       "      <td>NaN</td>\n",
       "      <td>13714</td>\n",
       "      <td>63</td>\n",
       "      <td>NaN</td>\n",
       "      <td>NaN</td>\n",
       "      <td>NaN</td>\n",
       "      <td>NaN</td>\n",
       "      <td>13713.0</td>\n",
       "      <td>0.0</td>\n",
       "      <td>6</td>\n",
       "    </tr>\n",
       "    <tr>\n",
       "      <th>...</th>\n",
       "      <td>...</td>\n",
       "      <td>...</td>\n",
       "      <td>...</td>\n",
       "      <td>...</td>\n",
       "      <td>...</td>\n",
       "      <td>...</td>\n",
       "      <td>...</td>\n",
       "      <td>...</td>\n",
       "      <td>...</td>\n",
       "      <td>...</td>\n",
       "      <td>...</td>\n",
       "      <td>...</td>\n",
       "      <td>...</td>\n",
       "      <td>...</td>\n",
       "      <td>...</td>\n",
       "      <td>...</td>\n",
       "      <td>...</td>\n",
       "    </tr>\n",
       "    <tr>\n",
       "      <th>24995</th>\n",
       "      <td>99900</td>\n",
       "      <td>STRAWBERRIES</td>\n",
       "      <td>3980</td>\n",
       "      <td>231</td>\n",
       "      <td>NaN</td>\n",
       "      <td>NaN</td>\n",
       "      <td>NaN</td>\n",
       "      <td>NaN</td>\n",
       "      <td>3981</td>\n",
       "      <td>240</td>\n",
       "      <td>NaN</td>\n",
       "      <td>NaN</td>\n",
       "      <td>NaN</td>\n",
       "      <td>NaN</td>\n",
       "      <td>3980.5</td>\n",
       "      <td>0.0</td>\n",
       "      <td>6</td>\n",
       "    </tr>\n",
       "    <tr>\n",
       "      <th>24996</th>\n",
       "      <td>99900</td>\n",
       "      <td>ROSES</td>\n",
       "      <td>13677</td>\n",
       "      <td>74</td>\n",
       "      <td>NaN</td>\n",
       "      <td>NaN</td>\n",
       "      <td>NaN</td>\n",
       "      <td>NaN</td>\n",
       "      <td>13678</td>\n",
       "      <td>28</td>\n",
       "      <td>13679.0</td>\n",
       "      <td>46.0</td>\n",
       "      <td>NaN</td>\n",
       "      <td>NaN</td>\n",
       "      <td>13677.5</td>\n",
       "      <td>0.0</td>\n",
       "      <td>6</td>\n",
       "    </tr>\n",
       "    <tr>\n",
       "      <th>24997</th>\n",
       "      <td>99900</td>\n",
       "      <td>AMETHYSTS</td>\n",
       "      <td>9996</td>\n",
       "      <td>2</td>\n",
       "      <td>9995.0</td>\n",
       "      <td>29.0</td>\n",
       "      <td>NaN</td>\n",
       "      <td>NaN</td>\n",
       "      <td>10004</td>\n",
       "      <td>2</td>\n",
       "      <td>10005.0</td>\n",
       "      <td>29.0</td>\n",
       "      <td>NaN</td>\n",
       "      <td>NaN</td>\n",
       "      <td>10000.0</td>\n",
       "      <td>0.0</td>\n",
       "      <td>6</td>\n",
       "    </tr>\n",
       "    <tr>\n",
       "      <th>24998</th>\n",
       "      <td>99900</td>\n",
       "      <td>STARFRUIT</td>\n",
       "      <td>4898</td>\n",
       "      <td>4</td>\n",
       "      <td>4897.0</td>\n",
       "      <td>31.0</td>\n",
       "      <td>NaN</td>\n",
       "      <td>NaN</td>\n",
       "      <td>4903</td>\n",
       "      <td>2</td>\n",
       "      <td>4904.0</td>\n",
       "      <td>29.0</td>\n",
       "      <td>NaN</td>\n",
       "      <td>NaN</td>\n",
       "      <td>4900.5</td>\n",
       "      <td>0.0</td>\n",
       "      <td>6</td>\n",
       "    </tr>\n",
       "    <tr>\n",
       "      <th>24999</th>\n",
       "      <td>99900</td>\n",
       "      <td>GIFT_BASKET</td>\n",
       "      <td>69157</td>\n",
       "      <td>2</td>\n",
       "      <td>69147.0</td>\n",
       "      <td>2.0</td>\n",
       "      <td>69146.0</td>\n",
       "      <td>15.0</td>\n",
       "      <td>69159</td>\n",
       "      <td>15</td>\n",
       "      <td>69160.0</td>\n",
       "      <td>28.0</td>\n",
       "      <td>NaN</td>\n",
       "      <td>NaN</td>\n",
       "      <td>69158.0</td>\n",
       "      <td>0.0</td>\n",
       "      <td>6</td>\n",
       "    </tr>\n",
       "  </tbody>\n",
       "</table>\n",
       "<p>9000 rows × 17 columns</p>\n",
       "</div>"
      ],
      "text/plain": [
       "       timestamp         product  bid_price_1  bid_volume_1  bid_price_2  \\\n",
       "16000          0       STARFRUIT         4906             2       4905.0   \n",
       "16001          0    STRAWBERRIES         3957           199          NaN   \n",
       "16002          0         COCONUT         9883           133       9882.0   \n",
       "16003          0  COCONUT_COUPON          574            45          NaN   \n",
       "16004          0           ROSES        13712            63          NaN   \n",
       "...          ...             ...          ...           ...          ...   \n",
       "24995      99900    STRAWBERRIES         3980           231          NaN   \n",
       "24996      99900           ROSES        13677            74          NaN   \n",
       "24997      99900       AMETHYSTS         9996             2       9995.0   \n",
       "24998      99900       STARFRUIT         4898             4       4897.0   \n",
       "24999      99900     GIFT_BASKET        69157             2      69147.0   \n",
       "\n",
       "       bid_volume_2  bid_price_3  bid_volume_3  ask_price_1  ask_volume_1  \\\n",
       "16000          20.0          NaN           NaN         4912            22   \n",
       "16001           NaN          NaN           NaN         3959           199   \n",
       "16002          47.0          NaN           NaN         9884           133   \n",
       "16003           NaN          NaN           NaN          575            45   \n",
       "16004           NaN          NaN           NaN        13714            63   \n",
       "...             ...          ...           ...          ...           ...   \n",
       "24995           NaN          NaN           NaN         3981           240   \n",
       "24996           NaN          NaN           NaN        13678            28   \n",
       "24997          29.0          NaN           NaN        10004             2   \n",
       "24998          31.0          NaN           NaN         4903             2   \n",
       "24999           2.0      69146.0          15.0        69159            15   \n",
       "\n",
       "       ask_price_2  ask_volume_2  ask_price_3  ask_volume_3  mid_price  \\\n",
       "16000          NaN           NaN          NaN           NaN     4909.0   \n",
       "16001          NaN           NaN          NaN           NaN     3958.0   \n",
       "16002       9885.0          47.0          NaN           NaN     9883.5   \n",
       "16003          NaN           NaN          NaN           NaN      574.5   \n",
       "16004          NaN           NaN          NaN           NaN    13713.0   \n",
       "...            ...           ...          ...           ...        ...   \n",
       "24995          NaN           NaN          NaN           NaN     3980.5   \n",
       "24996      13679.0          46.0          NaN           NaN    13677.5   \n",
       "24997      10005.0          29.0          NaN           NaN    10000.0   \n",
       "24998       4904.0          29.0          NaN           NaN     4900.5   \n",
       "24999      69160.0          28.0          NaN           NaN    69158.0   \n",
       "\n",
       "       profit_and_loss  round  \n",
       "16000              0.0      6  \n",
       "16001              0.0      6  \n",
       "16002              0.0      6  \n",
       "16003              0.0      6  \n",
       "16004              0.0      6  \n",
       "...                ...    ...  \n",
       "24995              0.0      6  \n",
       "24996              0.0      6  \n",
       "24997              0.0      6  \n",
       "24998              0.0      6  \n",
       "24999              0.0      6  \n",
       "\n",
       "[9000 rows x 17 columns]"
      ]
     },
     "execution_count": 4,
     "metadata": {},
     "output_type": "execute_result"
    }
   ],
   "source": [
    "r5_past = prosperity2_prices.query('day == 5').drop(columns='day')\n",
    "r5_past"
   ]
  },
  {
   "cell_type": "code",
   "execution_count": 5,
   "metadata": {},
   "outputs": [
    {
     "data": {
      "text/html": [
       "<div>\n",
       "<style scoped>\n",
       "    .dataframe tbody tr th:only-of-type {\n",
       "        vertical-align: middle;\n",
       "    }\n",
       "\n",
       "    .dataframe tbody tr th {\n",
       "        vertical-align: top;\n",
       "    }\n",
       "\n",
       "    .dataframe thead th {\n",
       "        text-align: right;\n",
       "    }\n",
       "</style>\n",
       "<table border=\"1\" class=\"dataframe\">\n",
       "  <thead>\n",
       "    <tr style=\"text-align: right;\">\n",
       "      <th></th>\n",
       "      <th>timestamp</th>\n",
       "      <th>product</th>\n",
       "      <th>bid_price_1</th>\n",
       "      <th>bid_volume_1</th>\n",
       "      <th>bid_price_2</th>\n",
       "      <th>bid_volume_2</th>\n",
       "      <th>bid_price_3</th>\n",
       "      <th>bid_volume_3</th>\n",
       "      <th>ask_price_1</th>\n",
       "      <th>ask_volume_1</th>\n",
       "      <th>ask_price_2</th>\n",
       "      <th>ask_volume_2</th>\n",
       "      <th>ask_price_3</th>\n",
       "      <th>ask_volume_3</th>\n",
       "      <th>mid_price</th>\n",
       "      <th>profit_and_loss</th>\n",
       "      <th>round</th>\n",
       "    </tr>\n",
       "  </thead>\n",
       "  <tbody>\n",
       "    <tr>\n",
       "      <th>37000</th>\n",
       "      <td>0</td>\n",
       "      <td>SQUID_INK</td>\n",
       "      <td>1928.0</td>\n",
       "      <td>22.0</td>\n",
       "      <td>NaN</td>\n",
       "      <td>NaN</td>\n",
       "      <td>NaN</td>\n",
       "      <td>NaN</td>\n",
       "      <td>1931</td>\n",
       "      <td>2</td>\n",
       "      <td>1932.0</td>\n",
       "      <td>20.0</td>\n",
       "      <td>NaN</td>\n",
       "      <td>NaN</td>\n",
       "      <td>1929.5</td>\n",
       "      <td>0.0</td>\n",
       "      <td>6</td>\n",
       "    </tr>\n",
       "    <tr>\n",
       "      <th>37001</th>\n",
       "      <td>0</td>\n",
       "      <td>VOLCANIC_ROCK</td>\n",
       "      <td>9920.0</td>\n",
       "      <td>133.0</td>\n",
       "      <td>9919.0</td>\n",
       "      <td>47.0</td>\n",
       "      <td>NaN</td>\n",
       "      <td>NaN</td>\n",
       "      <td>9922</td>\n",
       "      <td>180</td>\n",
       "      <td>NaN</td>\n",
       "      <td>NaN</td>\n",
       "      <td>NaN</td>\n",
       "      <td>NaN</td>\n",
       "      <td>9921.0</td>\n",
       "      <td>0.0</td>\n",
       "      <td>6</td>\n",
       "    </tr>\n",
       "    <tr>\n",
       "      <th>37002</th>\n",
       "      <td>0</td>\n",
       "      <td>MAGNIFICENT_MACARONS</td>\n",
       "      <td>795.0</td>\n",
       "      <td>12.0</td>\n",
       "      <td>793.0</td>\n",
       "      <td>19.0</td>\n",
       "      <td>787.0</td>\n",
       "      <td>20.0</td>\n",
       "      <td>803</td>\n",
       "      <td>6</td>\n",
       "      <td>812.0</td>\n",
       "      <td>20.0</td>\n",
       "      <td>818.0</td>\n",
       "      <td>19.0</td>\n",
       "      <td>799.0</td>\n",
       "      <td>0.0</td>\n",
       "      <td>6</td>\n",
       "    </tr>\n",
       "    <tr>\n",
       "      <th>37003</th>\n",
       "      <td>0</td>\n",
       "      <td>RAINFOREST_RESIN</td>\n",
       "      <td>9992.0</td>\n",
       "      <td>35.0</td>\n",
       "      <td>NaN</td>\n",
       "      <td>NaN</td>\n",
       "      <td>NaN</td>\n",
       "      <td>NaN</td>\n",
       "      <td>10008</td>\n",
       "      <td>35</td>\n",
       "      <td>NaN</td>\n",
       "      <td>NaN</td>\n",
       "      <td>NaN</td>\n",
       "      <td>NaN</td>\n",
       "      <td>10000.0</td>\n",
       "      <td>0.0</td>\n",
       "      <td>6</td>\n",
       "    </tr>\n",
       "    <tr>\n",
       "      <th>37004</th>\n",
       "      <td>0</td>\n",
       "      <td>VOLCANIC_ROCK_VOUCHER_9500</td>\n",
       "      <td>421.0</td>\n",
       "      <td>21.0</td>\n",
       "      <td>NaN</td>\n",
       "      <td>NaN</td>\n",
       "      <td>NaN</td>\n",
       "      <td>NaN</td>\n",
       "      <td>422</td>\n",
       "      <td>21</td>\n",
       "      <td>NaN</td>\n",
       "      <td>NaN</td>\n",
       "      <td>NaN</td>\n",
       "      <td>NaN</td>\n",
       "      <td>421.5</td>\n",
       "      <td>0.0</td>\n",
       "      <td>6</td>\n",
       "    </tr>\n",
       "    <tr>\n",
       "      <th>...</th>\n",
       "      <td>...</td>\n",
       "      <td>...</td>\n",
       "      <td>...</td>\n",
       "      <td>...</td>\n",
       "      <td>...</td>\n",
       "      <td>...</td>\n",
       "      <td>...</td>\n",
       "      <td>...</td>\n",
       "      <td>...</td>\n",
       "      <td>...</td>\n",
       "      <td>...</td>\n",
       "      <td>...</td>\n",
       "      <td>...</td>\n",
       "      <td>...</td>\n",
       "      <td>...</td>\n",
       "      <td>...</td>\n",
       "      <td>...</td>\n",
       "    </tr>\n",
       "    <tr>\n",
       "      <th>51995</th>\n",
       "      <td>99900</td>\n",
       "      <td>VOLCANIC_ROCK</td>\n",
       "      <td>9914.0</td>\n",
       "      <td>144.0</td>\n",
       "      <td>9913.0</td>\n",
       "      <td>76.0</td>\n",
       "      <td>NaN</td>\n",
       "      <td>NaN</td>\n",
       "      <td>9916</td>\n",
       "      <td>220</td>\n",
       "      <td>NaN</td>\n",
       "      <td>NaN</td>\n",
       "      <td>NaN</td>\n",
       "      <td>NaN</td>\n",
       "      <td>9915.0</td>\n",
       "      <td>0.0</td>\n",
       "      <td>6</td>\n",
       "    </tr>\n",
       "    <tr>\n",
       "      <th>51996</th>\n",
       "      <td>99900</td>\n",
       "      <td>VOLCANIC_ROCK_VOUCHER_10500</td>\n",
       "      <td>0.0</td>\n",
       "      <td>17.0</td>\n",
       "      <td>NaN</td>\n",
       "      <td>NaN</td>\n",
       "      <td>NaN</td>\n",
       "      <td>NaN</td>\n",
       "      <td>2</td>\n",
       "      <td>17</td>\n",
       "      <td>NaN</td>\n",
       "      <td>NaN</td>\n",
       "      <td>NaN</td>\n",
       "      <td>NaN</td>\n",
       "      <td>1.0</td>\n",
       "      <td>0.0</td>\n",
       "      <td>6</td>\n",
       "    </tr>\n",
       "    <tr>\n",
       "      <th>51997</th>\n",
       "      <td>99900</td>\n",
       "      <td>PICNIC_BASKET2</td>\n",
       "      <td>30157.0</td>\n",
       "      <td>4.0</td>\n",
       "      <td>30153.0</td>\n",
       "      <td>2.0</td>\n",
       "      <td>30152.0</td>\n",
       "      <td>43.0</td>\n",
       "      <td>30158</td>\n",
       "      <td>17</td>\n",
       "      <td>30159.0</td>\n",
       "      <td>28.0</td>\n",
       "      <td>NaN</td>\n",
       "      <td>NaN</td>\n",
       "      <td>30157.5</td>\n",
       "      <td>0.0</td>\n",
       "      <td>6</td>\n",
       "    </tr>\n",
       "    <tr>\n",
       "      <th>51998</th>\n",
       "      <td>99900</td>\n",
       "      <td>VOLCANIC_ROCK_VOUCHER_10000</td>\n",
       "      <td>31.0</td>\n",
       "      <td>17.0</td>\n",
       "      <td>NaN</td>\n",
       "      <td>NaN</td>\n",
       "      <td>NaN</td>\n",
       "      <td>NaN</td>\n",
       "      <td>32</td>\n",
       "      <td>17</td>\n",
       "      <td>NaN</td>\n",
       "      <td>NaN</td>\n",
       "      <td>NaN</td>\n",
       "      <td>NaN</td>\n",
       "      <td>31.5</td>\n",
       "      <td>0.0</td>\n",
       "      <td>6</td>\n",
       "    </tr>\n",
       "    <tr>\n",
       "      <th>51999</th>\n",
       "      <td>99900</td>\n",
       "      <td>PICNIC_BASKET1</td>\n",
       "      <td>58357.0</td>\n",
       "      <td>2.0</td>\n",
       "      <td>58348.0</td>\n",
       "      <td>2.0</td>\n",
       "      <td>58347.0</td>\n",
       "      <td>15.0</td>\n",
       "      <td>58358</td>\n",
       "      <td>15</td>\n",
       "      <td>58359.0</td>\n",
       "      <td>28.0</td>\n",
       "      <td>NaN</td>\n",
       "      <td>NaN</td>\n",
       "      <td>58357.5</td>\n",
       "      <td>0.0</td>\n",
       "      <td>6</td>\n",
       "    </tr>\n",
       "  </tbody>\n",
       "</table>\n",
       "<p>15000 rows × 17 columns</p>\n",
       "</div>"
      ],
      "text/plain": [
       "       timestamp                      product  bid_price_1  bid_volume_1  \\\n",
       "37000          0                    SQUID_INK       1928.0          22.0   \n",
       "37001          0                VOLCANIC_ROCK       9920.0         133.0   \n",
       "37002          0         MAGNIFICENT_MACARONS        795.0          12.0   \n",
       "37003          0             RAINFOREST_RESIN       9992.0          35.0   \n",
       "37004          0   VOLCANIC_ROCK_VOUCHER_9500        421.0          21.0   \n",
       "...          ...                          ...          ...           ...   \n",
       "51995      99900                VOLCANIC_ROCK       9914.0         144.0   \n",
       "51996      99900  VOLCANIC_ROCK_VOUCHER_10500          0.0          17.0   \n",
       "51997      99900               PICNIC_BASKET2      30157.0           4.0   \n",
       "51998      99900  VOLCANIC_ROCK_VOUCHER_10000         31.0          17.0   \n",
       "51999      99900               PICNIC_BASKET1      58357.0           2.0   \n",
       "\n",
       "       bid_price_2  bid_volume_2  bid_price_3  bid_volume_3  ask_price_1  \\\n",
       "37000          NaN           NaN          NaN           NaN         1931   \n",
       "37001       9919.0          47.0          NaN           NaN         9922   \n",
       "37002        793.0          19.0        787.0          20.0          803   \n",
       "37003          NaN           NaN          NaN           NaN        10008   \n",
       "37004          NaN           NaN          NaN           NaN          422   \n",
       "...            ...           ...          ...           ...          ...   \n",
       "51995       9913.0          76.0          NaN           NaN         9916   \n",
       "51996          NaN           NaN          NaN           NaN            2   \n",
       "51997      30153.0           2.0      30152.0          43.0        30158   \n",
       "51998          NaN           NaN          NaN           NaN           32   \n",
       "51999      58348.0           2.0      58347.0          15.0        58358   \n",
       "\n",
       "       ask_volume_1  ask_price_2  ask_volume_2  ask_price_3  ask_volume_3  \\\n",
       "37000             2       1932.0          20.0          NaN           NaN   \n",
       "37001           180          NaN           NaN          NaN           NaN   \n",
       "37002             6        812.0          20.0        818.0          19.0   \n",
       "37003            35          NaN           NaN          NaN           NaN   \n",
       "37004            21          NaN           NaN          NaN           NaN   \n",
       "...             ...          ...           ...          ...           ...   \n",
       "51995           220          NaN           NaN          NaN           NaN   \n",
       "51996            17          NaN           NaN          NaN           NaN   \n",
       "51997            17      30159.0          28.0          NaN           NaN   \n",
       "51998            17          NaN           NaN          NaN           NaN   \n",
       "51999            15      58359.0          28.0          NaN           NaN   \n",
       "\n",
       "       mid_price  profit_and_loss  round  \n",
       "37000     1929.5              0.0      6  \n",
       "37001     9921.0              0.0      6  \n",
       "37002      799.0              0.0      6  \n",
       "37003    10000.0              0.0      6  \n",
       "37004      421.5              0.0      6  \n",
       "...          ...              ...    ...  \n",
       "51995     9915.0              0.0      6  \n",
       "51996        1.0              0.0      6  \n",
       "51997    30157.5              0.0      6  \n",
       "51998       31.5              0.0      6  \n",
       "51999    58357.5              0.0      6  \n",
       "\n",
       "[15000 rows x 17 columns]"
      ]
     },
     "execution_count": 5,
     "metadata": {},
     "output_type": "execute_result"
    }
   ],
   "source": [
    "r5_present = prosperity3_prices.query('day == 5').drop(columns='day')\n",
    "r5_present"
   ]
  },
  {
   "cell_type": "code",
   "execution_count": 6,
   "metadata": {},
   "outputs": [
    {
     "data": {
      "text/html": [
       "<div>\n",
       "<style scoped>\n",
       "    .dataframe tbody tr th:only-of-type {\n",
       "        vertical-align: middle;\n",
       "    }\n",
       "\n",
       "    .dataframe tbody tr th {\n",
       "        vertical-align: top;\n",
       "    }\n",
       "\n",
       "    .dataframe thead th {\n",
       "        text-align: right;\n",
       "    }\n",
       "</style>\n",
       "<table border=\"1\" class=\"dataframe\">\n",
       "  <thead>\n",
       "    <tr style=\"text-align: right;\">\n",
       "      <th>product</th>\n",
       "      <th>AMETHYSTS</th>\n",
       "      <th>CHOCOLATE</th>\n",
       "      <th>COCONUT</th>\n",
       "      <th>COCONUT_COUPON</th>\n",
       "      <th>GIFT_BASKET</th>\n",
       "      <th>ORCHIDS</th>\n",
       "      <th>ROSES</th>\n",
       "      <th>STARFRUIT</th>\n",
       "      <th>STRAWBERRIES</th>\n",
       "    </tr>\n",
       "    <tr>\n",
       "      <th>timestamp</th>\n",
       "      <th></th>\n",
       "      <th></th>\n",
       "      <th></th>\n",
       "      <th></th>\n",
       "      <th></th>\n",
       "      <th></th>\n",
       "      <th></th>\n",
       "      <th></th>\n",
       "      <th></th>\n",
       "    </tr>\n",
       "  </thead>\n",
       "  <tbody>\n",
       "    <tr>\n",
       "      <th>0</th>\n",
       "      <td>10001.0</td>\n",
       "      <td>7832.5</td>\n",
       "      <td>9883.5</td>\n",
       "      <td>574.5</td>\n",
       "      <td>69146.5</td>\n",
       "      <td>1103.0</td>\n",
       "      <td>13713.0</td>\n",
       "      <td>4909.0</td>\n",
       "      <td>3958.0</td>\n",
       "    </tr>\n",
       "    <tr>\n",
       "      <th>100</th>\n",
       "      <td>9999.0</td>\n",
       "      <td>7831.5</td>\n",
       "      <td>9885.5</td>\n",
       "      <td>575.5</td>\n",
       "      <td>69133.0</td>\n",
       "      <td>1103.0</td>\n",
       "      <td>13712.5</td>\n",
       "      <td>4907.0</td>\n",
       "      <td>3958.0</td>\n",
       "    </tr>\n",
       "    <tr>\n",
       "      <th>200</th>\n",
       "      <td>10000.0</td>\n",
       "      <td>7834.0</td>\n",
       "      <td>9885.0</td>\n",
       "      <td>575.5</td>\n",
       "      <td>69157.5</td>\n",
       "      <td>1103.0</td>\n",
       "      <td>13713.5</td>\n",
       "      <td>4909.0</td>\n",
       "      <td>3958.0</td>\n",
       "    </tr>\n",
       "    <tr>\n",
       "      <th>300</th>\n",
       "      <td>10000.0</td>\n",
       "      <td>7834.0</td>\n",
       "      <td>9886.5</td>\n",
       "      <td>577.0</td>\n",
       "      <td>69141.0</td>\n",
       "      <td>1102.0</td>\n",
       "      <td>13711.5</td>\n",
       "      <td>4909.0</td>\n",
       "      <td>3957.5</td>\n",
       "    </tr>\n",
       "    <tr>\n",
       "      <th>400</th>\n",
       "      <td>10000.0</td>\n",
       "      <td>7834.5</td>\n",
       "      <td>9885.0</td>\n",
       "      <td>576.5</td>\n",
       "      <td>69137.0</td>\n",
       "      <td>1102.0</td>\n",
       "      <td>13707.5</td>\n",
       "      <td>4909.5</td>\n",
       "      <td>3958.0</td>\n",
       "    </tr>\n",
       "    <tr>\n",
       "      <th>...</th>\n",
       "      <td>...</td>\n",
       "      <td>...</td>\n",
       "      <td>...</td>\n",
       "      <td>...</td>\n",
       "      <td>...</td>\n",
       "      <td>...</td>\n",
       "      <td>...</td>\n",
       "      <td>...</td>\n",
       "      <td>...</td>\n",
       "    </tr>\n",
       "    <tr>\n",
       "      <th>99500</th>\n",
       "      <td>10001.0</td>\n",
       "      <td>7831.5</td>\n",
       "      <td>9876.0</td>\n",
       "      <td>589.5</td>\n",
       "      <td>69164.5</td>\n",
       "      <td>1117.0</td>\n",
       "      <td>13680.5</td>\n",
       "      <td>4899.0</td>\n",
       "      <td>3980.5</td>\n",
       "    </tr>\n",
       "    <tr>\n",
       "      <th>99600</th>\n",
       "      <td>10000.0</td>\n",
       "      <td>7830.5</td>\n",
       "      <td>9877.0</td>\n",
       "      <td>590.5</td>\n",
       "      <td>69169.5</td>\n",
       "      <td>1116.5</td>\n",
       "      <td>13679.0</td>\n",
       "      <td>4899.0</td>\n",
       "      <td>3980.5</td>\n",
       "    </tr>\n",
       "    <tr>\n",
       "      <th>99700</th>\n",
       "      <td>9998.5</td>\n",
       "      <td>7830.5</td>\n",
       "      <td>9875.5</td>\n",
       "      <td>589.5</td>\n",
       "      <td>69163.0</td>\n",
       "      <td>1116.0</td>\n",
       "      <td>13680.5</td>\n",
       "      <td>4899.0</td>\n",
       "      <td>3980.5</td>\n",
       "    </tr>\n",
       "    <tr>\n",
       "      <th>99800</th>\n",
       "      <td>10003.5</td>\n",
       "      <td>7829.5</td>\n",
       "      <td>9875.5</td>\n",
       "      <td>589.0</td>\n",
       "      <td>69153.5</td>\n",
       "      <td>1115.5</td>\n",
       "      <td>13676.0</td>\n",
       "      <td>4900.0</td>\n",
       "      <td>3980.5</td>\n",
       "    </tr>\n",
       "    <tr>\n",
       "      <th>99900</th>\n",
       "      <td>10000.0</td>\n",
       "      <td>7828.5</td>\n",
       "      <td>9875.5</td>\n",
       "      <td>588.5</td>\n",
       "      <td>69158.0</td>\n",
       "      <td>1115.0</td>\n",
       "      <td>13677.5</td>\n",
       "      <td>4900.5</td>\n",
       "      <td>3980.5</td>\n",
       "    </tr>\n",
       "  </tbody>\n",
       "</table>\n",
       "<p>1000 rows × 9 columns</p>\n",
       "</div>"
      ],
      "text/plain": [
       "product    AMETHYSTS  CHOCOLATE  COCONUT  COCONUT_COUPON  GIFT_BASKET  \\\n",
       "timestamp                                                               \n",
       "0            10001.0     7832.5   9883.5           574.5      69146.5   \n",
       "100           9999.0     7831.5   9885.5           575.5      69133.0   \n",
       "200          10000.0     7834.0   9885.0           575.5      69157.5   \n",
       "300          10000.0     7834.0   9886.5           577.0      69141.0   \n",
       "400          10000.0     7834.5   9885.0           576.5      69137.0   \n",
       "...              ...        ...      ...             ...          ...   \n",
       "99500        10001.0     7831.5   9876.0           589.5      69164.5   \n",
       "99600        10000.0     7830.5   9877.0           590.5      69169.5   \n",
       "99700         9998.5     7830.5   9875.5           589.5      69163.0   \n",
       "99800        10003.5     7829.5   9875.5           589.0      69153.5   \n",
       "99900        10000.0     7828.5   9875.5           588.5      69158.0   \n",
       "\n",
       "product    ORCHIDS    ROSES  STARFRUIT  STRAWBERRIES  \n",
       "timestamp                                             \n",
       "0           1103.0  13713.0     4909.0        3958.0  \n",
       "100         1103.0  13712.5     4907.0        3958.0  \n",
       "200         1103.0  13713.5     4909.0        3958.0  \n",
       "300         1102.0  13711.5     4909.0        3957.5  \n",
       "400         1102.0  13707.5     4909.5        3958.0  \n",
       "...            ...      ...        ...           ...  \n",
       "99500       1117.0  13680.5     4899.0        3980.5  \n",
       "99600       1116.5  13679.0     4899.0        3980.5  \n",
       "99700       1116.0  13680.5     4899.0        3980.5  \n",
       "99800       1115.5  13676.0     4900.0        3980.5  \n",
       "99900       1115.0  13677.5     4900.5        3980.5  \n",
       "\n",
       "[1000 rows x 9 columns]"
      ]
     },
     "execution_count": 6,
     "metadata": {},
     "output_type": "execute_result"
    }
   ],
   "source": [
    "mid_r5_past = r5_past.pivot(index='timestamp', columns='product', values='mid_price')\n",
    "mid_r5_past"
   ]
  },
  {
   "cell_type": "code",
   "execution_count": 7,
   "metadata": {},
   "outputs": [
    {
     "data": {
      "text/html": [
       "<div>\n",
       "<style scoped>\n",
       "    .dataframe tbody tr th:only-of-type {\n",
       "        vertical-align: middle;\n",
       "    }\n",
       "\n",
       "    .dataframe tbody tr th {\n",
       "        vertical-align: top;\n",
       "    }\n",
       "\n",
       "    .dataframe thead th {\n",
       "        text-align: right;\n",
       "    }\n",
       "</style>\n",
       "<table border=\"1\" class=\"dataframe\">\n",
       "  <thead>\n",
       "    <tr style=\"text-align: right;\">\n",
       "      <th>product</th>\n",
       "      <th>CROISSANTS</th>\n",
       "      <th>DJEMBES</th>\n",
       "      <th>JAMS</th>\n",
       "      <th>KELP</th>\n",
       "      <th>MAGNIFICENT_MACARONS</th>\n",
       "      <th>PICNIC_BASKET1</th>\n",
       "      <th>PICNIC_BASKET2</th>\n",
       "      <th>RAINFOREST_RESIN</th>\n",
       "      <th>SQUID_INK</th>\n",
       "      <th>VOLCANIC_ROCK</th>\n",
       "      <th>VOLCANIC_ROCK_VOUCHER_10000</th>\n",
       "      <th>VOLCANIC_ROCK_VOUCHER_10250</th>\n",
       "      <th>VOLCANIC_ROCK_VOUCHER_10500</th>\n",
       "      <th>VOLCANIC_ROCK_VOUCHER_9500</th>\n",
       "      <th>VOLCANIC_ROCK_VOUCHER_9750</th>\n",
       "    </tr>\n",
       "    <tr>\n",
       "      <th>timestamp</th>\n",
       "      <th></th>\n",
       "      <th></th>\n",
       "      <th></th>\n",
       "      <th></th>\n",
       "      <th></th>\n",
       "      <th></th>\n",
       "      <th></th>\n",
       "      <th></th>\n",
       "      <th></th>\n",
       "      <th></th>\n",
       "      <th></th>\n",
       "      <th></th>\n",
       "      <th></th>\n",
       "      <th></th>\n",
       "      <th></th>\n",
       "    </tr>\n",
       "  </thead>\n",
       "  <tbody>\n",
       "    <tr>\n",
       "      <th>0</th>\n",
       "      <td>4296.5</td>\n",
       "      <td>13372.5</td>\n",
       "      <td>6446.5</td>\n",
       "      <td>2038.0</td>\n",
       "      <td>799.0</td>\n",
       "      <td>58334.5</td>\n",
       "      <td>30131.5</td>\n",
       "      <td>10000.0</td>\n",
       "      <td>1929.5</td>\n",
       "      <td>9921.0</td>\n",
       "      <td>34.5</td>\n",
       "      <td>2.5</td>\n",
       "      <td>1.0</td>\n",
       "      <td>421.5</td>\n",
       "      <td>186.5</td>\n",
       "    </tr>\n",
       "    <tr>\n",
       "      <th>100</th>\n",
       "      <td>4296.5</td>\n",
       "      <td>13373.5</td>\n",
       "      <td>6446.0</td>\n",
       "      <td>2036.5</td>\n",
       "      <td>793.0</td>\n",
       "      <td>58335.5</td>\n",
       "      <td>30132.5</td>\n",
       "      <td>10000.0</td>\n",
       "      <td>1924.5</td>\n",
       "      <td>9919.5</td>\n",
       "      <td>32.5</td>\n",
       "      <td>2.5</td>\n",
       "      <td>1.0</td>\n",
       "      <td>420.5</td>\n",
       "      <td>184.5</td>\n",
       "    </tr>\n",
       "    <tr>\n",
       "      <th>200</th>\n",
       "      <td>4296.5</td>\n",
       "      <td>13372.5</td>\n",
       "      <td>6446.0</td>\n",
       "      <td>2038.0</td>\n",
       "      <td>791.0</td>\n",
       "      <td>58334.5</td>\n",
       "      <td>30133.5</td>\n",
       "      <td>10000.0</td>\n",
       "      <td>1928.5</td>\n",
       "      <td>9919.5</td>\n",
       "      <td>34.5</td>\n",
       "      <td>2.5</td>\n",
       "      <td>1.0</td>\n",
       "      <td>420.5</td>\n",
       "      <td>183.5</td>\n",
       "    </tr>\n",
       "    <tr>\n",
       "      <th>300</th>\n",
       "      <td>4296.5</td>\n",
       "      <td>13373.0</td>\n",
       "      <td>6446.5</td>\n",
       "      <td>2037.5</td>\n",
       "      <td>789.0</td>\n",
       "      <td>58340.5</td>\n",
       "      <td>30127.5</td>\n",
       "      <td>10000.0</td>\n",
       "      <td>1927.5</td>\n",
       "      <td>9919.0</td>\n",
       "      <td>33.5</td>\n",
       "      <td>2.5</td>\n",
       "      <td>1.5</td>\n",
       "      <td>420.0</td>\n",
       "      <td>182.5</td>\n",
       "    </tr>\n",
       "    <tr>\n",
       "      <th>400</th>\n",
       "      <td>4296.0</td>\n",
       "      <td>13372.5</td>\n",
       "      <td>6446.5</td>\n",
       "      <td>2037.5</td>\n",
       "      <td>784.0</td>\n",
       "      <td>58335.5</td>\n",
       "      <td>30126.0</td>\n",
       "      <td>10000.0</td>\n",
       "      <td>1928.5</td>\n",
       "      <td>9917.5</td>\n",
       "      <td>30.5</td>\n",
       "      <td>2.5</td>\n",
       "      <td>1.0</td>\n",
       "      <td>418.5</td>\n",
       "      <td>183.5</td>\n",
       "    </tr>\n",
       "    <tr>\n",
       "      <th>...</th>\n",
       "      <td>...</td>\n",
       "      <td>...</td>\n",
       "      <td>...</td>\n",
       "      <td>...</td>\n",
       "      <td>...</td>\n",
       "      <td>...</td>\n",
       "      <td>...</td>\n",
       "      <td>...</td>\n",
       "      <td>...</td>\n",
       "      <td>...</td>\n",
       "      <td>...</td>\n",
       "      <td>...</td>\n",
       "      <td>...</td>\n",
       "      <td>...</td>\n",
       "      <td>...</td>\n",
       "    </tr>\n",
       "    <tr>\n",
       "      <th>99500</th>\n",
       "      <td>4293.0</td>\n",
       "      <td>13354.0</td>\n",
       "      <td>6447.5</td>\n",
       "      <td>2033.5</td>\n",
       "      <td>720.0</td>\n",
       "      <td>58350.5</td>\n",
       "      <td>30158.5</td>\n",
       "      <td>10000.0</td>\n",
       "      <td>2030.0</td>\n",
       "      <td>9911.0</td>\n",
       "      <td>30.5</td>\n",
       "      <td>2.5</td>\n",
       "      <td>1.0</td>\n",
       "      <td>412.5</td>\n",
       "      <td>175.5</td>\n",
       "    </tr>\n",
       "    <tr>\n",
       "      <th>99600</th>\n",
       "      <td>4292.5</td>\n",
       "      <td>13354.5</td>\n",
       "      <td>6447.0</td>\n",
       "      <td>2033.5</td>\n",
       "      <td>723.0</td>\n",
       "      <td>58352.5</td>\n",
       "      <td>30159.0</td>\n",
       "      <td>9997.5</td>\n",
       "      <td>2031.5</td>\n",
       "      <td>9912.5</td>\n",
       "      <td>29.5</td>\n",
       "      <td>2.5</td>\n",
       "      <td>1.0</td>\n",
       "      <td>414.5</td>\n",
       "      <td>176.5</td>\n",
       "    </tr>\n",
       "    <tr>\n",
       "      <th>99700</th>\n",
       "      <td>4292.5</td>\n",
       "      <td>13354.5</td>\n",
       "      <td>6447.0</td>\n",
       "      <td>2033.5</td>\n",
       "      <td>719.0</td>\n",
       "      <td>58352.5</td>\n",
       "      <td>30157.0</td>\n",
       "      <td>9997.5</td>\n",
       "      <td>2029.5</td>\n",
       "      <td>9914.0</td>\n",
       "      <td>30.0</td>\n",
       "      <td>2.0</td>\n",
       "      <td>0.5</td>\n",
       "      <td>414.0</td>\n",
       "      <td>177.0</td>\n",
       "    </tr>\n",
       "    <tr>\n",
       "      <th>99800</th>\n",
       "      <td>4292.5</td>\n",
       "      <td>13354.0</td>\n",
       "      <td>6447.0</td>\n",
       "      <td>2033.5</td>\n",
       "      <td>721.0</td>\n",
       "      <td>58358.5</td>\n",
       "      <td>30158.0</td>\n",
       "      <td>10000.0</td>\n",
       "      <td>2030.5</td>\n",
       "      <td>9914.5</td>\n",
       "      <td>32.5</td>\n",
       "      <td>2.5</td>\n",
       "      <td>1.0</td>\n",
       "      <td>415.5</td>\n",
       "      <td>178.5</td>\n",
       "    </tr>\n",
       "    <tr>\n",
       "      <th>99900</th>\n",
       "      <td>4292.5</td>\n",
       "      <td>13354.5</td>\n",
       "      <td>6445.5</td>\n",
       "      <td>2033.5</td>\n",
       "      <td>718.0</td>\n",
       "      <td>58357.5</td>\n",
       "      <td>30157.5</td>\n",
       "      <td>10000.0</td>\n",
       "      <td>2029.5</td>\n",
       "      <td>9915.0</td>\n",
       "      <td>31.5</td>\n",
       "      <td>2.5</td>\n",
       "      <td>1.0</td>\n",
       "      <td>416.5</td>\n",
       "      <td>179.5</td>\n",
       "    </tr>\n",
       "  </tbody>\n",
       "</table>\n",
       "<p>1000 rows × 15 columns</p>\n",
       "</div>"
      ],
      "text/plain": [
       "product    CROISSANTS  DJEMBES    JAMS    KELP  MAGNIFICENT_MACARONS  \\\n",
       "timestamp                                                              \n",
       "0              4296.5  13372.5  6446.5  2038.0                 799.0   \n",
       "100            4296.5  13373.5  6446.0  2036.5                 793.0   \n",
       "200            4296.5  13372.5  6446.0  2038.0                 791.0   \n",
       "300            4296.5  13373.0  6446.5  2037.5                 789.0   \n",
       "400            4296.0  13372.5  6446.5  2037.5                 784.0   \n",
       "...               ...      ...     ...     ...                   ...   \n",
       "99500          4293.0  13354.0  6447.5  2033.5                 720.0   \n",
       "99600          4292.5  13354.5  6447.0  2033.5                 723.0   \n",
       "99700          4292.5  13354.5  6447.0  2033.5                 719.0   \n",
       "99800          4292.5  13354.0  6447.0  2033.5                 721.0   \n",
       "99900          4292.5  13354.5  6445.5  2033.5                 718.0   \n",
       "\n",
       "product    PICNIC_BASKET1  PICNIC_BASKET2  RAINFOREST_RESIN  SQUID_INK  \\\n",
       "timestamp                                                                \n",
       "0                 58334.5         30131.5           10000.0     1929.5   \n",
       "100               58335.5         30132.5           10000.0     1924.5   \n",
       "200               58334.5         30133.5           10000.0     1928.5   \n",
       "300               58340.5         30127.5           10000.0     1927.5   \n",
       "400               58335.5         30126.0           10000.0     1928.5   \n",
       "...                   ...             ...               ...        ...   \n",
       "99500             58350.5         30158.5           10000.0     2030.0   \n",
       "99600             58352.5         30159.0            9997.5     2031.5   \n",
       "99700             58352.5         30157.0            9997.5     2029.5   \n",
       "99800             58358.5         30158.0           10000.0     2030.5   \n",
       "99900             58357.5         30157.5           10000.0     2029.5   \n",
       "\n",
       "product    VOLCANIC_ROCK  VOLCANIC_ROCK_VOUCHER_10000  \\\n",
       "timestamp                                               \n",
       "0                 9921.0                         34.5   \n",
       "100               9919.5                         32.5   \n",
       "200               9919.5                         34.5   \n",
       "300               9919.0                         33.5   \n",
       "400               9917.5                         30.5   \n",
       "...                  ...                          ...   \n",
       "99500             9911.0                         30.5   \n",
       "99600             9912.5                         29.5   \n",
       "99700             9914.0                         30.0   \n",
       "99800             9914.5                         32.5   \n",
       "99900             9915.0                         31.5   \n",
       "\n",
       "product    VOLCANIC_ROCK_VOUCHER_10250  VOLCANIC_ROCK_VOUCHER_10500  \\\n",
       "timestamp                                                             \n",
       "0                                  2.5                          1.0   \n",
       "100                                2.5                          1.0   \n",
       "200                                2.5                          1.0   \n",
       "300                                2.5                          1.5   \n",
       "400                                2.5                          1.0   \n",
       "...                                ...                          ...   \n",
       "99500                              2.5                          1.0   \n",
       "99600                              2.5                          1.0   \n",
       "99700                              2.0                          0.5   \n",
       "99800                              2.5                          1.0   \n",
       "99900                              2.5                          1.0   \n",
       "\n",
       "product    VOLCANIC_ROCK_VOUCHER_9500  VOLCANIC_ROCK_VOUCHER_9750  \n",
       "timestamp                                                          \n",
       "0                               421.5                       186.5  \n",
       "100                             420.5                       184.5  \n",
       "200                             420.5                       183.5  \n",
       "300                             420.0                       182.5  \n",
       "400                             418.5                       183.5  \n",
       "...                               ...                         ...  \n",
       "99500                           412.5                       175.5  \n",
       "99600                           414.5                       176.5  \n",
       "99700                           414.0                       177.0  \n",
       "99800                           415.5                       178.5  \n",
       "99900                           416.5                       179.5  \n",
       "\n",
       "[1000 rows x 15 columns]"
      ]
     },
     "execution_count": 7,
     "metadata": {},
     "output_type": "execute_result"
    }
   ],
   "source": [
    "mid_r5_present = r5_present.pivot(index='timestamp', columns='product', values='mid_price')\n",
    "mid_r5_present"
   ]
  },
  {
   "cell_type": "code",
   "execution_count": 8,
   "metadata": {},
   "outputs": [],
   "source": [
    "import plotly.graph_objects as go\n",
    "\n",
    "def compare_products(past_df, present_df, product1, product2, plot=False):\n",
    "    if plot:\n",
    "        fig = go.Figure()\n",
    "\n",
    "        # Add ORCHIDS from mid_r5_past (left y-axis)\n",
    "        fig.add_trace(\n",
    "            go.Scatter(\n",
    "                x=past_df.index,  # or use a time column if available\n",
    "                y=past_df[product1],\n",
    "                name=f'{product1} (Past)',\n",
    "                yaxis='y1',\n",
    "                line=dict(color='blue')\n",
    "        )\n",
    "        )\n",
    "\n",
    "        # Add VOLCANIC_ROCK from mid_r5_present (right y-axis)\n",
    "        fig.add_trace(\n",
    "            go.Scatter(\n",
    "                x=present_df.index,  # or use a time column if available\n",
    "                y=present_df[product2],\n",
    "                name=f'{product2} (Present)',\n",
    "                yaxis='y2',\n",
    "                line=dict(color='red')\n",
    "            )\n",
    "        )\n",
    "\n",
    "        # Update layout for dual y-axes\n",
    "        fig.update_layout(\n",
    "            title=f'{product1} (Past) vs {product2} (Present)',\n",
    "            xaxis=dict(title='Index or Time'),\n",
    "            yaxis=dict(\n",
    "                title=dict(text=product1, font=dict(color='blue')),\n",
    "                tickfont=dict(color='blue')\n",
    "            ),\n",
    "            yaxis2=dict(\n",
    "                title=dict(text=product2, font=dict(color='red')),\n",
    "                tickfont=dict(color='red'),\n",
    "                anchor='x',\n",
    "                overlaying='y',\n",
    "                side='right'\n",
    "            ),\n",
    "            legend=dict(x=0.01, y=0.99)\n",
    "        )\n",
    "\n",
    "        fig.show()\n",
    "    # calculate correlation between the two products\n",
    "    return past_df[product1].corr(present_df[product2])"
   ]
  },
  {
   "cell_type": "code",
   "execution_count": 9,
   "metadata": {},
   "outputs": [
    {
     "data": {
      "text/plain": [
       "np.float64(-0.43432771110232227)"
      ]
     },
     "execution_count": 9,
     "metadata": {},
     "output_type": "execute_result"
    }
   ],
   "source": [
    "compare_products(mid_r5_past, mid_r5_present, 'ORCHIDS', 'VOLCANIC_ROCK')"
   ]
  },
  {
   "cell_type": "code",
   "execution_count": 10,
   "metadata": {},
   "outputs": [
    {
     "data": {
      "text/plain": [
       "np.float64(0.3885109057198476)"
      ]
     },
     "execution_count": 10,
     "metadata": {},
     "output_type": "execute_result"
    }
   ],
   "source": [
    "compare_products(mid_r5_past, mid_r5_present, 'COCONUT_COUPON', 'VOLCANIC_ROCK_VOUCHER_10000')"
   ]
  },
  {
   "cell_type": "code",
   "execution_count": 11,
   "metadata": {},
   "outputs": [
    {
     "data": {
      "text/plain": [
       "ROSES         CROISSANTS              0.935200\n",
       "              PICNIC_BASKET1          0.882239\n",
       "              PICNIC_BASKET2          0.881745\n",
       "COCONUT       PICNIC_BASKET1          0.862427\n",
       "              PICNIC_BASKET2          0.835222\n",
       "                                        ...   \n",
       "STRAWBERRIES  MAGNIFICENT_MACARONS   -0.703395\n",
       "              CROISSANTS             -0.774921\n",
       "ORCHIDS       JAMS                   -0.798591\n",
       "STARFRUIT     SQUID_INK              -0.810907\n",
       "STRAWBERRIES  DJEMBES                -0.825766\n",
       "Length: 135, dtype: float64"
      ]
     },
     "execution_count": 11,
     "metadata": {},
     "output_type": "execute_result"
    }
   ],
   "source": [
    "corrs = {}\n",
    "for past_product in mid_r5_past.columns:\n",
    "    for present_product in mid_r5_present.columns:\n",
    "        corrs[(past_product, present_product)] = compare_products(mid_r5_past, mid_r5_present, past_product, present_product)\n",
    "corrs = pd.Series(corrs).sort_values(ascending=False)\n",
    "corrs"
   ]
  },
  {
   "cell_type": "code",
   "execution_count": 12,
   "metadata": {},
   "outputs": [
    {
     "data": {
      "application/vnd.plotly.v1+json": {
       "config": {
        "plotlyServerURL": "https://plot.ly"
       },
       "data": [
        {
         "line": {
          "color": "blue"
         },
         "name": "ROSES (Past)",
         "type": "scatter",
         "x": {
          "bdata": "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",
          "dtype": "i4"
         },
         "y": {
          "bdata": "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",
          "dtype": "f8"
         },
         "yaxis": "y"
        },
        {
         "line": {
          "color": "red"
         },
         "name": "CROISSANTS (Present)",
         "type": "scatter",
         "x": {
          "bdata": "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",
          "dtype": "i4"
         },
         "y": {
          "bdata": "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",
          "dtype": "f8"
         },
         "yaxis": "y2"
        }
       ],
       "layout": {
        "legend": {
         "x": 0.01,
         "y": 0.99
        },
        "template": {
         "data": {
          "bar": [
           {
            "error_x": {
             "color": "#2a3f5f"
            },
            "error_y": {
             "color": "#2a3f5f"
            },
            "marker": {
             "line": {
              "color": "#E5ECF6",
              "width": 0.5
             },
             "pattern": {
              "fillmode": "overlay",
              "size": 10,
              "solidity": 0.2
             }
            },
            "type": "bar"
           }
          ],
          "barpolar": [
           {
            "marker": {
             "line": {
              "color": "#E5ECF6",
              "width": 0.5
             },
             "pattern": {
              "fillmode": "overlay",
              "size": 10,
              "solidity": 0.2
             }
            },
            "type": "barpolar"
           }
          ],
          "carpet": [
           {
            "aaxis": {
             "endlinecolor": "#2a3f5f",
             "gridcolor": "white",
             "linecolor": "white",
             "minorgridcolor": "white",
             "startlinecolor": "#2a3f5f"
            },
            "baxis": {
             "endlinecolor": "#2a3f5f",
             "gridcolor": "white",
             "linecolor": "white",
             "minorgridcolor": "white",
             "startlinecolor": "#2a3f5f"
            },
            "type": "carpet"
           }
          ],
          "choropleth": [
           {
            "colorbar": {
             "outlinewidth": 0,
             "ticks": ""
            },
            "type": "choropleth"
           }
          ],
          "contour": [
           {
            "colorbar": {
             "outlinewidth": 0,
             "ticks": ""
            },
            "colorscale": [
             [
              0,
              "#0d0887"
             ],
             [
              0.1111111111111111,
              "#46039f"
             ],
             [
              0.2222222222222222,
              "#7201a8"
             ],
             [
              0.3333333333333333,
              "#9c179e"
             ],
             [
              0.4444444444444444,
              "#bd3786"
             ],
             [
              0.5555555555555556,
              "#d8576b"
             ],
             [
              0.6666666666666666,
              "#ed7953"
             ],
             [
              0.7777777777777778,
              "#fb9f3a"
             ],
             [
              0.8888888888888888,
              "#fdca26"
             ],
             [
              1,
              "#f0f921"
             ]
            ],
            "type": "contour"
           }
          ],
          "contourcarpet": [
           {
            "colorbar": {
             "outlinewidth": 0,
             "ticks": ""
            },
            "type": "contourcarpet"
           }
          ],
          "heatmap": [
           {
            "colorbar": {
             "outlinewidth": 0,
             "ticks": ""
            },
            "colorscale": [
             [
              0,
              "#0d0887"
             ],
             [
              0.1111111111111111,
              "#46039f"
             ],
             [
              0.2222222222222222,
              "#7201a8"
             ],
             [
              0.3333333333333333,
              "#9c179e"
             ],
             [
              0.4444444444444444,
              "#bd3786"
             ],
             [
              0.5555555555555556,
              "#d8576b"
             ],
             [
              0.6666666666666666,
              "#ed7953"
             ],
             [
              0.7777777777777778,
              "#fb9f3a"
             ],
             [
              0.8888888888888888,
              "#fdca26"
             ],
             [
              1,
              "#f0f921"
             ]
            ],
            "type": "heatmap"
           }
          ],
          "histogram": [
           {
            "marker": {
             "pattern": {
              "fillmode": "overlay",
              "size": 10,
              "solidity": 0.2
             }
            },
            "type": "histogram"
           }
          ],
          "histogram2d": [
           {
            "colorbar": {
             "outlinewidth": 0,
             "ticks": ""
            },
            "colorscale": [
             [
              0,
              "#0d0887"
             ],
             [
              0.1111111111111111,
              "#46039f"
             ],
             [
              0.2222222222222222,
              "#7201a8"
             ],
             [
              0.3333333333333333,
              "#9c179e"
             ],
             [
              0.4444444444444444,
              "#bd3786"
             ],
             [
              0.5555555555555556,
              "#d8576b"
             ],
             [
              0.6666666666666666,
              "#ed7953"
             ],
             [
              0.7777777777777778,
              "#fb9f3a"
             ],
             [
              0.8888888888888888,
              "#fdca26"
             ],
             [
              1,
              "#f0f921"
             ]
            ],
            "type": "histogram2d"
           }
          ],
          "histogram2dcontour": [
           {
            "colorbar": {
             "outlinewidth": 0,
             "ticks": ""
            },
            "colorscale": [
             [
              0,
              "#0d0887"
             ],
             [
              0.1111111111111111,
              "#46039f"
             ],
             [
              0.2222222222222222,
              "#7201a8"
             ],
             [
              0.3333333333333333,
              "#9c179e"
             ],
             [
              0.4444444444444444,
              "#bd3786"
             ],
             [
              0.5555555555555556,
              "#d8576b"
             ],
             [
              0.6666666666666666,
              "#ed7953"
             ],
             [
              0.7777777777777778,
              "#fb9f3a"
             ],
             [
              0.8888888888888888,
              "#fdca26"
             ],
             [
              1,
              "#f0f921"
             ]
            ],
            "type": "histogram2dcontour"
           }
          ],
          "mesh3d": [
           {
            "colorbar": {
             "outlinewidth": 0,
             "ticks": ""
            },
            "type": "mesh3d"
           }
          ],
          "parcoords": [
           {
            "line": {
             "colorbar": {
              "outlinewidth": 0,
              "ticks": ""
             }
            },
            "type": "parcoords"
           }
          ],
          "pie": [
           {
            "automargin": true,
            "type": "pie"
           }
          ],
          "scatter": [
           {
            "fillpattern": {
             "fillmode": "overlay",
             "size": 10,
             "solidity": 0.2
            },
            "type": "scatter"
           }
          ],
          "scatter3d": [
           {
            "line": {
             "colorbar": {
              "outlinewidth": 0,
              "ticks": ""
             }
            },
            "marker": {
             "colorbar": {
              "outlinewidth": 0,
              "ticks": ""
             }
            },
            "type": "scatter3d"
           }
          ],
          "scattercarpet": [
           {
            "marker": {
             "colorbar": {
              "outlinewidth": 0,
              "ticks": ""
             }
            },
            "type": "scattercarpet"
           }
          ],
          "scattergeo": [
           {
            "marker": {
             "colorbar": {
              "outlinewidth": 0,
              "ticks": ""
             }
            },
            "type": "scattergeo"
           }
          ],
          "scattergl": [
           {
            "marker": {
             "colorbar": {
              "outlinewidth": 0,
              "ticks": ""
             }
            },
            "type": "scattergl"
           }
          ],
          "scattermap": [
           {
            "marker": {
             "colorbar": {
              "outlinewidth": 0,
              "ticks": ""
             }
            },
            "type": "scattermap"
           }
          ],
          "scattermapbox": [
           {
            "marker": {
             "colorbar": {
              "outlinewidth": 0,
              "ticks": ""
             }
            },
            "type": "scattermapbox"
           }
          ],
          "scatterpolar": [
           {
            "marker": {
             "colorbar": {
              "outlinewidth": 0,
              "ticks": ""
             }
            },
            "type": "scatterpolar"
           }
          ],
          "scatterpolargl": [
           {
            "marker": {
             "colorbar": {
              "outlinewidth": 0,
              "ticks": ""
             }
            },
            "type": "scatterpolargl"
           }
          ],
          "scatterternary": [
           {
            "marker": {
             "colorbar": {
              "outlinewidth": 0,
              "ticks": ""
             }
            },
            "type": "scatterternary"
           }
          ],
          "surface": [
           {
            "colorbar": {
             "outlinewidth": 0,
             "ticks": ""
            },
            "colorscale": [
             [
              0,
              "#0d0887"
             ],
             [
              0.1111111111111111,
              "#46039f"
             ],
             [
              0.2222222222222222,
              "#7201a8"
             ],
             [
              0.3333333333333333,
              "#9c179e"
             ],
             [
              0.4444444444444444,
              "#bd3786"
             ],
             [
              0.5555555555555556,
              "#d8576b"
             ],
             [
              0.6666666666666666,
              "#ed7953"
             ],
             [
              0.7777777777777778,
              "#fb9f3a"
             ],
             [
              0.8888888888888888,
              "#fdca26"
             ],
             [
              1,
              "#f0f921"
             ]
            ],
            "type": "surface"
           }
          ],
          "table": [
           {
            "cells": {
             "fill": {
              "color": "#EBF0F8"
             },
             "line": {
              "color": "white"
             }
            },
            "header": {
             "fill": {
              "color": "#C8D4E3"
             },
             "line": {
              "color": "white"
             }
            },
            "type": "table"
           }
          ]
         },
         "layout": {
          "annotationdefaults": {
           "arrowcolor": "#2a3f5f",
           "arrowhead": 0,
           "arrowwidth": 1
          },
          "autotypenumbers": "strict",
          "coloraxis": {
           "colorbar": {
            "outlinewidth": 0,
            "ticks": ""
           }
          },
          "colorscale": {
           "diverging": [
            [
             0,
             "#8e0152"
            ],
            [
             0.1,
             "#c51b7d"
            ],
            [
             0.2,
             "#de77ae"
            ],
            [
             0.3,
             "#f1b6da"
            ],
            [
             0.4,
             "#fde0ef"
            ],
            [
             0.5,
             "#f7f7f7"
            ],
            [
             0.6,
             "#e6f5d0"
            ],
            [
             0.7,
             "#b8e186"
            ],
            [
             0.8,
             "#7fbc41"
            ],
            [
             0.9,
             "#4d9221"
            ],
            [
             1,
             "#276419"
            ]
           ],
           "sequential": [
            [
             0,
             "#0d0887"
            ],
            [
             0.1111111111111111,
             "#46039f"
            ],
            [
             0.2222222222222222,
             "#7201a8"
            ],
            [
             0.3333333333333333,
             "#9c179e"
            ],
            [
             0.4444444444444444,
             "#bd3786"
            ],
            [
             0.5555555555555556,
             "#d8576b"
            ],
            [
             0.6666666666666666,
             "#ed7953"
            ],
            [
             0.7777777777777778,
             "#fb9f3a"
            ],
            [
             0.8888888888888888,
             "#fdca26"
            ],
            [
             1,
             "#f0f921"
            ]
           ],
           "sequentialminus": [
            [
             0,
             "#0d0887"
            ],
            [
             0.1111111111111111,
             "#46039f"
            ],
            [
             0.2222222222222222,
             "#7201a8"
            ],
            [
             0.3333333333333333,
             "#9c179e"
            ],
            [
             0.4444444444444444,
             "#bd3786"
            ],
            [
             0.5555555555555556,
             "#d8576b"
            ],
            [
             0.6666666666666666,
             "#ed7953"
            ],
            [
             0.7777777777777778,
             "#fb9f3a"
            ],
            [
             0.8888888888888888,
             "#fdca26"
            ],
            [
             1,
             "#f0f921"
            ]
           ]
          },
          "colorway": [
           "#636efa",
           "#EF553B",
           "#00cc96",
           "#ab63fa",
           "#FFA15A",
           "#19d3f3",
           "#FF6692",
           "#B6E880",
           "#FF97FF",
           "#FECB52"
          ],
          "font": {
           "color": "#2a3f5f"
          },
          "geo": {
           "bgcolor": "white",
           "lakecolor": "white",
           "landcolor": "#E5ECF6",
           "showlakes": true,
           "showland": true,
           "subunitcolor": "white"
          },
          "hoverlabel": {
           "align": "left"
          },
          "hovermode": "closest",
          "mapbox": {
           "style": "light"
          },
          "paper_bgcolor": "white",
          "plot_bgcolor": "#E5ECF6",
          "polar": {
           "angularaxis": {
            "gridcolor": "white",
            "linecolor": "white",
            "ticks": ""
           },
           "bgcolor": "#E5ECF6",
           "radialaxis": {
            "gridcolor": "white",
            "linecolor": "white",
            "ticks": ""
           }
          },
          "scene": {
           "xaxis": {
            "backgroundcolor": "#E5ECF6",
            "gridcolor": "white",
            "gridwidth": 2,
            "linecolor": "white",
            "showbackground": true,
            "ticks": "",
            "zerolinecolor": "white"
           },
           "yaxis": {
            "backgroundcolor": "#E5ECF6",
            "gridcolor": "white",
            "gridwidth": 2,
            "linecolor": "white",
            "showbackground": true,
            "ticks": "",
            "zerolinecolor": "white"
           },
           "zaxis": {
            "backgroundcolor": "#E5ECF6",
            "gridcolor": "white",
            "gridwidth": 2,
            "linecolor": "white",
            "showbackground": true,
            "ticks": "",
            "zerolinecolor": "white"
           }
          },
          "shapedefaults": {
           "line": {
            "color": "#2a3f5f"
           }
          },
          "ternary": {
           "aaxis": {
            "gridcolor": "white",
            "linecolor": "white",
            "ticks": ""
           },
           "baxis": {
            "gridcolor": "white",
            "linecolor": "white",
            "ticks": ""
           },
           "bgcolor": "#E5ECF6",
           "caxis": {
            "gridcolor": "white",
            "linecolor": "white",
            "ticks": ""
           }
          },
          "title": {
           "x": 0.05
          },
          "xaxis": {
           "automargin": true,
           "gridcolor": "white",
           "linecolor": "white",
           "ticks": "",
           "title": {
            "standoff": 15
           },
           "zerolinecolor": "white",
           "zerolinewidth": 2
          },
          "yaxis": {
           "automargin": true,
           "gridcolor": "white",
           "linecolor": "white",
           "ticks": "",
           "title": {
            "standoff": 15
           },
           "zerolinecolor": "white",
           "zerolinewidth": 2
          }
         }
        },
        "title": {
         "text": "ROSES (Past) vs CROISSANTS (Present)"
        },
        "xaxis": {
         "title": {
          "text": "Index or Time"
         }
        },
        "yaxis": {
         "tickfont": {
          "color": "blue"
         },
         "title": {
          "font": {
           "color": "blue"
          },
          "text": "ROSES"
         }
        },
        "yaxis2": {
         "anchor": "x",
         "overlaying": "y",
         "side": "right",
         "tickfont": {
          "color": "red"
         },
         "title": {
          "font": {
           "color": "red"
          },
          "text": "CROISSANTS"
         }
        }
       }
      }
     },
     "metadata": {},
     "output_type": "display_data"
    },
    {
     "data": {
      "application/vnd.plotly.v1+json": {
       "config": {
        "plotlyServerURL": "https://plot.ly"
       },
       "data": [
        {
         "line": {
          "color": "blue"
         },
         "name": "ROSES (Past)",
         "type": "scatter",
         "x": {
          "bdata": "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",
          "dtype": "i4"
         },
         "y": {
          "bdata": "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",
          "dtype": "f8"
         },
         "yaxis": "y"
        },
        {
         "line": {
          "color": "red"
         },
         "name": "PICNIC_BASKET1 (Present)",
         "type": "scatter",
         "x": {
          "bdata": "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",
          "dtype": "i4"
         },
         "y": {
          "bdata": "AAAAANB77EAAAAAA8HvsQAAAAADQe+xAAAAAAJB87EAAAAAA8HvsQAAAAADQe+xAAAAAAOB67EAAAAAAsHrsQAAAAADweuxAAAAAADB77EAAAAAA0HvsQAAAAABQfOxAAAAAAAB97EAAAAAAkH3sQAAAAADwfexAAAAAAFB97EAAAAAAoH3sQAAAAADQfexAAAAAAJB97EAAAAAA8HzsQAAAAADwfOxAAAAAAHB97EAAAAAAkH3sQAAAAAAgfexAAAAAABB97EAAAAAAUH3sQAAAAABwfexAAAAAADB97EAAAAAAcH3sQAAAAADQfexAAAAAAOB97EAAAAAAsH3sQAAAAADwfOxAAAAAAJB87EAAAAAAMHzsQAAAAADwe+xAAAAAAHB77EAAAAAA4HrsQAAAAADgeuxAAAAAALB67EAAAAAAkHvsQAAAAACweuxAAAAAAPB77EAAAAAAEHzsQAAAAABwfOxAAAAAAPB87EAAAAAAsH3sQAAAAABgfexAAAAAADB97EAAAAAAcHzsQAAAAACQfOxAAAAAAOB77EAAAAAAUHzsQAAAAABwfOxAAAAAALB77EAAAAAAEHvsQAAAAAAwe+xAAAAAAFB87EAAAAAAsHzsQAAAAABwfexAAAAAALB97EAAAAAAsH3sQAAAAABAfexAAAAAANB87EAAAAAAMH3sQAAAAADQfOxAAAAAADB97EAAAAAAUH3sQAAAAABwfOxAAAAAADB97EAAAAAAQH3sQAAAAABwfexAAAAAANB97EAAAAAA0H3sQAAAAABQfexAAAAAADB97EAAAAAAMH3sQAAAAADQfOxAAAAAANB87EAAAAAA0HzsQAAAAABgfOxAAAAAAHB87EAAAAAA8HvsQAAAAAAQfOxAAAAAAPB77EAAAAAAUHzsQAAAAACwfOxAAAAAAFB97EAAAAAA0HzsQAAAAADQfOxAAAAAALB87EAAAAAAUHzsQAAAAABQfOxAAAAAAAB97EAAAAAAwHzsQAAAAABgfexAAAAAAIB87EAAAAAAMH3sQAAAAAAQfuxAAAAAABB+7EAAAAAAMH7sQAAAAAAQfuxAAAAAANB97EAAAAAA8HzsQAAAAADQfOxAAAAAALB87EAAAAAA8HzsQAAAAABQfexAAAAAAPB97EAAAAAAsH7sQAAAAAAwfuxAAAAAAFB+7EAAAAAAcH7sQAAAAAAAf+xAAAAAAKB+7EAAAAAAsH7sQAAAAABQfuxAAAAAADB+7EAAAAAAEH7sQAAAAADQf+xAAAAAAHB/7EAAAAAAMH/sQAAAAADwf+xAAAAAAFCA7EAAAAAAEIDsQAAAAAAggOxAAAAAANB/7EAAAAAAkH/sQAAAAAAQgOxAAAAAAHB/7EAAAAAAMH/sQAAAAABAf+xAAAAAAAB/7EAAAAAAEH/sQAAAAADwfuxAAAAAAFB/7EAAAAAAcH/sQAAAAADwfuxAAAAAAHB/7EAAAAAA8H/sQAAAAACQf+xAAAAAAFB/7EAAAAAAkH/sQAAAAACQf+xAAAAAAOB/7EAAAAAAYIDsQAAAAABwgOxAAAAAALCA7EAAAAAAkIHsQAAAAAAQgexAAAAAAHCA7EAAAAAAUIDsQAAAAABQgexAAAAAALCB7EAAAAAA8IHsQAAAAAAQguxAAAAAAJCB7EAAAAAAsIDsQAAAAADQgOxAAAAAAMB/7EAAAAAAMIDsQAAAAABQgOxAAAAAAMCA7EAAAAAAUIDsQAAAAADAgOxAAAAAABCA7EAAAAAA8H/sQAAAAACwgOxAAAAAALCA7EAAAAAAkIDsQAAAAACwgexAAAAAAJCB7EAAAAAA8IHsQAAAAAAwg+xAAAAAADCC7EAAAAAAUILsQAAAAACQguxAAAAAAKCC7EAAAAAAcILsQAAAAABwgexAAAAAAACC7EAAAAAAkIHsQAAAAAAwgexAAAAAAICB7EAAAAAAMIHsQAAAAABwgexAAAAAAPCA7EAAAAAA0IDsQAAAAACAf+xAAAAAAFCA7EAAAAAA0IDsQAAAAADwgOxAAAAAADCB7EAAAAAAYIHsQAAAAABQguxAAAAAAHCC7EAAAAAAYILsQAAAAAAwguxAAAAAAPCB7EAAAAAAkILsQAAAAAAwguxAAAAAAPCB7EAAAAAAMILsQAAAAAAwguxAAAAAANCB7EAAAAAA4IHsQAAAAAAQguxAAAAAAHCD7EAAAAAAUITsQAAAAADwhOxAAAAAALCE7EAAAAAA0ITsQAAAAAAQhexAAAAAAFCF7EAAAAAAUIXsQAAAAABwhexAAAAAADCG7EAAAAAAcIbsQAAAAADwhuxAAAAAAFCH7EAAAAAAUIfsQAAAAAAQh+xAAAAAAHCH7EAAAAAAkIfsQAAAAABQh+xAAAAAAJCH7EAAAAAAUIfsQAAAAADAh+xAAAAAADCH7EAAAAAAsIfsQAAAAADwh+xAAAAAAKCH7EAAAAAAsIbsQAAAAABwh+xAAAAAAHCH7EAAAAAA8IfsQAAAAAAwh+xAAAAAAHCH7EAAAAAA0IbsQAAAAACQhexAAAAAAHCF7EAAAAAAsIXsQAAAAADQhexAAAAAAPCF7EAAAAAAEIbsQAAAAABwhuxAAAAAALCG7EAAAAAAsIbsQAAAAABQh+xAAAAAADCI7EAAAAAA0IfsQAAAAAAwh+xAAAAAADCH7EAAAAAAQIfsQAAAAABwh+xAAAAAAJCH7EAAAAAAcIfsQAAAAACQh+xAAAAAAACH7EAAAAAAoIXsQAAAAAAghuxAAAAAAPCF7EAAAAAA0IXsQAAAAACAhuxAAAAAAOCG7EAAAAAAcIbsQAAAAADwhexAAAAAALCG7EAAAAAAQIbsQAAAAADwhOxAAAAAADCF7EAAAAAAsITsQAAAAACwhOxAAAAAANCE7EAAAAAAcITsQAAAAABghOxAAAAAAHCE7EAAAAAA4IPsQAAAAAAwhOxAAAAAAECE7EAAAAAAAITsQAAAAADwhOxAAAAAAACF7EAAAAAAUIXsQAAAAABghOxAAAAAAFCE7EAAAAAAUITsQAAAAADwg+xAAAAAAHCD7EAAAAAAIIPsQAAAAAAQg+xAAAAAABCD7EAAAAAAUILsQAAAAABwgexAAAAAABCC7EAAAAAAgIHsQAAAAAAQguxAAAAAAKCB7EAAAAAAMIHsQAAAAABQguxAAAAAAFCC7EAAAAAAUILsQAAAAABgguxAAAAAALCC7EAAAAAAEIPsQAAAAADQguxAAAAAALCC7EAAAAAAsILsQAAAAABQhOxAAAAAANCE7EAAAAAAkITsQAAAAACQhOxAAAAAALCE7EAAAAAAsITsQAAAAACAhOxAAAAAADCF7EAAAAAA8ITsQAAAAABwhexAAAAAALCF7EAAAAAA0IXsQAAAAAAQhuxAAAAAALCF7EAAAAAAIIXsQAAAAACwhOxAAAAAAFCD7EAAAAAAMIPsQAAAAADwg+xAAAAAALCD7EAAAAAA4ILsQAAAAACQguxAAAAAAECD7EAAAAAAsIPsQAAAAABgg+xAAAAAADCD7EAAAAAAEIPsQAAAAADQg+xAAAAAAPCD7EAAAAAAEITsQAAAAADAg+xAAAAAALCD7EAAAAAAQITsQAAAAACQhOxAAAAAAJCE7EAAAAAAsITsQAAAAAAwhexAAAAAAICE7EAAAAAA8IPsQAAAAABQg+xAAAAAADCD7EAAAAAAEIPsQAAAAACQguxAAAAAAHCD7EAAAAAA0IPsQAAAAADAhOxAAAAAABCE7EAAAAAAwITsQAAAAACQhexAAAAAAJCF7EAAAAAAcIbsQAAAAACQh+xAAAAAAKCH7EAAAAAA0IjsQAAAAACwiOxAAAAAAJCI7EAAAAAAMIjsQAAAAADQh+xAAAAAAFCH7EAAAAAAcIfsQAAAAAAQh+xAAAAAAOCG7EAAAAAAwIfsQAAAAABwiOxAAAAAAICI7EAAAAAAEIjsQAAAAADgh+xAAAAAAPCH7EAAAAAA0IjsQAAAAACQiexAAAAAADCK7EAAAAAAsInsQAAAAAAwiexAAAAAAACK7EAAAAAA0IrsQAAAAABQi+xAAAAAAOCL7EAAAAAAcIvsQAAAAACQiuxAAAAAAACK7EAAAAAAMIrsQAAAAACQiuxAAAAAAGCK7EAAAAAAoIrsQAAAAACgiuxAAAAAALCK7EAAAAAAgIrsQAAAAABQiuxAAAAAAECK7EAAAAAAsInsQAAAAABQiexAAAAAADCI7EAAAAAAsIfsQAAAAACwhuxAAAAAAHCG7EAAAAAA8IbsQAAAAADQh+xAAAAAAJCH7EAAAAAAEIjsQAAAAAAwiOxAAAAAAFCI7EAAAAAAYIfsQAAAAADwh+xAAAAAAPCI7EAAAAAAcInsQAAAAAAwiexAAAAAANCJ7EAAAAAAEIrsQAAAAAAwiuxAAAAAABCK7EAAAAAAcIrsQAAAAABwiexAAAAAANCJ7EAAAAAA0InsQAAAAADQiOxAAAAAAFCJ7EAAAAAAcIrsQAAAAADwiexAAAAAAOCJ7EAAAAAA4InsQAAAAAAwiuxAAAAAAECK7EAAAAAAMInsQAAAAAAQiexAAAAAABCJ7EAAAAAAUInsQAAAAACAiexAAAAAANCI7EAAAAAA8IjsQAAAAAAQiexAAAAAADCJ7EAAAAAAoIjsQAAAAADwiOxAAAAAAJCI7EAAAAAAIIjsQAAAAABwh+xAAAAAAICH7EAAAAAAUIfsQAAAAADwhuxAAAAAAJCG7EAAAAAAYIfsQAAAAADwh+xAAAAAANCH7EAAAAAAEIjsQAAAAADQh+xAAAAAAGCH7EAAAAAAEIfsQAAAAADQh+xAAAAAALCH7EAAAAAAMIjsQAAAAABwh+xAAAAAAMCG7EAAAAAA8IbsQAAAAAAQh+xAAAAAAJCG7EAAAAAA0IbsQAAAAABwhuxAAAAAAOCG7EAAAAAAsIbsQAAAAAAQh+xAAAAAAJCI7EAAAAAAMIjsQAAAAADQh+xAAAAAAICI7EAAAAAAIIjsQAAAAACwiOxAAAAAAFCJ7EAAAAAA0IjsQAAAAACAiOxAAAAAALCI7EAAAAAAMIjsQAAAAABQiexAAAAAANCI7EAAAAAAsInsQAAAAACwiuxAAAAAAHCK7EAAAAAAUIrsQAAAAADwiOxAAAAAAACJ7EAAAAAAEIrsQAAAAAAQiuxAAAAAALCJ7EAAAAAA0IjsQAAAAAAAiexAAAAAALCJ7EAAAAAAQIjsQAAAAADwh+xAAAAAAFCI7EAAAAAA8IjsQAAAAAAQiexAAAAAAFCJ7EAAAAAAAInsQAAAAADwiexAAAAAAJCJ7EAAAAAAUInsQAAAAACwiexAAAAAALCJ7EAAAAAAIInsQAAAAADQiOxAAAAAAPCI7EAAAAAAoIjsQAAAAABwiOxAAAAAAPCI7EAAAAAAUIjsQAAAAACAiOxAAAAAAGCH7EAAAAAAcIbsQAAAAACQhexAAAAAADCF7EAAAAAAgIXsQAAAAADQhOxAAAAAAACF7EAAAAAAEIXsQAAAAADQhOxAAAAAALCE7EAAAAAA0IPsQAAAAABQguxAAAAAAJCC7EAAAAAAkILsQAAAAACwgexAAAAAAACC7EAAAAAAcILsQAAAAADwgexAAAAAADCB7EAAAAAA0IHsQAAAAABggexAAAAAAICB7EAAAAAAMILsQAAAAADAgexAAAAAANCB7EAAAAAA8IHsQAAAAADQgexAAAAAAOCB7EAAAAAAgIHsQAAAAADwgOxAAAAAAJCA7EAAAAAAcIDsQAAAAADQf+xAAAAAAGB/7EAAAAAAsH/sQAAAAABwgOxAAAAAAGB/7EAAAAAAkH/sQAAAAACwgOxAAAAAANB/7EAAAAAAUIDsQAAAAACwf+xAAAAAABB/7EAAAAAAkH/sQAAAAABQf+xAAAAAALB/7EAAAAAAcH/sQAAAAACAfuxAAAAAABB+7EAAAAAAcH3sQAAAAACQfexAAAAAAMB87EAAAAAAMH3sQAAAAACQfexAAAAAAAB97EAAAAAAkH3sQAAAAADAfexAAAAAABB+7EAAAAAAEH7sQAAAAABgfuxAAAAAAHB+7EAAAAAAkH3sQAAAAABwfexAAAAAAFB87EAAAAAAEHzsQAAAAADwe+xAAAAAAPB77EAAAAAAkHzsQAAAAACAe+xAAAAAAHB67EAAAAAAMHrsQAAAAADQeuxAAAAAAGB77EAAAAAA0HrsQAAAAACAeuxAAAAAANB67EAAAAAA4HrsQAAAAABQe+xAAAAAAAB77EAAAAAA8HvsQAAAAABQe+xAAAAAAHB77EAAAAAAEHzsQAAAAAAwfOxAAAAAADB87EAAAAAAUHzsQAAAAADQfOxAAAAAABB97EAAAAAAcHzsQAAAAAAQfOxAAAAAABB77EAAAAAAEHvsQAAAAAAwe+xAAAAAAIB67EAAAAAAkHrsQAAAAAAge+xAAAAAALB77EAAAAAA8HvsQAAAAADAe+xAAAAAAHB87EAAAAAAsHzsQAAAAADQfOxAAAAAAIB87EAAAAAAUHvsQAAAAACQe+xAAAAAANB67EAAAAAA8HrsQAAAAADweuxAAAAAABB77EAAAAAAcHrsQAAAAADweuxAAAAAADB67EAAAAAAEHrsQAAAAADAeexAAAAAALB67EAAAAAAgHrsQAAAAACweuxAAAAAAEB77EAAAAAAwHvsQAAAAAAwfOxAAAAAABB97EAAAAAAkHzsQAAAAACAfOxAAAAAABB87EAAAAAAUHvsQAAAAACQe+xAAAAAAGB77EAAAAAAgHvsQAAAAAAQfOxAAAAAAHB87EAAAAAAsHvsQAAAAABge+xAAAAAADB77EAAAAAAEHvsQAAAAAAwe+xAAAAAAPB67EAAAAAAcHrsQAAAAABge+xAAAAAACB77EAAAAAA0HrsQAAAAADQeuxAAAAAAOB67EAAAAAAMHvsQAAAAACwe+xAAAAAAJB67EAAAAAA8HrsQAAAAACweuxAAAAAAEB67EAAAAAAUHrsQAAAAABQeuxAAAAAADB67EAAAAAAwHnsQAAAAAAQeuxAAAAAAGB57EAAAAAAwHnsQAAAAAAQeexAAAAAAGB37EAAAAAAcHbsQAAAAAAwduxAAAAAAFB17EAAAAAAAHbsQAAAAACAdexAAAAAAHB17EAAAAAAcHXsQAAAAAAgduxAAAAAAFB27EAAAAAAEHfsQAAAAAAAd+xAAAAAABB37EAAAAAAgHbsQAAAAAAwduxAAAAAAIB27EAAAAAAwHbsQAAAAABQd+xAAAAAAAB27EAAAAAAMHbsQAAAAABwduxAAAAAABB47EAAAAAAkHjsQAAAAADweexAAAAAAFB67EAAAAAA0HnsQAAAAACQeexAAAAAADB57EAAAAAA0HfsQAAAAADQd+xAAAAAANB37EAAAAAAMHfsQAAAAABgd+xAAAAAAFB37EAAAAAA8HbsQAAAAAAQeOxAAAAAAFB47EAAAAAAkHfsQAAAAADAd+xAAAAAAHB37EAAAAAAEHfsQAAAAACQd+xAAAAAANB37EAAAAAA4HfsQAAAAAAQeOxAAAAAAFB47EAAAAAAcHnsQAAAAADQeexAAAAAALB57EAAAAAAsHnsQAAAAAAAeuxAAAAAAMB57EAAAAAA8HnsQAAAAADQeexAAAAAALB47EAAAAAAcHjsQAAAAADwd+xAAAAAAHB47EAAAAAAMHjsQAAAAAAQeOxAAAAAAPB37EAAAAAAcHjsQAAAAAAweOxAAAAAAFB57EAAAAAA0HjsQAAAAADweOxAAAAAAJB47EAAAAAAgHjsQAAAAAAQeexAAAAAAHB57EAAAAAAEHrsQAAAAADweuxAAAAAABB77EAAAAAAIHvsQAAAAACwe+xAAAAAALB77EAAAAAA0HzsQAAAAAAAfexAAAAAAMB87EAAAAAA0HvsQAAAAADwe+xAAAAAAFB87EAAAAAAUHzsQAAAAABwfOxAAAAAAFB87EAAAAAAsHvsQAAAAADwe+xAAAAAAOB77EAAAAAA0HvsQAAAAADwe+xAAAAAAIB87EAAAAAAMHzsQAAAAAAAfOxAAAAAAHB77EAAAAAAsHvsQAAAAADQe+xAAAAAADB77EAAAAAAsHrsQAAAAAAQeuxAAAAAABB67EAAAAAAUHvsQAAAAADQeuxAAAAAAHB77EAAAAAAMHvsQAAAAADQe+xAAAAAALB77EAAAAAAMHvsQAAAAADQeuxAAAAAAOB67EAAAAAA8HrsQAAAAADQeuxAAAAAAJB77EAAAAAA0HvsQAAAAAAQfOxAAAAAAFB87EAAAAAAMHzsQAAAAADQfOxAAAAAAAB87EAAAAAA8HvsQAAAAACAe+xAAAAAADB87EAAAAAAwHvsQAAAAACQe+xAAAAAAHB77EAAAAAAAHzsQAAAAADwe+xAAAAAAHB87EAAAAAAQHzsQAAAAABwfOxAAAAAACB87EAAAAAAoHvsQAAAAACAfOxAAAAAAOB87EAAAAAAsHzsQAAAAABge+xAAAAAANB77EAAAAAA8HvsQAAAAACAe+xAAAAAAPB67EAAAAAAUHvsQAAAAACge+xAAAAAAFB77EAAAAAAEHvsQAAAAAAQe+xAAAAAAJB67EAAAAAA0HnsQAAAAADQeexAAAAAADB67EAAAAAAEHrsQAAAAABQeuxAAAAAAHB67EAAAAAAcHvsQAAAAAAQe+xAAAAAAHB77EAAAAAAEHrsQAAAAACweuxAAAAAADB77EAAAAAAMHvsQAAAAABwe+xAAAAAADB77EAAAAAAcHrsQAAAAABweuxAAAAAAPB67EAAAAAA0HrsQAAAAABweuxAAAAAAJB67EAAAAAAUHrsQAAAAACweuxAAAAAAKB67EAAAAAAgHnsQAAAAACweexAAAAAALB57EAAAAAAYHnsQAAAAABweexAAAAAALB47EAAAAAA0HjsQAAAAADQeOxAAAAAABB57EAAAAAAoHjsQAAAAAAweexAAAAAABB57EAAAAAAAHnsQAAAAAAweexAAAAAADB57EAAAAAAwHjsQAAAAABwd+xAAAAAAFB37EAAAAAAcHfsQAAAAAAAd+xAAAAAAKB37EAAAAAAEHfsQAAAAACQd+xAAAAAAAB37EAAAAAAkHbsQAAAAACwduxAAAAAAHB37EAAAAAAMHjsQAAAAAAweOxAAAAAAHB47EAAAAAAEHjsQAAAAADQd+xAAAAAAPB37EAAAAAAoHjsQAAAAABweOxAAAAAAPB37EAAAAAAkHfsQAAAAADwd+xAAAAAABB47EAAAAAAAHjsQAAAAABwd+xAAAAAAOB37EAAAAAA8HfsQAAAAADwd+xAAAAAAGB37EAAAAAA8HbsQAAAAACQduxAAAAAAGB37EAAAAAAAHjsQAAAAAAweOxAAAAAAPB47EAAAAAAcHjsQAAAAAAQeOxAAAAAAJB37EAAAAAAEHjsQAAAAACAeOxAAAAAALB47EAAAAAAsHnsQAAAAADweexAAAAAAFB57EAAAAAAoHjsQAAAAACweOxAAAAAAJB47EAAAAAAAHjsQAAAAABgeOxAAAAAALB47EAAAAAAEHnsQAAAAAAQeexAAAAAAGB57EAAAAAA0HnsQAAAAAAweuxAAAAAAPB57EAAAAAAEHrsQAAAAACAeuxAAAAAAPB67EAAAAAAcHrsQAAAAABweuxAAAAAAIB67EAAAAAAcHvsQAAAAABwe+xAAAAAAHB77EAAAAAAMHvsQAAAAABQe+xAAAAAAFB77EAAAAAA8HvsQAAAAADQe+xAAAAAAHB77EAAAAAAoHvsQAAAAAAwfOxAAAAAAPB77EAAAAAAkHzsQAAAAACgfOxAAAAAAJB87EAAAAAAsHzsQAAAAACQfOxAAAAAABB87EAAAAAAsHvsQAAAAACQe+xAAAAAAFB67EAAAAAAUHrsQAAAAAAQe+xAAAAAAPB67EAAAAAA8HvsQAAAAADwe+xAAAAAAOB77EAAAAAAcHvsQAAAAABwe+xAAAAAAFB77EAAAAAA0HvsQAAAAADwe+xAAAAAALB77EAAAAAAMHvsQAAAAABweuxAAAAAAPB67EAAAAAAUHvsQAAAAABweuxAAAAAANB67EAAAAAAcHrsQAAAAACAe+xAAAAAANB67EAAAAAAwHrsQAAAAABwe+xAAAAAAFB87EAAAAAA8HvsQAAAAAAQfexAAAAAAFB97EAAAAAAcH3sQAAAAACQfexAAAAAALB97EAAAAAAMH7sQAAAAAAQfexAAAAAABB87EAAAAAA0HvsQAAAAAAwfOxAAAAAAPB87EAAAAAAkH3sQAAAAABQfOxAAAAAAJB87EAAAAAA0HzsQAAAAACwfOxAAAAAAFB97EAAAAAAIH3sQAAAAABQfexAAAAAANB97EAAAAAAsH3sQAAAAABwfexAAAAAAFB97EAAAAAAEH7sQAAAAACwfexAAAAAANB97EAAAAAA0H3sQAAAAACQfexAAAAAADB+7EAAAAAAIH7sQAAAAACQfexAAAAAAPB97EAAAAAAEH7sQAAAAADQfexAAAAAABB+7EAAAAAAEH7sQAAAAADQfuxAAAAAALB+7EA=",
          "dtype": "f8"
         },
         "yaxis": "y2"
        }
       ],
       "layout": {
        "legend": {
         "x": 0.01,
         "y": 0.99
        },
        "template": {
         "data": {
          "bar": [
           {
            "error_x": {
             "color": "#2a3f5f"
            },
            "error_y": {
             "color": "#2a3f5f"
            },
            "marker": {
             "line": {
              "color": "#E5ECF6",
              "width": 0.5
             },
             "pattern": {
              "fillmode": "overlay",
              "size": 10,
              "solidity": 0.2
             }
            },
            "type": "bar"
           }
          ],
          "barpolar": [
           {
            "marker": {
             "line": {
              "color": "#E5ECF6",
              "width": 0.5
             },
             "pattern": {
              "fillmode": "overlay",
              "size": 10,
              "solidity": 0.2
             }
            },
            "type": "barpolar"
           }
          ],
          "carpet": [
           {
            "aaxis": {
             "endlinecolor": "#2a3f5f",
             "gridcolor": "white",
             "linecolor": "white",
             "minorgridcolor": "white",
             "startlinecolor": "#2a3f5f"
            },
            "baxis": {
             "endlinecolor": "#2a3f5f",
             "gridcolor": "white",
             "linecolor": "white",
             "minorgridcolor": "white",
             "startlinecolor": "#2a3f5f"
            },
            "type": "carpet"
           }
          ],
          "choropleth": [
           {
            "colorbar": {
             "outlinewidth": 0,
             "ticks": ""
            },
            "type": "choropleth"
           }
          ],
          "contour": [
           {
            "colorbar": {
             "outlinewidth": 0,
             "ticks": ""
            },
            "colorscale": [
             [
              0,
              "#0d0887"
             ],
             [
              0.1111111111111111,
              "#46039f"
             ],
             [
              0.2222222222222222,
              "#7201a8"
             ],
             [
              0.3333333333333333,
              "#9c179e"
             ],
             [
              0.4444444444444444,
              "#bd3786"
             ],
             [
              0.5555555555555556,
              "#d8576b"
             ],
             [
              0.6666666666666666,
              "#ed7953"
             ],
             [
              0.7777777777777778,
              "#fb9f3a"
             ],
             [
              0.8888888888888888,
              "#fdca26"
             ],
             [
              1,
              "#f0f921"
             ]
            ],
            "type": "contour"
           }
          ],
          "contourcarpet": [
           {
            "colorbar": {
             "outlinewidth": 0,
             "ticks": ""
            },
            "type": "contourcarpet"
           }
          ],
          "heatmap": [
           {
            "colorbar": {
             "outlinewidth": 0,
             "ticks": ""
            },
            "colorscale": [
             [
              0,
              "#0d0887"
             ],
             [
              0.1111111111111111,
              "#46039f"
             ],
             [
              0.2222222222222222,
              "#7201a8"
             ],
             [
              0.3333333333333333,
              "#9c179e"
             ],
             [
              0.4444444444444444,
              "#bd3786"
             ],
             [
              0.5555555555555556,
              "#d8576b"
             ],
             [
              0.6666666666666666,
              "#ed7953"
             ],
             [
              0.7777777777777778,
              "#fb9f3a"
             ],
             [
              0.8888888888888888,
              "#fdca26"
             ],
             [
              1,
              "#f0f921"
             ]
            ],
            "type": "heatmap"
           }
          ],
          "histogram": [
           {
            "marker": {
             "pattern": {
              "fillmode": "overlay",
              "size": 10,
              "solidity": 0.2
             }
            },
            "type": "histogram"
           }
          ],
          "histogram2d": [
           {
            "colorbar": {
             "outlinewidth": 0,
             "ticks": ""
            },
            "colorscale": [
             [
              0,
              "#0d0887"
             ],
             [
              0.1111111111111111,
              "#46039f"
             ],
             [
              0.2222222222222222,
              "#7201a8"
             ],
             [
              0.3333333333333333,
              "#9c179e"
             ],
             [
              0.4444444444444444,
              "#bd3786"
             ],
             [
              0.5555555555555556,
              "#d8576b"
             ],
             [
              0.6666666666666666,
              "#ed7953"
             ],
             [
              0.7777777777777778,
              "#fb9f3a"
             ],
             [
              0.8888888888888888,
              "#fdca26"
             ],
             [
              1,
              "#f0f921"
             ]
            ],
            "type": "histogram2d"
           }
          ],
          "histogram2dcontour": [
           {
            "colorbar": {
             "outlinewidth": 0,
             "ticks": ""
            },
            "colorscale": [
             [
              0,
              "#0d0887"
             ],
             [
              0.1111111111111111,
              "#46039f"
             ],
             [
              0.2222222222222222,
              "#7201a8"
             ],
             [
              0.3333333333333333,
              "#9c179e"
             ],
             [
              0.4444444444444444,
              "#bd3786"
             ],
             [
              0.5555555555555556,
              "#d8576b"
             ],
             [
              0.6666666666666666,
              "#ed7953"
             ],
             [
              0.7777777777777778,
              "#fb9f3a"
             ],
             [
              0.8888888888888888,
              "#fdca26"
             ],
             [
              1,
              "#f0f921"
             ]
            ],
            "type": "histogram2dcontour"
           }
          ],
          "mesh3d": [
           {
            "colorbar": {
             "outlinewidth": 0,
             "ticks": ""
            },
            "type": "mesh3d"
           }
          ],
          "parcoords": [
           {
            "line": {
             "colorbar": {
              "outlinewidth": 0,
              "ticks": ""
             }
            },
            "type": "parcoords"
           }
          ],
          "pie": [
           {
            "automargin": true,
            "type": "pie"
           }
          ],
          "scatter": [
           {
            "fillpattern": {
             "fillmode": "overlay",
             "size": 10,
             "solidity": 0.2
            },
            "type": "scatter"
           }
          ],
          "scatter3d": [
           {
            "line": {
             "colorbar": {
              "outlinewidth": 0,
              "ticks": ""
             }
            },
            "marker": {
             "colorbar": {
              "outlinewidth": 0,
              "ticks": ""
             }
            },
            "type": "scatter3d"
           }
          ],
          "scattercarpet": [
           {
            "marker": {
             "colorbar": {
              "outlinewidth": 0,
              "ticks": ""
             }
            },
            "type": "scattercarpet"
           }
          ],
          "scattergeo": [
           {
            "marker": {
             "colorbar": {
              "outlinewidth": 0,
              "ticks": ""
             }
            },
            "type": "scattergeo"
           }
          ],
          "scattergl": [
           {
            "marker": {
             "colorbar": {
              "outlinewidth": 0,
              "ticks": ""
             }
            },
            "type": "scattergl"
           }
          ],
          "scattermap": [
           {
            "marker": {
             "colorbar": {
              "outlinewidth": 0,
              "ticks": ""
             }
            },
            "type": "scattermap"
           }
          ],
          "scattermapbox": [
           {
            "marker": {
             "colorbar": {
              "outlinewidth": 0,
              "ticks": ""
             }
            },
            "type": "scattermapbox"
           }
          ],
          "scatterpolar": [
           {
            "marker": {
             "colorbar": {
              "outlinewidth": 0,
              "ticks": ""
             }
            },
            "type": "scatterpolar"
           }
          ],
          "scatterpolargl": [
           {
            "marker": {
             "colorbar": {
              "outlinewidth": 0,
              "ticks": ""
             }
            },
            "type": "scatterpolargl"
           }
          ],
          "scatterternary": [
           {
            "marker": {
             "colorbar": {
              "outlinewidth": 0,
              "ticks": ""
             }
            },
            "type": "scatterternary"
           }
          ],
          "surface": [
           {
            "colorbar": {
             "outlinewidth": 0,
             "ticks": ""
            },
            "colorscale": [
             [
              0,
              "#0d0887"
             ],
             [
              0.1111111111111111,
              "#46039f"
             ],
             [
              0.2222222222222222,
              "#7201a8"
             ],
             [
              0.3333333333333333,
              "#9c179e"
             ],
             [
              0.4444444444444444,
              "#bd3786"
             ],
             [
              0.5555555555555556,
              "#d8576b"
             ],
             [
              0.6666666666666666,
              "#ed7953"
             ],
             [
              0.7777777777777778,
              "#fb9f3a"
             ],
             [
              0.8888888888888888,
              "#fdca26"
             ],
             [
              1,
              "#f0f921"
             ]
            ],
            "type": "surface"
           }
          ],
          "table": [
           {
            "cells": {
             "fill": {
              "color": "#EBF0F8"
             },
             "line": {
              "color": "white"
             }
            },
            "header": {
             "fill": {
              "color": "#C8D4E3"
             },
             "line": {
              "color": "white"
             }
            },
            "type": "table"
           }
          ]
         },
         "layout": {
          "annotationdefaults": {
           "arrowcolor": "#2a3f5f",
           "arrowhead": 0,
           "arrowwidth": 1
          },
          "autotypenumbers": "strict",
          "coloraxis": {
           "colorbar": {
            "outlinewidth": 0,
            "ticks": ""
           }
          },
          "colorscale": {
           "diverging": [
            [
             0,
             "#8e0152"
            ],
            [
             0.1,
             "#c51b7d"
            ],
            [
             0.2,
             "#de77ae"
            ],
            [
             0.3,
             "#f1b6da"
            ],
            [
             0.4,
             "#fde0ef"
            ],
            [
             0.5,
             "#f7f7f7"
            ],
            [
             0.6,
             "#e6f5d0"
            ],
            [
             0.7,
             "#b8e186"
            ],
            [
             0.8,
             "#7fbc41"
            ],
            [
             0.9,
             "#4d9221"
            ],
            [
             1,
             "#276419"
            ]
           ],
           "sequential": [
            [
             0,
             "#0d0887"
            ],
            [
             0.1111111111111111,
             "#46039f"
            ],
            [
             0.2222222222222222,
             "#7201a8"
            ],
            [
             0.3333333333333333,
             "#9c179e"
            ],
            [
             0.4444444444444444,
             "#bd3786"
            ],
            [
             0.5555555555555556,
             "#d8576b"
            ],
            [
             0.6666666666666666,
             "#ed7953"
            ],
            [
             0.7777777777777778,
             "#fb9f3a"
            ],
            [
             0.8888888888888888,
             "#fdca26"
            ],
            [
             1,
             "#f0f921"
            ]
           ],
           "sequentialminus": [
            [
             0,
             "#0d0887"
            ],
            [
             0.1111111111111111,
             "#46039f"
            ],
            [
             0.2222222222222222,
             "#7201a8"
            ],
            [
             0.3333333333333333,
             "#9c179e"
            ],
            [
             0.4444444444444444,
             "#bd3786"
            ],
            [
             0.5555555555555556,
             "#d8576b"
            ],
            [
             0.6666666666666666,
             "#ed7953"
            ],
            [
             0.7777777777777778,
             "#fb9f3a"
            ],
            [
             0.8888888888888888,
             "#fdca26"
            ],
            [
             1,
             "#f0f921"
            ]
           ]
          },
          "colorway": [
           "#636efa",
           "#EF553B",
           "#00cc96",
           "#ab63fa",
           "#FFA15A",
           "#19d3f3",
           "#FF6692",
           "#B6E880",
           "#FF97FF",
           "#FECB52"
          ],
          "font": {
           "color": "#2a3f5f"
          },
          "geo": {
           "bgcolor": "white",
           "lakecolor": "white",
           "landcolor": "#E5ECF6",
           "showlakes": true,
           "showland": true,
           "subunitcolor": "white"
          },
          "hoverlabel": {
           "align": "left"
          },
          "hovermode": "closest",
          "mapbox": {
           "style": "light"
          },
          "paper_bgcolor": "white",
          "plot_bgcolor": "#E5ECF6",
          "polar": {
           "angularaxis": {
            "gridcolor": "white",
            "linecolor": "white",
            "ticks": ""
           },
           "bgcolor": "#E5ECF6",
           "radialaxis": {
            "gridcolor": "white",
            "linecolor": "white",
            "ticks": ""
           }
          },
          "scene": {
           "xaxis": {
            "backgroundcolor": "#E5ECF6",
            "gridcolor": "white",
            "gridwidth": 2,
            "linecolor": "white",
            "showbackground": true,
            "ticks": "",
            "zerolinecolor": "white"
           },
           "yaxis": {
            "backgroundcolor": "#E5ECF6",
            "gridcolor": "white",
            "gridwidth": 2,
            "linecolor": "white",
            "showbackground": true,
            "ticks": "",
            "zerolinecolor": "white"
           },
           "zaxis": {
            "backgroundcolor": "#E5ECF6",
            "gridcolor": "white",
            "gridwidth": 2,
            "linecolor": "white",
            "showbackground": true,
            "ticks": "",
            "zerolinecolor": "white"
           }
          },
          "shapedefaults": {
           "line": {
            "color": "#2a3f5f"
           }
          },
          "ternary": {
           "aaxis": {
            "gridcolor": "white",
            "linecolor": "white",
            "ticks": ""
           },
           "baxis": {
            "gridcolor": "white",
            "linecolor": "white",
            "ticks": ""
           },
           "bgcolor": "#E5ECF6",
           "caxis": {
            "gridcolor": "white",
            "linecolor": "white",
            "ticks": ""
           }
          },
          "title": {
           "x": 0.05
          },
          "xaxis": {
           "automargin": true,
           "gridcolor": "white",
           "linecolor": "white",
           "ticks": "",
           "title": {
            "standoff": 15
           },
           "zerolinecolor": "white",
           "zerolinewidth": 2
          },
          "yaxis": {
           "automargin": true,
           "gridcolor": "white",
           "linecolor": "white",
           "ticks": "",
           "title": {
            "standoff": 15
           },
           "zerolinecolor": "white",
           "zerolinewidth": 2
          }
         }
        },
        "title": {
         "text": "ROSES (Past) vs PICNIC_BASKET1 (Present)"
        },
        "xaxis": {
         "title": {
          "text": "Index or Time"
         }
        },
        "yaxis": {
         "tickfont": {
          "color": "blue"
         },
         "title": {
          "font": {
           "color": "blue"
          },
          "text": "ROSES"
         }
        },
        "yaxis2": {
         "anchor": "x",
         "overlaying": "y",
         "side": "right",
         "tickfont": {
          "color": "red"
         },
         "title": {
          "font": {
           "color": "red"
          },
          "text": "PICNIC_BASKET1"
         }
        }
       }
      }
     },
     "metadata": {},
     "output_type": "display_data"
    },
    {
     "data": {
      "application/vnd.plotly.v1+json": {
       "config": {
        "plotlyServerURL": "https://plot.ly"
       },
       "data": [
        {
         "line": {
          "color": "blue"
         },
         "name": "ROSES (Past)",
         "type": "scatter",
         "x": {
          "bdata": "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",
          "dtype": "i4"
         },
         "y": {
          "bdata": "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",
          "dtype": "f8"
         },
         "yaxis": "y"
        },
        {
         "line": {
          "color": "red"
         },
         "name": "PICNIC_BASKET2 (Present)",
         "type": "scatter",
         "x": {
          "bdata": "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",
          "dtype": "i4"
         },
         "y": {
          "bdata": "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",
          "dtype": "f8"
         },
         "yaxis": "y2"
        }
       ],
       "layout": {
        "legend": {
         "x": 0.01,
         "y": 0.99
        },
        "template": {
         "data": {
          "bar": [
           {
            "error_x": {
             "color": "#2a3f5f"
            },
            "error_y": {
             "color": "#2a3f5f"
            },
            "marker": {
             "line": {
              "color": "#E5ECF6",
              "width": 0.5
             },
             "pattern": {
              "fillmode": "overlay",
              "size": 10,
              "solidity": 0.2
             }
            },
            "type": "bar"
           }
          ],
          "barpolar": [
           {
            "marker": {
             "line": {
              "color": "#E5ECF6",
              "width": 0.5
             },
             "pattern": {
              "fillmode": "overlay",
              "size": 10,
              "solidity": 0.2
             }
            },
            "type": "barpolar"
           }
          ],
          "carpet": [
           {
            "aaxis": {
             "endlinecolor": "#2a3f5f",
             "gridcolor": "white",
             "linecolor": "white",
             "minorgridcolor": "white",
             "startlinecolor": "#2a3f5f"
            },
            "baxis": {
             "endlinecolor": "#2a3f5f",
             "gridcolor": "white",
             "linecolor": "white",
             "minorgridcolor": "white",
             "startlinecolor": "#2a3f5f"
            },
            "type": "carpet"
           }
          ],
          "choropleth": [
           {
            "colorbar": {
             "outlinewidth": 0,
             "ticks": ""
            },
            "type": "choropleth"
           }
          ],
          "contour": [
           {
            "colorbar": {
             "outlinewidth": 0,
             "ticks": ""
            },
            "colorscale": [
             [
              0,
              "#0d0887"
             ],
             [
              0.1111111111111111,
              "#46039f"
             ],
             [
              0.2222222222222222,
              "#7201a8"
             ],
             [
              0.3333333333333333,
              "#9c179e"
             ],
             [
              0.4444444444444444,
              "#bd3786"
             ],
             [
              0.5555555555555556,
              "#d8576b"
             ],
             [
              0.6666666666666666,
              "#ed7953"
             ],
             [
              0.7777777777777778,
              "#fb9f3a"
             ],
             [
              0.8888888888888888,
              "#fdca26"
             ],
             [
              1,
              "#f0f921"
             ]
            ],
            "type": "contour"
           }
          ],
          "contourcarpet": [
           {
            "colorbar": {
             "outlinewidth": 0,
             "ticks": ""
            },
            "type": "contourcarpet"
           }
          ],
          "heatmap": [
           {
            "colorbar": {
             "outlinewidth": 0,
             "ticks": ""
            },
            "colorscale": [
             [
              0,
              "#0d0887"
             ],
             [
              0.1111111111111111,
              "#46039f"
             ],
             [
              0.2222222222222222,
              "#7201a8"
             ],
             [
              0.3333333333333333,
              "#9c179e"
             ],
             [
              0.4444444444444444,
              "#bd3786"
             ],
             [
              0.5555555555555556,
              "#d8576b"
             ],
             [
              0.6666666666666666,
              "#ed7953"
             ],
             [
              0.7777777777777778,
              "#fb9f3a"
             ],
             [
              0.8888888888888888,
              "#fdca26"
             ],
             [
              1,
              "#f0f921"
             ]
            ],
            "type": "heatmap"
           }
          ],
          "histogram": [
           {
            "marker": {
             "pattern": {
              "fillmode": "overlay",
              "size": 10,
              "solidity": 0.2
             }
            },
            "type": "histogram"
           }
          ],
          "histogram2d": [
           {
            "colorbar": {
             "outlinewidth": 0,
             "ticks": ""
            },
            "colorscale": [
             [
              0,
              "#0d0887"
             ],
             [
              0.1111111111111111,
              "#46039f"
             ],
             [
              0.2222222222222222,
              "#7201a8"
             ],
             [
              0.3333333333333333,
              "#9c179e"
             ],
             [
              0.4444444444444444,
              "#bd3786"
             ],
             [
              0.5555555555555556,
              "#d8576b"
             ],
             [
              0.6666666666666666,
              "#ed7953"
             ],
             [
              0.7777777777777778,
              "#fb9f3a"
             ],
             [
              0.8888888888888888,
              "#fdca26"
             ],
             [
              1,
              "#f0f921"
             ]
            ],
            "type": "histogram2d"
           }
          ],
          "histogram2dcontour": [
           {
            "colorbar": {
             "outlinewidth": 0,
             "ticks": ""
            },
            "colorscale": [
             [
              0,
              "#0d0887"
             ],
             [
              0.1111111111111111,
              "#46039f"
             ],
             [
              0.2222222222222222,
              "#7201a8"
             ],
             [
              0.3333333333333333,
              "#9c179e"
             ],
             [
              0.4444444444444444,
              "#bd3786"
             ],
             [
              0.5555555555555556,
              "#d8576b"
             ],
             [
              0.6666666666666666,
              "#ed7953"
             ],
             [
              0.7777777777777778,
              "#fb9f3a"
             ],
             [
              0.8888888888888888,
              "#fdca26"
             ],
             [
              1,
              "#f0f921"
             ]
            ],
            "type": "histogram2dcontour"
           }
          ],
          "mesh3d": [
           {
            "colorbar": {
             "outlinewidth": 0,
             "ticks": ""
            },
            "type": "mesh3d"
           }
          ],
          "parcoords": [
           {
            "line": {
             "colorbar": {
              "outlinewidth": 0,
              "ticks": ""
             }
            },
            "type": "parcoords"
           }
          ],
          "pie": [
           {
            "automargin": true,
            "type": "pie"
           }
          ],
          "scatter": [
           {
            "fillpattern": {
             "fillmode": "overlay",
             "size": 10,
             "solidity": 0.2
            },
            "type": "scatter"
           }
          ],
          "scatter3d": [
           {
            "line": {
             "colorbar": {
              "outlinewidth": 0,
              "ticks": ""
             }
            },
            "marker": {
             "colorbar": {
              "outlinewidth": 0,
              "ticks": ""
             }
            },
            "type": "scatter3d"
           }
          ],
          "scattercarpet": [
           {
            "marker": {
             "colorbar": {
              "outlinewidth": 0,
              "ticks": ""
             }
            },
            "type": "scattercarpet"
           }
          ],
          "scattergeo": [
           {
            "marker": {
             "colorbar": {
              "outlinewidth": 0,
              "ticks": ""
             }
            },
            "type": "scattergeo"
           }
          ],
          "scattergl": [
           {
            "marker": {
             "colorbar": {
              "outlinewidth": 0,
              "ticks": ""
             }
            },
            "type": "scattergl"
           }
          ],
          "scattermap": [
           {
            "marker": {
             "colorbar": {
              "outlinewidth": 0,
              "ticks": ""
             }
            },
            "type": "scattermap"
           }
          ],
          "scattermapbox": [
           {
            "marker": {
             "colorbar": {
              "outlinewidth": 0,
              "ticks": ""
             }
            },
            "type": "scattermapbox"
           }
          ],
          "scatterpolar": [
           {
            "marker": {
             "colorbar": {
              "outlinewidth": 0,
              "ticks": ""
             }
            },
            "type": "scatterpolar"
           }
          ],
          "scatterpolargl": [
           {
            "marker": {
             "colorbar": {
              "outlinewidth": 0,
              "ticks": ""
             }
            },
            "type": "scatterpolargl"
           }
          ],
          "scatterternary": [
           {
            "marker": {
             "colorbar": {
              "outlinewidth": 0,
              "ticks": ""
             }
            },
            "type": "scatterternary"
           }
          ],
          "surface": [
           {
            "colorbar": {
             "outlinewidth": 0,
             "ticks": ""
            },
            "colorscale": [
             [
              0,
              "#0d0887"
             ],
             [
              0.1111111111111111,
              "#46039f"
             ],
             [
              0.2222222222222222,
              "#7201a8"
             ],
             [
              0.3333333333333333,
              "#9c179e"
             ],
             [
              0.4444444444444444,
              "#bd3786"
             ],
             [
              0.5555555555555556,
              "#d8576b"
             ],
             [
              0.6666666666666666,
              "#ed7953"
             ],
             [
              0.7777777777777778,
              "#fb9f3a"
             ],
             [
              0.8888888888888888,
              "#fdca26"
             ],
             [
              1,
              "#f0f921"
             ]
            ],
            "type": "surface"
           }
          ],
          "table": [
           {
            "cells": {
             "fill": {
              "color": "#EBF0F8"
             },
             "line": {
              "color": "white"
             }
            },
            "header": {
             "fill": {
              "color": "#C8D4E3"
             },
             "line": {
              "color": "white"
             }
            },
            "type": "table"
           }
          ]
         },
         "layout": {
          "annotationdefaults": {
           "arrowcolor": "#2a3f5f",
           "arrowhead": 0,
           "arrowwidth": 1
          },
          "autotypenumbers": "strict",
          "coloraxis": {
           "colorbar": {
            "outlinewidth": 0,
            "ticks": ""
           }
          },
          "colorscale": {
           "diverging": [
            [
             0,
             "#8e0152"
            ],
            [
             0.1,
             "#c51b7d"
            ],
            [
             0.2,
             "#de77ae"
            ],
            [
             0.3,
             "#f1b6da"
            ],
            [
             0.4,
             "#fde0ef"
            ],
            [
             0.5,
             "#f7f7f7"
            ],
            [
             0.6,
             "#e6f5d0"
            ],
            [
             0.7,
             "#b8e186"
            ],
            [
             0.8,
             "#7fbc41"
            ],
            [
             0.9,
             "#4d9221"
            ],
            [
             1,
             "#276419"
            ]
           ],
           "sequential": [
            [
             0,
             "#0d0887"
            ],
            [
             0.1111111111111111,
             "#46039f"
            ],
            [
             0.2222222222222222,
             "#7201a8"
            ],
            [
             0.3333333333333333,
             "#9c179e"
            ],
            [
             0.4444444444444444,
             "#bd3786"
            ],
            [
             0.5555555555555556,
             "#d8576b"
            ],
            [
             0.6666666666666666,
             "#ed7953"
            ],
            [
             0.7777777777777778,
             "#fb9f3a"
            ],
            [
             0.8888888888888888,
             "#fdca26"
            ],
            [
             1,
             "#f0f921"
            ]
           ],
           "sequentialminus": [
            [
             0,
             "#0d0887"
            ],
            [
             0.1111111111111111,
             "#46039f"
            ],
            [
             0.2222222222222222,
             "#7201a8"
            ],
            [
             0.3333333333333333,
             "#9c179e"
            ],
            [
             0.4444444444444444,
             "#bd3786"
            ],
            [
             0.5555555555555556,
             "#d8576b"
            ],
            [
             0.6666666666666666,
             "#ed7953"
            ],
            [
             0.7777777777777778,
             "#fb9f3a"
            ],
            [
             0.8888888888888888,
             "#fdca26"
            ],
            [
             1,
             "#f0f921"
            ]
           ]
          },
          "colorway": [
           "#636efa",
           "#EF553B",
           "#00cc96",
           "#ab63fa",
           "#FFA15A",
           "#19d3f3",
           "#FF6692",
           "#B6E880",
           "#FF97FF",
           "#FECB52"
          ],
          "font": {
           "color": "#2a3f5f"
          },
          "geo": {
           "bgcolor": "white",
           "lakecolor": "white",
           "landcolor": "#E5ECF6",
           "showlakes": true,
           "showland": true,
           "subunitcolor": "white"
          },
          "hoverlabel": {
           "align": "left"
          },
          "hovermode": "closest",
          "mapbox": {
           "style": "light"
          },
          "paper_bgcolor": "white",
          "plot_bgcolor": "#E5ECF6",
          "polar": {
           "angularaxis": {
            "gridcolor": "white",
            "linecolor": "white",
            "ticks": ""
           },
           "bgcolor": "#E5ECF6",
           "radialaxis": {
            "gridcolor": "white",
            "linecolor": "white",
            "ticks": ""
           }
          },
          "scene": {
           "xaxis": {
            "backgroundcolor": "#E5ECF6",
            "gridcolor": "white",
            "gridwidth": 2,
            "linecolor": "white",
            "showbackground": true,
            "ticks": "",
            "zerolinecolor": "white"
           },
           "yaxis": {
            "backgroundcolor": "#E5ECF6",
            "gridcolor": "white",
            "gridwidth": 2,
            "linecolor": "white",
            "showbackground": true,
            "ticks": "",
            "zerolinecolor": "white"
           },
           "zaxis": {
            "backgroundcolor": "#E5ECF6",
            "gridcolor": "white",
            "gridwidth": 2,
            "linecolor": "white",
            "showbackground": true,
            "ticks": "",
            "zerolinecolor": "white"
           }
          },
          "shapedefaults": {
           "line": {
            "color": "#2a3f5f"
           }
          },
          "ternary": {
           "aaxis": {
            "gridcolor": "white",
            "linecolor": "white",
            "ticks": ""
           },
           "baxis": {
            "gridcolor": "white",
            "linecolor": "white",
            "ticks": ""
           },
           "bgcolor": "#E5ECF6",
           "caxis": {
            "gridcolor": "white",
            "linecolor": "white",
            "ticks": ""
           }
          },
          "title": {
           "x": 0.05
          },
          "xaxis": {
           "automargin": true,
           "gridcolor": "white",
           "linecolor": "white",
           "ticks": "",
           "title": {
            "standoff": 15
           },
           "zerolinecolor": "white",
           "zerolinewidth": 2
          },
          "yaxis": {
           "automargin": true,
           "gridcolor": "white",
           "linecolor": "white",
           "ticks": "",
           "title": {
            "standoff": 15
           },
           "zerolinecolor": "white",
           "zerolinewidth": 2
          }
         }
        },
        "title": {
         "text": "ROSES (Past) vs PICNIC_BASKET2 (Present)"
        },
        "xaxis": {
         "title": {
          "text": "Index or Time"
         }
        },
        "yaxis": {
         "tickfont": {
          "color": "blue"
         },
         "title": {
          "font": {
           "color": "blue"
          },
          "text": "ROSES"
         }
        },
        "yaxis2": {
         "anchor": "x",
         "overlaying": "y",
         "side": "right",
         "tickfont": {
          "color": "red"
         },
         "title": {
          "font": {
           "color": "red"
          },
          "text": "PICNIC_BASKET2"
         }
        }
       }
      }
     },
     "metadata": {},
     "output_type": "display_data"
    },
    {
     "data": {
      "application/vnd.plotly.v1+json": {
       "config": {
        "plotlyServerURL": "https://plot.ly"
       },
       "data": [
        {
         "line": {
          "color": "blue"
         },
         "name": "COCONUT (Past)",
         "type": "scatter",
         "x": {
          "bdata": "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",
          "dtype": "i4"
         },
         "y": {
          "bdata": "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",
          "dtype": "f8"
         },
         "yaxis": "y"
        },
        {
         "line": {
          "color": "red"
         },
         "name": "PICNIC_BASKET1 (Present)",
         "type": "scatter",
         "x": {
          "bdata": "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",
          "dtype": "i4"
         },
         "y": {
          "bdata": "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",
          "dtype": "f8"
         },
         "yaxis": "y2"
        }
       ],
       "layout": {
        "legend": {
         "x": 0.01,
         "y": 0.99
        },
        "template": {
         "data": {
          "bar": [
           {
            "error_x": {
             "color": "#2a3f5f"
            },
            "error_y": {
             "color": "#2a3f5f"
            },
            "marker": {
             "line": {
              "color": "#E5ECF6",
              "width": 0.5
             },
             "pattern": {
              "fillmode": "overlay",
              "size": 10,
              "solidity": 0.2
             }
            },
            "type": "bar"
           }
          ],
          "barpolar": [
           {
            "marker": {
             "line": {
              "color": "#E5ECF6",
              "width": 0.5
             },
             "pattern": {
              "fillmode": "overlay",
              "size": 10,
              "solidity": 0.2
             }
            },
            "type": "barpolar"
           }
          ],
          "carpet": [
           {
            "aaxis": {
             "endlinecolor": "#2a3f5f",
             "gridcolor": "white",
             "linecolor": "white",
             "minorgridcolor": "white",
             "startlinecolor": "#2a3f5f"
            },
            "baxis": {
             "endlinecolor": "#2a3f5f",
             "gridcolor": "white",
             "linecolor": "white",
             "minorgridcolor": "white",
             "startlinecolor": "#2a3f5f"
            },
            "type": "carpet"
           }
          ],
          "choropleth": [
           {
            "colorbar": {
             "outlinewidth": 0,
             "ticks": ""
            },
            "type": "choropleth"
           }
          ],
          "contour": [
           {
            "colorbar": {
             "outlinewidth": 0,
             "ticks": ""
            },
            "colorscale": [
             [
              0,
              "#0d0887"
             ],
             [
              0.1111111111111111,
              "#46039f"
             ],
             [
              0.2222222222222222,
              "#7201a8"
             ],
             [
              0.3333333333333333,
              "#9c179e"
             ],
             [
              0.4444444444444444,
              "#bd3786"
             ],
             [
              0.5555555555555556,
              "#d8576b"
             ],
             [
              0.6666666666666666,
              "#ed7953"
             ],
             [
              0.7777777777777778,
              "#fb9f3a"
             ],
             [
              0.8888888888888888,
              "#fdca26"
             ],
             [
              1,
              "#f0f921"
             ]
            ],
            "type": "contour"
           }
          ],
          "contourcarpet": [
           {
            "colorbar": {
             "outlinewidth": 0,
             "ticks": ""
            },
            "type": "contourcarpet"
           }
          ],
          "heatmap": [
           {
            "colorbar": {
             "outlinewidth": 0,
             "ticks": ""
            },
            "colorscale": [
             [
              0,
              "#0d0887"
             ],
             [
              0.1111111111111111,
              "#46039f"
             ],
             [
              0.2222222222222222,
              "#7201a8"
             ],
             [
              0.3333333333333333,
              "#9c179e"
             ],
             [
              0.4444444444444444,
              "#bd3786"
             ],
             [
              0.5555555555555556,
              "#d8576b"
             ],
             [
              0.6666666666666666,
              "#ed7953"
             ],
             [
              0.7777777777777778,
              "#fb9f3a"
             ],
             [
              0.8888888888888888,
              "#fdca26"
             ],
             [
              1,
              "#f0f921"
             ]
            ],
            "type": "heatmap"
           }
          ],
          "histogram": [
           {
            "marker": {
             "pattern": {
              "fillmode": "overlay",
              "size": 10,
              "solidity": 0.2
             }
            },
            "type": "histogram"
           }
          ],
          "histogram2d": [
           {
            "colorbar": {
             "outlinewidth": 0,
             "ticks": ""
            },
            "colorscale": [
             [
              0,
              "#0d0887"
             ],
             [
              0.1111111111111111,
              "#46039f"
             ],
             [
              0.2222222222222222,
              "#7201a8"
             ],
             [
              0.3333333333333333,
              "#9c179e"
             ],
             [
              0.4444444444444444,
              "#bd3786"
             ],
             [
              0.5555555555555556,
              "#d8576b"
             ],
             [
              0.6666666666666666,
              "#ed7953"
             ],
             [
              0.7777777777777778,
              "#fb9f3a"
             ],
             [
              0.8888888888888888,
              "#fdca26"
             ],
             [
              1,
              "#f0f921"
             ]
            ],
            "type": "histogram2d"
           }
          ],
          "histogram2dcontour": [
           {
            "colorbar": {
             "outlinewidth": 0,
             "ticks": ""
            },
            "colorscale": [
             [
              0,
              "#0d0887"
             ],
             [
              0.1111111111111111,
              "#46039f"
             ],
             [
              0.2222222222222222,
              "#7201a8"
             ],
             [
              0.3333333333333333,
              "#9c179e"
             ],
             [
              0.4444444444444444,
              "#bd3786"
             ],
             [
              0.5555555555555556,
              "#d8576b"
             ],
             [
              0.6666666666666666,
              "#ed7953"
             ],
             [
              0.7777777777777778,
              "#fb9f3a"
             ],
             [
              0.8888888888888888,
              "#fdca26"
             ],
             [
              1,
              "#f0f921"
             ]
            ],
            "type": "histogram2dcontour"
           }
          ],
          "mesh3d": [
           {
            "colorbar": {
             "outlinewidth": 0,
             "ticks": ""
            },
            "type": "mesh3d"
           }
          ],
          "parcoords": [
           {
            "line": {
             "colorbar": {
              "outlinewidth": 0,
              "ticks": ""
             }
            },
            "type": "parcoords"
           }
          ],
          "pie": [
           {
            "automargin": true,
            "type": "pie"
           }
          ],
          "scatter": [
           {
            "fillpattern": {
             "fillmode": "overlay",
             "size": 10,
             "solidity": 0.2
            },
            "type": "scatter"
           }
          ],
          "scatter3d": [
           {
            "line": {
             "colorbar": {
              "outlinewidth": 0,
              "ticks": ""
             }
            },
            "marker": {
             "colorbar": {
              "outlinewidth": 0,
              "ticks": ""
             }
            },
            "type": "scatter3d"
           }
          ],
          "scattercarpet": [
           {
            "marker": {
             "colorbar": {
              "outlinewidth": 0,
              "ticks": ""
             }
            },
            "type": "scattercarpet"
           }
          ],
          "scattergeo": [
           {
            "marker": {
             "colorbar": {
              "outlinewidth": 0,
              "ticks": ""
             }
            },
            "type": "scattergeo"
           }
          ],
          "scattergl": [
           {
            "marker": {
             "colorbar": {
              "outlinewidth": 0,
              "ticks": ""
             }
            },
            "type": "scattergl"
           }
          ],
          "scattermap": [
           {
            "marker": {
             "colorbar": {
              "outlinewidth": 0,
              "ticks": ""
             }
            },
            "type": "scattermap"
           }
          ],
          "scattermapbox": [
           {
            "marker": {
             "colorbar": {
              "outlinewidth": 0,
              "ticks": ""
             }
            },
            "type": "scattermapbox"
           }
          ],
          "scatterpolar": [
           {
            "marker": {
             "colorbar": {
              "outlinewidth": 0,
              "ticks": ""
             }
            },
            "type": "scatterpolar"
           }
          ],
          "scatterpolargl": [
           {
            "marker": {
             "colorbar": {
              "outlinewidth": 0,
              "ticks": ""
             }
            },
            "type": "scatterpolargl"
           }
          ],
          "scatterternary": [
           {
            "marker": {
             "colorbar": {
              "outlinewidth": 0,
              "ticks": ""
             }
            },
            "type": "scatterternary"
           }
          ],
          "surface": [
           {
            "colorbar": {
             "outlinewidth": 0,
             "ticks": ""
            },
            "colorscale": [
             [
              0,
              "#0d0887"
             ],
             [
              0.1111111111111111,
              "#46039f"
             ],
             [
              0.2222222222222222,
              "#7201a8"
             ],
             [
              0.3333333333333333,
              "#9c179e"
             ],
             [
              0.4444444444444444,
              "#bd3786"
             ],
             [
              0.5555555555555556,
              "#d8576b"
             ],
             [
              0.6666666666666666,
              "#ed7953"
             ],
             [
              0.7777777777777778,
              "#fb9f3a"
             ],
             [
              0.8888888888888888,
              "#fdca26"
             ],
             [
              1,
              "#f0f921"
             ]
            ],
            "type": "surface"
           }
          ],
          "table": [
           {
            "cells": {
             "fill": {
              "color": "#EBF0F8"
             },
             "line": {
              "color": "white"
             }
            },
            "header": {
             "fill": {
              "color": "#C8D4E3"
             },
             "line": {
              "color": "white"
             }
            },
            "type": "table"
           }
          ]
         },
         "layout": {
          "annotationdefaults": {
           "arrowcolor": "#2a3f5f",
           "arrowhead": 0,
           "arrowwidth": 1
          },
          "autotypenumbers": "strict",
          "coloraxis": {
           "colorbar": {
            "outlinewidth": 0,
            "ticks": ""
           }
          },
          "colorscale": {
           "diverging": [
            [
             0,
             "#8e0152"
            ],
            [
             0.1,
             "#c51b7d"
            ],
            [
             0.2,
             "#de77ae"
            ],
            [
             0.3,
             "#f1b6da"
            ],
            [
             0.4,
             "#fde0ef"
            ],
            [
             0.5,
             "#f7f7f7"
            ],
            [
             0.6,
             "#e6f5d0"
            ],
            [
             0.7,
             "#b8e186"
            ],
            [
             0.8,
             "#7fbc41"
            ],
            [
             0.9,
             "#4d9221"
            ],
            [
             1,
             "#276419"
            ]
           ],
           "sequential": [
            [
             0,
             "#0d0887"
            ],
            [
             0.1111111111111111,
             "#46039f"
            ],
            [
             0.2222222222222222,
             "#7201a8"
            ],
            [
             0.3333333333333333,
             "#9c179e"
            ],
            [
             0.4444444444444444,
             "#bd3786"
            ],
            [
             0.5555555555555556,
             "#d8576b"
            ],
            [
             0.6666666666666666,
             "#ed7953"
            ],
            [
             0.7777777777777778,
             "#fb9f3a"
            ],
            [
             0.8888888888888888,
             "#fdca26"
            ],
            [
             1,
             "#f0f921"
            ]
           ],
           "sequentialminus": [
            [
             0,
             "#0d0887"
            ],
            [
             0.1111111111111111,
             "#46039f"
            ],
            [
             0.2222222222222222,
             "#7201a8"
            ],
            [
             0.3333333333333333,
             "#9c179e"
            ],
            [
             0.4444444444444444,
             "#bd3786"
            ],
            [
             0.5555555555555556,
             "#d8576b"
            ],
            [
             0.6666666666666666,
             "#ed7953"
            ],
            [
             0.7777777777777778,
             "#fb9f3a"
            ],
            [
             0.8888888888888888,
             "#fdca26"
            ],
            [
             1,
             "#f0f921"
            ]
           ]
          },
          "colorway": [
           "#636efa",
           "#EF553B",
           "#00cc96",
           "#ab63fa",
           "#FFA15A",
           "#19d3f3",
           "#FF6692",
           "#B6E880",
           "#FF97FF",
           "#FECB52"
          ],
          "font": {
           "color": "#2a3f5f"
          },
          "geo": {
           "bgcolor": "white",
           "lakecolor": "white",
           "landcolor": "#E5ECF6",
           "showlakes": true,
           "showland": true,
           "subunitcolor": "white"
          },
          "hoverlabel": {
           "align": "left"
          },
          "hovermode": "closest",
          "mapbox": {
           "style": "light"
          },
          "paper_bgcolor": "white",
          "plot_bgcolor": "#E5ECF6",
          "polar": {
           "angularaxis": {
            "gridcolor": "white",
            "linecolor": "white",
            "ticks": ""
           },
           "bgcolor": "#E5ECF6",
           "radialaxis": {
            "gridcolor": "white",
            "linecolor": "white",
            "ticks": ""
           }
          },
          "scene": {
           "xaxis": {
            "backgroundcolor": "#E5ECF6",
            "gridcolor": "white",
            "gridwidth": 2,
            "linecolor": "white",
            "showbackground": true,
            "ticks": "",
            "zerolinecolor": "white"
           },
           "yaxis": {
            "backgroundcolor": "#E5ECF6",
            "gridcolor": "white",
            "gridwidth": 2,
            "linecolor": "white",
            "showbackground": true,
            "ticks": "",
            "zerolinecolor": "white"
           },
           "zaxis": {
            "backgroundcolor": "#E5ECF6",
            "gridcolor": "white",
            "gridwidth": 2,
            "linecolor": "white",
            "showbackground": true,
            "ticks": "",
            "zerolinecolor": "white"
           }
          },
          "shapedefaults": {
           "line": {
            "color": "#2a3f5f"
           }
          },
          "ternary": {
           "aaxis": {
            "gridcolor": "white",
            "linecolor": "white",
            "ticks": ""
           },
           "baxis": {
            "gridcolor": "white",
            "linecolor": "white",
            "ticks": ""
           },
           "bgcolor": "#E5ECF6",
           "caxis": {
            "gridcolor": "white",
            "linecolor": "white",
            "ticks": ""
           }
          },
          "title": {
           "x": 0.05
          },
          "xaxis": {
           "automargin": true,
           "gridcolor": "white",
           "linecolor": "white",
           "ticks": "",
           "title": {
            "standoff": 15
           },
           "zerolinecolor": "white",
           "zerolinewidth": 2
          },
          "yaxis": {
           "automargin": true,
           "gridcolor": "white",
           "linecolor": "white",
           "ticks": "",
           "title": {
            "standoff": 15
           },
           "zerolinecolor": "white",
           "zerolinewidth": 2
          }
         }
        },
        "title": {
         "text": "COCONUT (Past) vs PICNIC_BASKET1 (Present)"
        },
        "xaxis": {
         "title": {
          "text": "Index or Time"
         }
        },
        "yaxis": {
         "tickfont": {
          "color": "blue"
         },
         "title": {
          "font": {
           "color": "blue"
          },
          "text": "COCONUT"
         }
        },
        "yaxis2": {
         "anchor": "x",
         "overlaying": "y",
         "side": "right",
         "tickfont": {
          "color": "red"
         },
         "title": {
          "font": {
           "color": "red"
          },
          "text": "PICNIC_BASKET1"
         }
        }
       }
      }
     },
     "metadata": {},
     "output_type": "display_data"
    },
    {
     "data": {
      "application/vnd.plotly.v1+json": {
       "config": {
        "plotlyServerURL": "https://plot.ly"
       },
       "data": [
        {
         "line": {
          "color": "blue"
         },
         "name": "COCONUT (Past)",
         "type": "scatter",
         "x": {
          "bdata": "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",
          "dtype": "i4"
         },
         "y": {
          "bdata": "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",
          "dtype": "f8"
         },
         "yaxis": "y"
        },
        {
         "line": {
          "color": "red"
         },
         "name": "PICNIC_BASKET2 (Present)",
         "type": "scatter",
         "x": {
          "bdata": "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",
          "dtype": "i4"
         },
         "y": {
          "bdata": "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",
          "dtype": "f8"
         },
         "yaxis": "y2"
        }
       ],
       "layout": {
        "legend": {
         "x": 0.01,
         "y": 0.99
        },
        "template": {
         "data": {
          "bar": [
           {
            "error_x": {
             "color": "#2a3f5f"
            },
            "error_y": {
             "color": "#2a3f5f"
            },
            "marker": {
             "line": {
              "color": "#E5ECF6",
              "width": 0.5
             },
             "pattern": {
              "fillmode": "overlay",
              "size": 10,
              "solidity": 0.2
             }
            },
            "type": "bar"
           }
          ],
          "barpolar": [
           {
            "marker": {
             "line": {
              "color": "#E5ECF6",
              "width": 0.5
             },
             "pattern": {
              "fillmode": "overlay",
              "size": 10,
              "solidity": 0.2
             }
            },
            "type": "barpolar"
           }
          ],
          "carpet": [
           {
            "aaxis": {
             "endlinecolor": "#2a3f5f",
             "gridcolor": "white",
             "linecolor": "white",
             "minorgridcolor": "white",
             "startlinecolor": "#2a3f5f"
            },
            "baxis": {
             "endlinecolor": "#2a3f5f",
             "gridcolor": "white",
             "linecolor": "white",
             "minorgridcolor": "white",
             "startlinecolor": "#2a3f5f"
            },
            "type": "carpet"
           }
          ],
          "choropleth": [
           {
            "colorbar": {
             "outlinewidth": 0,
             "ticks": ""
            },
            "type": "choropleth"
           }
          ],
          "contour": [
           {
            "colorbar": {
             "outlinewidth": 0,
             "ticks": ""
            },
            "colorscale": [
             [
              0,
              "#0d0887"
             ],
             [
              0.1111111111111111,
              "#46039f"
             ],
             [
              0.2222222222222222,
              "#7201a8"
             ],
             [
              0.3333333333333333,
              "#9c179e"
             ],
             [
              0.4444444444444444,
              "#bd3786"
             ],
             [
              0.5555555555555556,
              "#d8576b"
             ],
             [
              0.6666666666666666,
              "#ed7953"
             ],
             [
              0.7777777777777778,
              "#fb9f3a"
             ],
             [
              0.8888888888888888,
              "#fdca26"
             ],
             [
              1,
              "#f0f921"
             ]
            ],
            "type": "contour"
           }
          ],
          "contourcarpet": [
           {
            "colorbar": {
             "outlinewidth": 0,
             "ticks": ""
            },
            "type": "contourcarpet"
           }
          ],
          "heatmap": [
           {
            "colorbar": {
             "outlinewidth": 0,
             "ticks": ""
            },
            "colorscale": [
             [
              0,
              "#0d0887"
             ],
             [
              0.1111111111111111,
              "#46039f"
             ],
             [
              0.2222222222222222,
              "#7201a8"
             ],
             [
              0.3333333333333333,
              "#9c179e"
             ],
             [
              0.4444444444444444,
              "#bd3786"
             ],
             [
              0.5555555555555556,
              "#d8576b"
             ],
             [
              0.6666666666666666,
              "#ed7953"
             ],
             [
              0.7777777777777778,
              "#fb9f3a"
             ],
             [
              0.8888888888888888,
              "#fdca26"
             ],
             [
              1,
              "#f0f921"
             ]
            ],
            "type": "heatmap"
           }
          ],
          "histogram": [
           {
            "marker": {
             "pattern": {
              "fillmode": "overlay",
              "size": 10,
              "solidity": 0.2
             }
            },
            "type": "histogram"
           }
          ],
          "histogram2d": [
           {
            "colorbar": {
             "outlinewidth": 0,
             "ticks": ""
            },
            "colorscale": [
             [
              0,
              "#0d0887"
             ],
             [
              0.1111111111111111,
              "#46039f"
             ],
             [
              0.2222222222222222,
              "#7201a8"
             ],
             [
              0.3333333333333333,
              "#9c179e"
             ],
             [
              0.4444444444444444,
              "#bd3786"
             ],
             [
              0.5555555555555556,
              "#d8576b"
             ],
             [
              0.6666666666666666,
              "#ed7953"
             ],
             [
              0.7777777777777778,
              "#fb9f3a"
             ],
             [
              0.8888888888888888,
              "#fdca26"
             ],
             [
              1,
              "#f0f921"
             ]
            ],
            "type": "histogram2d"
           }
          ],
          "histogram2dcontour": [
           {
            "colorbar": {
             "outlinewidth": 0,
             "ticks": ""
            },
            "colorscale": [
             [
              0,
              "#0d0887"
             ],
             [
              0.1111111111111111,
              "#46039f"
             ],
             [
              0.2222222222222222,
              "#7201a8"
             ],
             [
              0.3333333333333333,
              "#9c179e"
             ],
             [
              0.4444444444444444,
              "#bd3786"
             ],
             [
              0.5555555555555556,
              "#d8576b"
             ],
             [
              0.6666666666666666,
              "#ed7953"
             ],
             [
              0.7777777777777778,
              "#fb9f3a"
             ],
             [
              0.8888888888888888,
              "#fdca26"
             ],
             [
              1,
              "#f0f921"
             ]
            ],
            "type": "histogram2dcontour"
           }
          ],
          "mesh3d": [
           {
            "colorbar": {
             "outlinewidth": 0,
             "ticks": ""
            },
            "type": "mesh3d"
           }
          ],
          "parcoords": [
           {
            "line": {
             "colorbar": {
              "outlinewidth": 0,
              "ticks": ""
             }
            },
            "type": "parcoords"
           }
          ],
          "pie": [
           {
            "automargin": true,
            "type": "pie"
           }
          ],
          "scatter": [
           {
            "fillpattern": {
             "fillmode": "overlay",
             "size": 10,
             "solidity": 0.2
            },
            "type": "scatter"
           }
          ],
          "scatter3d": [
           {
            "line": {
             "colorbar": {
              "outlinewidth": 0,
              "ticks": ""
             }
            },
            "marker": {
             "colorbar": {
              "outlinewidth": 0,
              "ticks": ""
             }
            },
            "type": "scatter3d"
           }
          ],
          "scattercarpet": [
           {
            "marker": {
             "colorbar": {
              "outlinewidth": 0,
              "ticks": ""
             }
            },
            "type": "scattercarpet"
           }
          ],
          "scattergeo": [
           {
            "marker": {
             "colorbar": {
              "outlinewidth": 0,
              "ticks": ""
             }
            },
            "type": "scattergeo"
           }
          ],
          "scattergl": [
           {
            "marker": {
             "colorbar": {
              "outlinewidth": 0,
              "ticks": ""
             }
            },
            "type": "scattergl"
           }
          ],
          "scattermap": [
           {
            "marker": {
             "colorbar": {
              "outlinewidth": 0,
              "ticks": ""
             }
            },
            "type": "scattermap"
           }
          ],
          "scattermapbox": [
           {
            "marker": {
             "colorbar": {
              "outlinewidth": 0,
              "ticks": ""
             }
            },
            "type": "scattermapbox"
           }
          ],
          "scatterpolar": [
           {
            "marker": {
             "colorbar": {
              "outlinewidth": 0,
              "ticks": ""
             }
            },
            "type": "scatterpolar"
           }
          ],
          "scatterpolargl": [
           {
            "marker": {
             "colorbar": {
              "outlinewidth": 0,
              "ticks": ""
             }
            },
            "type": "scatterpolargl"
           }
          ],
          "scatterternary": [
           {
            "marker": {
             "colorbar": {
              "outlinewidth": 0,
              "ticks": ""
             }
            },
            "type": "scatterternary"
           }
          ],
          "surface": [
           {
            "colorbar": {
             "outlinewidth": 0,
             "ticks": ""
            },
            "colorscale": [
             [
              0,
              "#0d0887"
             ],
             [
              0.1111111111111111,
              "#46039f"
             ],
             [
              0.2222222222222222,
              "#7201a8"
             ],
             [
              0.3333333333333333,
              "#9c179e"
             ],
             [
              0.4444444444444444,
              "#bd3786"
             ],
             [
              0.5555555555555556,
              "#d8576b"
             ],
             [
              0.6666666666666666,
              "#ed7953"
             ],
             [
              0.7777777777777778,
              "#fb9f3a"
             ],
             [
              0.8888888888888888,
              "#fdca26"
             ],
             [
              1,
              "#f0f921"
             ]
            ],
            "type": "surface"
           }
          ],
          "table": [
           {
            "cells": {
             "fill": {
              "color": "#EBF0F8"
             },
             "line": {
              "color": "white"
             }
            },
            "header": {
             "fill": {
              "color": "#C8D4E3"
             },
             "line": {
              "color": "white"
             }
            },
            "type": "table"
           }
          ]
         },
         "layout": {
          "annotationdefaults": {
           "arrowcolor": "#2a3f5f",
           "arrowhead": 0,
           "arrowwidth": 1
          },
          "autotypenumbers": "strict",
          "coloraxis": {
           "colorbar": {
            "outlinewidth": 0,
            "ticks": ""
           }
          },
          "colorscale": {
           "diverging": [
            [
             0,
             "#8e0152"
            ],
            [
             0.1,
             "#c51b7d"
            ],
            [
             0.2,
             "#de77ae"
            ],
            [
             0.3,
             "#f1b6da"
            ],
            [
             0.4,
             "#fde0ef"
            ],
            [
             0.5,
             "#f7f7f7"
            ],
            [
             0.6,
             "#e6f5d0"
            ],
            [
             0.7,
             "#b8e186"
            ],
            [
             0.8,
             "#7fbc41"
            ],
            [
             0.9,
             "#4d9221"
            ],
            [
             1,
             "#276419"
            ]
           ],
           "sequential": [
            [
             0,
             "#0d0887"
            ],
            [
             0.1111111111111111,
             "#46039f"
            ],
            [
             0.2222222222222222,
             "#7201a8"
            ],
            [
             0.3333333333333333,
             "#9c179e"
            ],
            [
             0.4444444444444444,
             "#bd3786"
            ],
            [
             0.5555555555555556,
             "#d8576b"
            ],
            [
             0.6666666666666666,
             "#ed7953"
            ],
            [
             0.7777777777777778,
             "#fb9f3a"
            ],
            [
             0.8888888888888888,
             "#fdca26"
            ],
            [
             1,
             "#f0f921"
            ]
           ],
           "sequentialminus": [
            [
             0,
             "#0d0887"
            ],
            [
             0.1111111111111111,
             "#46039f"
            ],
            [
             0.2222222222222222,
             "#7201a8"
            ],
            [
             0.3333333333333333,
             "#9c179e"
            ],
            [
             0.4444444444444444,
             "#bd3786"
            ],
            [
             0.5555555555555556,
             "#d8576b"
            ],
            [
             0.6666666666666666,
             "#ed7953"
            ],
            [
             0.7777777777777778,
             "#fb9f3a"
            ],
            [
             0.8888888888888888,
             "#fdca26"
            ],
            [
             1,
             "#f0f921"
            ]
           ]
          },
          "colorway": [
           "#636efa",
           "#EF553B",
           "#00cc96",
           "#ab63fa",
           "#FFA15A",
           "#19d3f3",
           "#FF6692",
           "#B6E880",
           "#FF97FF",
           "#FECB52"
          ],
          "font": {
           "color": "#2a3f5f"
          },
          "geo": {
           "bgcolor": "white",
           "lakecolor": "white",
           "landcolor": "#E5ECF6",
           "showlakes": true,
           "showland": true,
           "subunitcolor": "white"
          },
          "hoverlabel": {
           "align": "left"
          },
          "hovermode": "closest",
          "mapbox": {
           "style": "light"
          },
          "paper_bgcolor": "white",
          "plot_bgcolor": "#E5ECF6",
          "polar": {
           "angularaxis": {
            "gridcolor": "white",
            "linecolor": "white",
            "ticks": ""
           },
           "bgcolor": "#E5ECF6",
           "radialaxis": {
            "gridcolor": "white",
            "linecolor": "white",
            "ticks": ""
           }
          },
          "scene": {
           "xaxis": {
            "backgroundcolor": "#E5ECF6",
            "gridcolor": "white",
            "gridwidth": 2,
            "linecolor": "white",
            "showbackground": true,
            "ticks": "",
            "zerolinecolor": "white"
           },
           "yaxis": {
            "backgroundcolor": "#E5ECF6",
            "gridcolor": "white",
            "gridwidth": 2,
            "linecolor": "white",
            "showbackground": true,
            "ticks": "",
            "zerolinecolor": "white"
           },
           "zaxis": {
            "backgroundcolor": "#E5ECF6",
            "gridcolor": "white",
            "gridwidth": 2,
            "linecolor": "white",
            "showbackground": true,
            "ticks": "",
            "zerolinecolor": "white"
           }
          },
          "shapedefaults": {
           "line": {
            "color": "#2a3f5f"
           }
          },
          "ternary": {
           "aaxis": {
            "gridcolor": "white",
            "linecolor": "white",
            "ticks": ""
           },
           "baxis": {
            "gridcolor": "white",
            "linecolor": "white",
            "ticks": ""
           },
           "bgcolor": "#E5ECF6",
           "caxis": {
            "gridcolor": "white",
            "linecolor": "white",
            "ticks": ""
           }
          },
          "title": {
           "x": 0.05
          },
          "xaxis": {
           "automargin": true,
           "gridcolor": "white",
           "linecolor": "white",
           "ticks": "",
           "title": {
            "standoff": 15
           },
           "zerolinecolor": "white",
           "zerolinewidth": 2
          },
          "yaxis": {
           "automargin": true,
           "gridcolor": "white",
           "linecolor": "white",
           "ticks": "",
           "title": {
            "standoff": 15
           },
           "zerolinecolor": "white",
           "zerolinewidth": 2
          }
         }
        },
        "title": {
         "text": "COCONUT (Past) vs PICNIC_BASKET2 (Present)"
        },
        "xaxis": {
         "title": {
          "text": "Index or Time"
         }
        },
        "yaxis": {
         "tickfont": {
          "color": "blue"
         },
         "title": {
          "font": {
           "color": "blue"
          },
          "text": "COCONUT"
         }
        },
        "yaxis2": {
         "anchor": "x",
         "overlaying": "y",
         "side": "right",
         "tickfont": {
          "color": "red"
         },
         "title": {
          "font": {
           "color": "red"
          },
          "text": "PICNIC_BASKET2"
         }
        }
       }
      }
     },
     "metadata": {},
     "output_type": "display_data"
    },
    {
     "data": {
      "application/vnd.plotly.v1+json": {
       "config": {
        "plotlyServerURL": "https://plot.ly"
       },
       "data": [
        {
         "line": {
          "color": "blue"
         },
         "name": "STARFRUIT (Past)",
         "type": "scatter",
         "x": {
          "bdata": "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",
          "dtype": "i4"
         },
         "y": {
          "bdata": "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",
          "dtype": "f8"
         },
         "yaxis": "y"
        },
        {
         "line": {
          "color": "red"
         },
         "name": "MAGNIFICENT_MACARONS (Present)",
         "type": "scatter",
         "x": {
          "bdata": "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",
          "dtype": "i4"
         },
         "y": {
          "bdata": "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",
          "dtype": "f8"
         },
         "yaxis": "y2"
        }
       ],
       "layout": {
        "legend": {
         "x": 0.01,
         "y": 0.99
        },
        "template": {
         "data": {
          "bar": [
           {
            "error_x": {
             "color": "#2a3f5f"
            },
            "error_y": {
             "color": "#2a3f5f"
            },
            "marker": {
             "line": {
              "color": "#E5ECF6",
              "width": 0.5
             },
             "pattern": {
              "fillmode": "overlay",
              "size": 10,
              "solidity": 0.2
             }
            },
            "type": "bar"
           }
          ],
          "barpolar": [
           {
            "marker": {
             "line": {
              "color": "#E5ECF6",
              "width": 0.5
             },
             "pattern": {
              "fillmode": "overlay",
              "size": 10,
              "solidity": 0.2
             }
            },
            "type": "barpolar"
           }
          ],
          "carpet": [
           {
            "aaxis": {
             "endlinecolor": "#2a3f5f",
             "gridcolor": "white",
             "linecolor": "white",
             "minorgridcolor": "white",
             "startlinecolor": "#2a3f5f"
            },
            "baxis": {
             "endlinecolor": "#2a3f5f",
             "gridcolor": "white",
             "linecolor": "white",
             "minorgridcolor": "white",
             "startlinecolor": "#2a3f5f"
            },
            "type": "carpet"
           }
          ],
          "choropleth": [
           {
            "colorbar": {
             "outlinewidth": 0,
             "ticks": ""
            },
            "type": "choropleth"
           }
          ],
          "contour": [
           {
            "colorbar": {
             "outlinewidth": 0,
             "ticks": ""
            },
            "colorscale": [
             [
              0,
              "#0d0887"
             ],
             [
              0.1111111111111111,
              "#46039f"
             ],
             [
              0.2222222222222222,
              "#7201a8"
             ],
             [
              0.3333333333333333,
              "#9c179e"
             ],
             [
              0.4444444444444444,
              "#bd3786"
             ],
             [
              0.5555555555555556,
              "#d8576b"
             ],
             [
              0.6666666666666666,
              "#ed7953"
             ],
             [
              0.7777777777777778,
              "#fb9f3a"
             ],
             [
              0.8888888888888888,
              "#fdca26"
             ],
             [
              1,
              "#f0f921"
             ]
            ],
            "type": "contour"
           }
          ],
          "contourcarpet": [
           {
            "colorbar": {
             "outlinewidth": 0,
             "ticks": ""
            },
            "type": "contourcarpet"
           }
          ],
          "heatmap": [
           {
            "colorbar": {
             "outlinewidth": 0,
             "ticks": ""
            },
            "colorscale": [
             [
              0,
              "#0d0887"
             ],
             [
              0.1111111111111111,
              "#46039f"
             ],
             [
              0.2222222222222222,
              "#7201a8"
             ],
             [
              0.3333333333333333,
              "#9c179e"
             ],
             [
              0.4444444444444444,
              "#bd3786"
             ],
             [
              0.5555555555555556,
              "#d8576b"
             ],
             [
              0.6666666666666666,
              "#ed7953"
             ],
             [
              0.7777777777777778,
              "#fb9f3a"
             ],
             [
              0.8888888888888888,
              "#fdca26"
             ],
             [
              1,
              "#f0f921"
             ]
            ],
            "type": "heatmap"
           }
          ],
          "histogram": [
           {
            "marker": {
             "pattern": {
              "fillmode": "overlay",
              "size": 10,
              "solidity": 0.2
             }
            },
            "type": "histogram"
           }
          ],
          "histogram2d": [
           {
            "colorbar": {
             "outlinewidth": 0,
             "ticks": ""
            },
            "colorscale": [
             [
              0,
              "#0d0887"
             ],
             [
              0.1111111111111111,
              "#46039f"
             ],
             [
              0.2222222222222222,
              "#7201a8"
             ],
             [
              0.3333333333333333,
              "#9c179e"
             ],
             [
              0.4444444444444444,
              "#bd3786"
             ],
             [
              0.5555555555555556,
              "#d8576b"
             ],
             [
              0.6666666666666666,
              "#ed7953"
             ],
             [
              0.7777777777777778,
              "#fb9f3a"
             ],
             [
              0.8888888888888888,
              "#fdca26"
             ],
             [
              1,
              "#f0f921"
             ]
            ],
            "type": "histogram2d"
           }
          ],
          "histogram2dcontour": [
           {
            "colorbar": {
             "outlinewidth": 0,
             "ticks": ""
            },
            "colorscale": [
             [
              0,
              "#0d0887"
             ],
             [
              0.1111111111111111,
              "#46039f"
             ],
             [
              0.2222222222222222,
              "#7201a8"
             ],
             [
              0.3333333333333333,
              "#9c179e"
             ],
             [
              0.4444444444444444,
              "#bd3786"
             ],
             [
              0.5555555555555556,
              "#d8576b"
             ],
             [
              0.6666666666666666,
              "#ed7953"
             ],
             [
              0.7777777777777778,
              "#fb9f3a"
             ],
             [
              0.8888888888888888,
              "#fdca26"
             ],
             [
              1,
              "#f0f921"
             ]
            ],
            "type": "histogram2dcontour"
           }
          ],
          "mesh3d": [
           {
            "colorbar": {
             "outlinewidth": 0,
             "ticks": ""
            },
            "type": "mesh3d"
           }
          ],
          "parcoords": [
           {
            "line": {
             "colorbar": {
              "outlinewidth": 0,
              "ticks": ""
             }
            },
            "type": "parcoords"
           }
          ],
          "pie": [
           {
            "automargin": true,
            "type": "pie"
           }
          ],
          "scatter": [
           {
            "fillpattern": {
             "fillmode": "overlay",
             "size": 10,
             "solidity": 0.2
            },
            "type": "scatter"
           }
          ],
          "scatter3d": [
           {
            "line": {
             "colorbar": {
              "outlinewidth": 0,
              "ticks": ""
             }
            },
            "marker": {
             "colorbar": {
              "outlinewidth": 0,
              "ticks": ""
             }
            },
            "type": "scatter3d"
           }
          ],
          "scattercarpet": [
           {
            "marker": {
             "colorbar": {
              "outlinewidth": 0,
              "ticks": ""
             }
            },
            "type": "scattercarpet"
           }
          ],
          "scattergeo": [
           {
            "marker": {
             "colorbar": {
              "outlinewidth": 0,
              "ticks": ""
             }
            },
            "type": "scattergeo"
           }
          ],
          "scattergl": [
           {
            "marker": {
             "colorbar": {
              "outlinewidth": 0,
              "ticks": ""
             }
            },
            "type": "scattergl"
           }
          ],
          "scattermap": [
           {
            "marker": {
             "colorbar": {
              "outlinewidth": 0,
              "ticks": ""
             }
            },
            "type": "scattermap"
           }
          ],
          "scattermapbox": [
           {
            "marker": {
             "colorbar": {
              "outlinewidth": 0,
              "ticks": ""
             }
            },
            "type": "scattermapbox"
           }
          ],
          "scatterpolar": [
           {
            "marker": {
             "colorbar": {
              "outlinewidth": 0,
              "ticks": ""
             }
            },
            "type": "scatterpolar"
           }
          ],
          "scatterpolargl": [
           {
            "marker": {
             "colorbar": {
              "outlinewidth": 0,
              "ticks": ""
             }
            },
            "type": "scatterpolargl"
           }
          ],
          "scatterternary": [
           {
            "marker": {
             "colorbar": {
              "outlinewidth": 0,
              "ticks": ""
             }
            },
            "type": "scatterternary"
           }
          ],
          "surface": [
           {
            "colorbar": {
             "outlinewidth": 0,
             "ticks": ""
            },
            "colorscale": [
             [
              0,
              "#0d0887"
             ],
             [
              0.1111111111111111,
              "#46039f"
             ],
             [
              0.2222222222222222,
              "#7201a8"
             ],
             [
              0.3333333333333333,
              "#9c179e"
             ],
             [
              0.4444444444444444,
              "#bd3786"
             ],
             [
              0.5555555555555556,
              "#d8576b"
             ],
             [
              0.6666666666666666,
              "#ed7953"
             ],
             [
              0.7777777777777778,
              "#fb9f3a"
             ],
             [
              0.8888888888888888,
              "#fdca26"
             ],
             [
              1,
              "#f0f921"
             ]
            ],
            "type": "surface"
           }
          ],
          "table": [
           {
            "cells": {
             "fill": {
              "color": "#EBF0F8"
             },
             "line": {
              "color": "white"
             }
            },
            "header": {
             "fill": {
              "color": "#C8D4E3"
             },
             "line": {
              "color": "white"
             }
            },
            "type": "table"
           }
          ]
         },
         "layout": {
          "annotationdefaults": {
           "arrowcolor": "#2a3f5f",
           "arrowhead": 0,
           "arrowwidth": 1
          },
          "autotypenumbers": "strict",
          "coloraxis": {
           "colorbar": {
            "outlinewidth": 0,
            "ticks": ""
           }
          },
          "colorscale": {
           "diverging": [
            [
             0,
             "#8e0152"
            ],
            [
             0.1,
             "#c51b7d"
            ],
            [
             0.2,
             "#de77ae"
            ],
            [
             0.3,
             "#f1b6da"
            ],
            [
             0.4,
             "#fde0ef"
            ],
            [
             0.5,
             "#f7f7f7"
            ],
            [
             0.6,
             "#e6f5d0"
            ],
            [
             0.7,
             "#b8e186"
            ],
            [
             0.8,
             "#7fbc41"
            ],
            [
             0.9,
             "#4d9221"
            ],
            [
             1,
             "#276419"
            ]
           ],
           "sequential": [
            [
             0,
             "#0d0887"
            ],
            [
             0.1111111111111111,
             "#46039f"
            ],
            [
             0.2222222222222222,
             "#7201a8"
            ],
            [
             0.3333333333333333,
             "#9c179e"
            ],
            [
             0.4444444444444444,
             "#bd3786"
            ],
            [
             0.5555555555555556,
             "#d8576b"
            ],
            [
             0.6666666666666666,
             "#ed7953"
            ],
            [
             0.7777777777777778,
             "#fb9f3a"
            ],
            [
             0.8888888888888888,
             "#fdca26"
            ],
            [
             1,
             "#f0f921"
            ]
           ],
           "sequentialminus": [
            [
             0,
             "#0d0887"
            ],
            [
             0.1111111111111111,
             "#46039f"
            ],
            [
             0.2222222222222222,
             "#7201a8"
            ],
            [
             0.3333333333333333,
             "#9c179e"
            ],
            [
             0.4444444444444444,
             "#bd3786"
            ],
            [
             0.5555555555555556,
             "#d8576b"
            ],
            [
             0.6666666666666666,
             "#ed7953"
            ],
            [
             0.7777777777777778,
             "#fb9f3a"
            ],
            [
             0.8888888888888888,
             "#fdca26"
            ],
            [
             1,
             "#f0f921"
            ]
           ]
          },
          "colorway": [
           "#636efa",
           "#EF553B",
           "#00cc96",
           "#ab63fa",
           "#FFA15A",
           "#19d3f3",
           "#FF6692",
           "#B6E880",
           "#FF97FF",
           "#FECB52"
          ],
          "font": {
           "color": "#2a3f5f"
          },
          "geo": {
           "bgcolor": "white",
           "lakecolor": "white",
           "landcolor": "#E5ECF6",
           "showlakes": true,
           "showland": true,
           "subunitcolor": "white"
          },
          "hoverlabel": {
           "align": "left"
          },
          "hovermode": "closest",
          "mapbox": {
           "style": "light"
          },
          "paper_bgcolor": "white",
          "plot_bgcolor": "#E5ECF6",
          "polar": {
           "angularaxis": {
            "gridcolor": "white",
            "linecolor": "white",
            "ticks": ""
           },
           "bgcolor": "#E5ECF6",
           "radialaxis": {
            "gridcolor": "white",
            "linecolor": "white",
            "ticks": ""
           }
          },
          "scene": {
           "xaxis": {
            "backgroundcolor": "#E5ECF6",
            "gridcolor": "white",
            "gridwidth": 2,
            "linecolor": "white",
            "showbackground": true,
            "ticks": "",
            "zerolinecolor": "white"
           },
           "yaxis": {
            "backgroundcolor": "#E5ECF6",
            "gridcolor": "white",
            "gridwidth": 2,
            "linecolor": "white",
            "showbackground": true,
            "ticks": "",
            "zerolinecolor": "white"
           },
           "zaxis": {
            "backgroundcolor": "#E5ECF6",
            "gridcolor": "white",
            "gridwidth": 2,
            "linecolor": "white",
            "showbackground": true,
            "ticks": "",
            "zerolinecolor": "white"
           }
          },
          "shapedefaults": {
           "line": {
            "color": "#2a3f5f"
           }
          },
          "ternary": {
           "aaxis": {
            "gridcolor": "white",
            "linecolor": "white",
            "ticks": ""
           },
           "baxis": {
            "gridcolor": "white",
            "linecolor": "white",
            "ticks": ""
           },
           "bgcolor": "#E5ECF6",
           "caxis": {
            "gridcolor": "white",
            "linecolor": "white",
            "ticks": ""
           }
          },
          "title": {
           "x": 0.05
          },
          "xaxis": {
           "automargin": true,
           "gridcolor": "white",
           "linecolor": "white",
           "ticks": "",
           "title": {
            "standoff": 15
           },
           "zerolinecolor": "white",
           "zerolinewidth": 2
          },
          "yaxis": {
           "automargin": true,
           "gridcolor": "white",
           "linecolor": "white",
           "ticks": "",
           "title": {
            "standoff": 15
           },
           "zerolinecolor": "white",
           "zerolinewidth": 2
          }
         }
        },
        "title": {
         "text": "STARFRUIT (Past) vs MAGNIFICENT_MACARONS (Present)"
        },
        "xaxis": {
         "title": {
          "text": "Index or Time"
         }
        },
        "yaxis": {
         "tickfont": {
          "color": "blue"
         },
         "title": {
          "font": {
           "color": "blue"
          },
          "text": "STARFRUIT"
         }
        },
        "yaxis2": {
         "anchor": "x",
         "overlaying": "y",
         "side": "right",
         "tickfont": {
          "color": "red"
         },
         "title": {
          "font": {
           "color": "red"
          },
          "text": "MAGNIFICENT_MACARONS"
         }
        }
       }
      }
     },
     "metadata": {},
     "output_type": "display_data"
    },
    {
     "data": {
      "application/vnd.plotly.v1+json": {
       "config": {
        "plotlyServerURL": "https://plot.ly"
       },
       "data": [
        {
         "line": {
          "color": "blue"
         },
         "name": "STRAWBERRIES (Past)",
         "type": "scatter",
         "x": {
          "bdata": "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",
          "dtype": "i4"
         },
         "y": {
          "bdata": "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",
          "dtype": "f8"
         },
         "yaxis": "y"
        },
        {
         "line": {
          "color": "red"
         },
         "name": "DJEMBES (Present)",
         "type": "scatter",
         "x": {
          "bdata": "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",
          "dtype": "i4"
         },
         "y": {
          "bdata": "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",
          "dtype": "f8"
         },
         "yaxis": "y2"
        }
       ],
       "layout": {
        "legend": {
         "x": 0.01,
         "y": 0.99
        },
        "template": {
         "data": {
          "bar": [
           {
            "error_x": {
             "color": "#2a3f5f"
            },
            "error_y": {
             "color": "#2a3f5f"
            },
            "marker": {
             "line": {
              "color": "#E5ECF6",
              "width": 0.5
             },
             "pattern": {
              "fillmode": "overlay",
              "size": 10,
              "solidity": 0.2
             }
            },
            "type": "bar"
           }
          ],
          "barpolar": [
           {
            "marker": {
             "line": {
              "color": "#E5ECF6",
              "width": 0.5
             },
             "pattern": {
              "fillmode": "overlay",
              "size": 10,
              "solidity": 0.2
             }
            },
            "type": "barpolar"
           }
          ],
          "carpet": [
           {
            "aaxis": {
             "endlinecolor": "#2a3f5f",
             "gridcolor": "white",
             "linecolor": "white",
             "minorgridcolor": "white",
             "startlinecolor": "#2a3f5f"
            },
            "baxis": {
             "endlinecolor": "#2a3f5f",
             "gridcolor": "white",
             "linecolor": "white",
             "minorgridcolor": "white",
             "startlinecolor": "#2a3f5f"
            },
            "type": "carpet"
           }
          ],
          "choropleth": [
           {
            "colorbar": {
             "outlinewidth": 0,
             "ticks": ""
            },
            "type": "choropleth"
           }
          ],
          "contour": [
           {
            "colorbar": {
             "outlinewidth": 0,
             "ticks": ""
            },
            "colorscale": [
             [
              0,
              "#0d0887"
             ],
             [
              0.1111111111111111,
              "#46039f"
             ],
             [
              0.2222222222222222,
              "#7201a8"
             ],
             [
              0.3333333333333333,
              "#9c179e"
             ],
             [
              0.4444444444444444,
              "#bd3786"
             ],
             [
              0.5555555555555556,
              "#d8576b"
             ],
             [
              0.6666666666666666,
              "#ed7953"
             ],
             [
              0.7777777777777778,
              "#fb9f3a"
             ],
             [
              0.8888888888888888,
              "#fdca26"
             ],
             [
              1,
              "#f0f921"
             ]
            ],
            "type": "contour"
           }
          ],
          "contourcarpet": [
           {
            "colorbar": {
             "outlinewidth": 0,
             "ticks": ""
            },
            "type": "contourcarpet"
           }
          ],
          "heatmap": [
           {
            "colorbar": {
             "outlinewidth": 0,
             "ticks": ""
            },
            "colorscale": [
             [
              0,
              "#0d0887"
             ],
             [
              0.1111111111111111,
              "#46039f"
             ],
             [
              0.2222222222222222,
              "#7201a8"
             ],
             [
              0.3333333333333333,
              "#9c179e"
             ],
             [
              0.4444444444444444,
              "#bd3786"
             ],
             [
              0.5555555555555556,
              "#d8576b"
             ],
             [
              0.6666666666666666,
              "#ed7953"
             ],
             [
              0.7777777777777778,
              "#fb9f3a"
             ],
             [
              0.8888888888888888,
              "#fdca26"
             ],
             [
              1,
              "#f0f921"
             ]
            ],
            "type": "heatmap"
           }
          ],
          "histogram": [
           {
            "marker": {
             "pattern": {
              "fillmode": "overlay",
              "size": 10,
              "solidity": 0.2
             }
            },
            "type": "histogram"
           }
          ],
          "histogram2d": [
           {
            "colorbar": {
             "outlinewidth": 0,
             "ticks": ""
            },
            "colorscale": [
             [
              0,
              "#0d0887"
             ],
             [
              0.1111111111111111,
              "#46039f"
             ],
             [
              0.2222222222222222,
              "#7201a8"
             ],
             [
              0.3333333333333333,
              "#9c179e"
             ],
             [
              0.4444444444444444,
              "#bd3786"
             ],
             [
              0.5555555555555556,
              "#d8576b"
             ],
             [
              0.6666666666666666,
              "#ed7953"
             ],
             [
              0.7777777777777778,
              "#fb9f3a"
             ],
             [
              0.8888888888888888,
              "#fdca26"
             ],
             [
              1,
              "#f0f921"
             ]
            ],
            "type": "histogram2d"
           }
          ],
          "histogram2dcontour": [
           {
            "colorbar": {
             "outlinewidth": 0,
             "ticks": ""
            },
            "colorscale": [
             [
              0,
              "#0d0887"
             ],
             [
              0.1111111111111111,
              "#46039f"
             ],
             [
              0.2222222222222222,
              "#7201a8"
             ],
             [
              0.3333333333333333,
              "#9c179e"
             ],
             [
              0.4444444444444444,
              "#bd3786"
             ],
             [
              0.5555555555555556,
              "#d8576b"
             ],
             [
              0.6666666666666666,
              "#ed7953"
             ],
             [
              0.7777777777777778,
              "#fb9f3a"
             ],
             [
              0.8888888888888888,
              "#fdca26"
             ],
             [
              1,
              "#f0f921"
             ]
            ],
            "type": "histogram2dcontour"
           }
          ],
          "mesh3d": [
           {
            "colorbar": {
             "outlinewidth": 0,
             "ticks": ""
            },
            "type": "mesh3d"
           }
          ],
          "parcoords": [
           {
            "line": {
             "colorbar": {
              "outlinewidth": 0,
              "ticks": ""
             }
            },
            "type": "parcoords"
           }
          ],
          "pie": [
           {
            "automargin": true,
            "type": "pie"
           }
          ],
          "scatter": [
           {
            "fillpattern": {
             "fillmode": "overlay",
             "size": 10,
             "solidity": 0.2
            },
            "type": "scatter"
           }
          ],
          "scatter3d": [
           {
            "line": {
             "colorbar": {
              "outlinewidth": 0,
              "ticks": ""
             }
            },
            "marker": {
             "colorbar": {
              "outlinewidth": 0,
              "ticks": ""
             }
            },
            "type": "scatter3d"
           }
          ],
          "scattercarpet": [
           {
            "marker": {
             "colorbar": {
              "outlinewidth": 0,
              "ticks": ""
             }
            },
            "type": "scattercarpet"
           }
          ],
          "scattergeo": [
           {
            "marker": {
             "colorbar": {
              "outlinewidth": 0,
              "ticks": ""
             }
            },
            "type": "scattergeo"
           }
          ],
          "scattergl": [
           {
            "marker": {
             "colorbar": {
              "outlinewidth": 0,
              "ticks": ""
             }
            },
            "type": "scattergl"
           }
          ],
          "scattermap": [
           {
            "marker": {
             "colorbar": {
              "outlinewidth": 0,
              "ticks": ""
             }
            },
            "type": "scattermap"
           }
          ],
          "scattermapbox": [
           {
            "marker": {
             "colorbar": {
              "outlinewidth": 0,
              "ticks": ""
             }
            },
            "type": "scattermapbox"
           }
          ],
          "scatterpolar": [
           {
            "marker": {
             "colorbar": {
              "outlinewidth": 0,
              "ticks": ""
             }
            },
            "type": "scatterpolar"
           }
          ],
          "scatterpolargl": [
           {
            "marker": {
             "colorbar": {
              "outlinewidth": 0,
              "ticks": ""
             }
            },
            "type": "scatterpolargl"
           }
          ],
          "scatterternary": [
           {
            "marker": {
             "colorbar": {
              "outlinewidth": 0,
              "ticks": ""
             }
            },
            "type": "scatterternary"
           }
          ],
          "surface": [
           {
            "colorbar": {
             "outlinewidth": 0,
             "ticks": ""
            },
            "colorscale": [
             [
              0,
              "#0d0887"
             ],
             [
              0.1111111111111111,
              "#46039f"
             ],
             [
              0.2222222222222222,
              "#7201a8"
             ],
             [
              0.3333333333333333,
              "#9c179e"
             ],
             [
              0.4444444444444444,
              "#bd3786"
             ],
             [
              0.5555555555555556,
              "#d8576b"
             ],
             [
              0.6666666666666666,
              "#ed7953"
             ],
             [
              0.7777777777777778,
              "#fb9f3a"
             ],
             [
              0.8888888888888888,
              "#fdca26"
             ],
             [
              1,
              "#f0f921"
             ]
            ],
            "type": "surface"
           }
          ],
          "table": [
           {
            "cells": {
             "fill": {
              "color": "#EBF0F8"
             },
             "line": {
              "color": "white"
             }
            },
            "header": {
             "fill": {
              "color": "#C8D4E3"
             },
             "line": {
              "color": "white"
             }
            },
            "type": "table"
           }
          ]
         },
         "layout": {
          "annotationdefaults": {
           "arrowcolor": "#2a3f5f",
           "arrowhead": 0,
           "arrowwidth": 1
          },
          "autotypenumbers": "strict",
          "coloraxis": {
           "colorbar": {
            "outlinewidth": 0,
            "ticks": ""
           }
          },
          "colorscale": {
           "diverging": [
            [
             0,
             "#8e0152"
            ],
            [
             0.1,
             "#c51b7d"
            ],
            [
             0.2,
             "#de77ae"
            ],
            [
             0.3,
             "#f1b6da"
            ],
            [
             0.4,
             "#fde0ef"
            ],
            [
             0.5,
             "#f7f7f7"
            ],
            [
             0.6,
             "#e6f5d0"
            ],
            [
             0.7,
             "#b8e186"
            ],
            [
             0.8,
             "#7fbc41"
            ],
            [
             0.9,
             "#4d9221"
            ],
            [
             1,
             "#276419"
            ]
           ],
           "sequential": [
            [
             0,
             "#0d0887"
            ],
            [
             0.1111111111111111,
             "#46039f"
            ],
            [
             0.2222222222222222,
             "#7201a8"
            ],
            [
             0.3333333333333333,
             "#9c179e"
            ],
            [
             0.4444444444444444,
             "#bd3786"
            ],
            [
             0.5555555555555556,
             "#d8576b"
            ],
            [
             0.6666666666666666,
             "#ed7953"
            ],
            [
             0.7777777777777778,
             "#fb9f3a"
            ],
            [
             0.8888888888888888,
             "#fdca26"
            ],
            [
             1,
             "#f0f921"
            ]
           ],
           "sequentialminus": [
            [
             0,
             "#0d0887"
            ],
            [
             0.1111111111111111,
             "#46039f"
            ],
            [
             0.2222222222222222,
             "#7201a8"
            ],
            [
             0.3333333333333333,
             "#9c179e"
            ],
            [
             0.4444444444444444,
             "#bd3786"
            ],
            [
             0.5555555555555556,
             "#d8576b"
            ],
            [
             0.6666666666666666,
             "#ed7953"
            ],
            [
             0.7777777777777778,
             "#fb9f3a"
            ],
            [
             0.8888888888888888,
             "#fdca26"
            ],
            [
             1,
             "#f0f921"
            ]
           ]
          },
          "colorway": [
           "#636efa",
           "#EF553B",
           "#00cc96",
           "#ab63fa",
           "#FFA15A",
           "#19d3f3",
           "#FF6692",
           "#B6E880",
           "#FF97FF",
           "#FECB52"
          ],
          "font": {
           "color": "#2a3f5f"
          },
          "geo": {
           "bgcolor": "white",
           "lakecolor": "white",
           "landcolor": "#E5ECF6",
           "showlakes": true,
           "showland": true,
           "subunitcolor": "white"
          },
          "hoverlabel": {
           "align": "left"
          },
          "hovermode": "closest",
          "mapbox": {
           "style": "light"
          },
          "paper_bgcolor": "white",
          "plot_bgcolor": "#E5ECF6",
          "polar": {
           "angularaxis": {
            "gridcolor": "white",
            "linecolor": "white",
            "ticks": ""
           },
           "bgcolor": "#E5ECF6",
           "radialaxis": {
            "gridcolor": "white",
            "linecolor": "white",
            "ticks": ""
           }
          },
          "scene": {
           "xaxis": {
            "backgroundcolor": "#E5ECF6",
            "gridcolor": "white",
            "gridwidth": 2,
            "linecolor": "white",
            "showbackground": true,
            "ticks": "",
            "zerolinecolor": "white"
           },
           "yaxis": {
            "backgroundcolor": "#E5ECF6",
            "gridcolor": "white",
            "gridwidth": 2,
            "linecolor": "white",
            "showbackground": true,
            "ticks": "",
            "zerolinecolor": "white"
           },
           "zaxis": {
            "backgroundcolor": "#E5ECF6",
            "gridcolor": "white",
            "gridwidth": 2,
            "linecolor": "white",
            "showbackground": true,
            "ticks": "",
            "zerolinecolor": "white"
           }
          },
          "shapedefaults": {
           "line": {
            "color": "#2a3f5f"
           }
          },
          "ternary": {
           "aaxis": {
            "gridcolor": "white",
            "linecolor": "white",
            "ticks": ""
           },
           "baxis": {
            "gridcolor": "white",
            "linecolor": "white",
            "ticks": ""
           },
           "bgcolor": "#E5ECF6",
           "caxis": {
            "gridcolor": "white",
            "linecolor": "white",
            "ticks": ""
           }
          },
          "title": {
           "x": 0.05
          },
          "xaxis": {
           "automargin": true,
           "gridcolor": "white",
           "linecolor": "white",
           "ticks": "",
           "title": {
            "standoff": 15
           },
           "zerolinecolor": "white",
           "zerolinewidth": 2
          },
          "yaxis": {
           "automargin": true,
           "gridcolor": "white",
           "linecolor": "white",
           "ticks": "",
           "title": {
            "standoff": 15
           },
           "zerolinecolor": "white",
           "zerolinewidth": 2
          }
         }
        },
        "title": {
         "text": "STRAWBERRIES (Past) vs DJEMBES (Present)"
        },
        "xaxis": {
         "title": {
          "text": "Index or Time"
         }
        },
        "yaxis": {
         "tickfont": {
          "color": "blue"
         },
         "title": {
          "font": {
           "color": "blue"
          },
          "text": "STRAWBERRIES"
         }
        },
        "yaxis2": {
         "anchor": "x",
         "overlaying": "y",
         "side": "right",
         "tickfont": {
          "color": "red"
         },
         "title": {
          "font": {
           "color": "red"
          },
          "text": "DJEMBES"
         }
        }
       }
      }
     },
     "metadata": {},
     "output_type": "display_data"
    },
    {
     "data": {
      "application/vnd.plotly.v1+json": {
       "config": {
        "plotlyServerURL": "https://plot.ly"
       },
       "data": [
        {
         "line": {
          "color": "blue"
         },
         "name": "COCONUT_COUPON (Past)",
         "type": "scatter",
         "x": {
          "bdata": "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",
          "dtype": "i4"
         },
         "y": {
          "bdata": "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",
          "dtype": "f8"
         },
         "yaxis": "y"
        },
        {
         "line": {
          "color": "red"
         },
         "name": "SQUID_INK (Present)",
         "type": "scatter",
         "x": {
          "bdata": "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",
          "dtype": "i4"
         },
         "y": {
          "bdata": "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",
          "dtype": "f8"
         },
         "yaxis": "y2"
        }
       ],
       "layout": {
        "legend": {
         "x": 0.01,
         "y": 0.99
        },
        "template": {
         "data": {
          "bar": [
           {
            "error_x": {
             "color": "#2a3f5f"
            },
            "error_y": {
             "color": "#2a3f5f"
            },
            "marker": {
             "line": {
              "color": "#E5ECF6",
              "width": 0.5
             },
             "pattern": {
              "fillmode": "overlay",
              "size": 10,
              "solidity": 0.2
             }
            },
            "type": "bar"
           }
          ],
          "barpolar": [
           {
            "marker": {
             "line": {
              "color": "#E5ECF6",
              "width": 0.5
             },
             "pattern": {
              "fillmode": "overlay",
              "size": 10,
              "solidity": 0.2
             }
            },
            "type": "barpolar"
           }
          ],
          "carpet": [
           {
            "aaxis": {
             "endlinecolor": "#2a3f5f",
             "gridcolor": "white",
             "linecolor": "white",
             "minorgridcolor": "white",
             "startlinecolor": "#2a3f5f"
            },
            "baxis": {
             "endlinecolor": "#2a3f5f",
             "gridcolor": "white",
             "linecolor": "white",
             "minorgridcolor": "white",
             "startlinecolor": "#2a3f5f"
            },
            "type": "carpet"
           }
          ],
          "choropleth": [
           {
            "colorbar": {
             "outlinewidth": 0,
             "ticks": ""
            },
            "type": "choropleth"
           }
          ],
          "contour": [
           {
            "colorbar": {
             "outlinewidth": 0,
             "ticks": ""
            },
            "colorscale": [
             [
              0,
              "#0d0887"
             ],
             [
              0.1111111111111111,
              "#46039f"
             ],
             [
              0.2222222222222222,
              "#7201a8"
             ],
             [
              0.3333333333333333,
              "#9c179e"
             ],
             [
              0.4444444444444444,
              "#bd3786"
             ],
             [
              0.5555555555555556,
              "#d8576b"
             ],
             [
              0.6666666666666666,
              "#ed7953"
             ],
             [
              0.7777777777777778,
              "#fb9f3a"
             ],
             [
              0.8888888888888888,
              "#fdca26"
             ],
             [
              1,
              "#f0f921"
             ]
            ],
            "type": "contour"
           }
          ],
          "contourcarpet": [
           {
            "colorbar": {
             "outlinewidth": 0,
             "ticks": ""
            },
            "type": "contourcarpet"
           }
          ],
          "heatmap": [
           {
            "colorbar": {
             "outlinewidth": 0,
             "ticks": ""
            },
            "colorscale": [
             [
              0,
              "#0d0887"
             ],
             [
              0.1111111111111111,
              "#46039f"
             ],
             [
              0.2222222222222222,
              "#7201a8"
             ],
             [
              0.3333333333333333,
              "#9c179e"
             ],
             [
              0.4444444444444444,
              "#bd3786"
             ],
             [
              0.5555555555555556,
              "#d8576b"
             ],
             [
              0.6666666666666666,
              "#ed7953"
             ],
             [
              0.7777777777777778,
              "#fb9f3a"
             ],
             [
              0.8888888888888888,
              "#fdca26"
             ],
             [
              1,
              "#f0f921"
             ]
            ],
            "type": "heatmap"
           }
          ],
          "histogram": [
           {
            "marker": {
             "pattern": {
              "fillmode": "overlay",
              "size": 10,
              "solidity": 0.2
             }
            },
            "type": "histogram"
           }
          ],
          "histogram2d": [
           {
            "colorbar": {
             "outlinewidth": 0,
             "ticks": ""
            },
            "colorscale": [
             [
              0,
              "#0d0887"
             ],
             [
              0.1111111111111111,
              "#46039f"
             ],
             [
              0.2222222222222222,
              "#7201a8"
             ],
             [
              0.3333333333333333,
              "#9c179e"
             ],
             [
              0.4444444444444444,
              "#bd3786"
             ],
             [
              0.5555555555555556,
              "#d8576b"
             ],
             [
              0.6666666666666666,
              "#ed7953"
             ],
             [
              0.7777777777777778,
              "#fb9f3a"
             ],
             [
              0.8888888888888888,
              "#fdca26"
             ],
             [
              1,
              "#f0f921"
             ]
            ],
            "type": "histogram2d"
           }
          ],
          "histogram2dcontour": [
           {
            "colorbar": {
             "outlinewidth": 0,
             "ticks": ""
            },
            "colorscale": [
             [
              0,
              "#0d0887"
             ],
             [
              0.1111111111111111,
              "#46039f"
             ],
             [
              0.2222222222222222,
              "#7201a8"
             ],
             [
              0.3333333333333333,
              "#9c179e"
             ],
             [
              0.4444444444444444,
              "#bd3786"
             ],
             [
              0.5555555555555556,
              "#d8576b"
             ],
             [
              0.6666666666666666,
              "#ed7953"
             ],
             [
              0.7777777777777778,
              "#fb9f3a"
             ],
             [
              0.8888888888888888,
              "#fdca26"
             ],
             [
              1,
              "#f0f921"
             ]
            ],
            "type": "histogram2dcontour"
           }
          ],
          "mesh3d": [
           {
            "colorbar": {
             "outlinewidth": 0,
             "ticks": ""
            },
            "type": "mesh3d"
           }
          ],
          "parcoords": [
           {
            "line": {
             "colorbar": {
              "outlinewidth": 0,
              "ticks": ""
             }
            },
            "type": "parcoords"
           }
          ],
          "pie": [
           {
            "automargin": true,
            "type": "pie"
           }
          ],
          "scatter": [
           {
            "fillpattern": {
             "fillmode": "overlay",
             "size": 10,
             "solidity": 0.2
            },
            "type": "scatter"
           }
          ],
          "scatter3d": [
           {
            "line": {
             "colorbar": {
              "outlinewidth": 0,
              "ticks": ""
             }
            },
            "marker": {
             "colorbar": {
              "outlinewidth": 0,
              "ticks": ""
             }
            },
            "type": "scatter3d"
           }
          ],
          "scattercarpet": [
           {
            "marker": {
             "colorbar": {
              "outlinewidth": 0,
              "ticks": ""
             }
            },
            "type": "scattercarpet"
           }
          ],
          "scattergeo": [
           {
            "marker": {
             "colorbar": {
              "outlinewidth": 0,
              "ticks": ""
             }
            },
            "type": "scattergeo"
           }
          ],
          "scattergl": [
           {
            "marker": {
             "colorbar": {
              "outlinewidth": 0,
              "ticks": ""
             }
            },
            "type": "scattergl"
           }
          ],
          "scattermap": [
           {
            "marker": {
             "colorbar": {
              "outlinewidth": 0,
              "ticks": ""
             }
            },
            "type": "scattermap"
           }
          ],
          "scattermapbox": [
           {
            "marker": {
             "colorbar": {
              "outlinewidth": 0,
              "ticks": ""
             }
            },
            "type": "scattermapbox"
           }
          ],
          "scatterpolar": [
           {
            "marker": {
             "colorbar": {
              "outlinewidth": 0,
              "ticks": ""
             }
            },
            "type": "scatterpolar"
           }
          ],
          "scatterpolargl": [
           {
            "marker": {
             "colorbar": {
              "outlinewidth": 0,
              "ticks": ""
             }
            },
            "type": "scatterpolargl"
           }
          ],
          "scatterternary": [
           {
            "marker": {
             "colorbar": {
              "outlinewidth": 0,
              "ticks": ""
             }
            },
            "type": "scatterternary"
           }
          ],
          "surface": [
           {
            "colorbar": {
             "outlinewidth": 0,
             "ticks": ""
            },
            "colorscale": [
             [
              0,
              "#0d0887"
             ],
             [
              0.1111111111111111,
              "#46039f"
             ],
             [
              0.2222222222222222,
              "#7201a8"
             ],
             [
              0.3333333333333333,
              "#9c179e"
             ],
             [
              0.4444444444444444,
              "#bd3786"
             ],
             [
              0.5555555555555556,
              "#d8576b"
             ],
             [
              0.6666666666666666,
              "#ed7953"
             ],
             [
              0.7777777777777778,
              "#fb9f3a"
             ],
             [
              0.8888888888888888,
              "#fdca26"
             ],
             [
              1,
              "#f0f921"
             ]
            ],
            "type": "surface"
           }
          ],
          "table": [
           {
            "cells": {
             "fill": {
              "color": "#EBF0F8"
             },
             "line": {
              "color": "white"
             }
            },
            "header": {
             "fill": {
              "color": "#C8D4E3"
             },
             "line": {
              "color": "white"
             }
            },
            "type": "table"
           }
          ]
         },
         "layout": {
          "annotationdefaults": {
           "arrowcolor": "#2a3f5f",
           "arrowhead": 0,
           "arrowwidth": 1
          },
          "autotypenumbers": "strict",
          "coloraxis": {
           "colorbar": {
            "outlinewidth": 0,
            "ticks": ""
           }
          },
          "colorscale": {
           "diverging": [
            [
             0,
             "#8e0152"
            ],
            [
             0.1,
             "#c51b7d"
            ],
            [
             0.2,
             "#de77ae"
            ],
            [
             0.3,
             "#f1b6da"
            ],
            [
             0.4,
             "#fde0ef"
            ],
            [
             0.5,
             "#f7f7f7"
            ],
            [
             0.6,
             "#e6f5d0"
            ],
            [
             0.7,
             "#b8e186"
            ],
            [
             0.8,
             "#7fbc41"
            ],
            [
             0.9,
             "#4d9221"
            ],
            [
             1,
             "#276419"
            ]
           ],
           "sequential": [
            [
             0,
             "#0d0887"
            ],
            [
             0.1111111111111111,
             "#46039f"
            ],
            [
             0.2222222222222222,
             "#7201a8"
            ],
            [
             0.3333333333333333,
             "#9c179e"
            ],
            [
             0.4444444444444444,
             "#bd3786"
            ],
            [
             0.5555555555555556,
             "#d8576b"
            ],
            [
             0.6666666666666666,
             "#ed7953"
            ],
            [
             0.7777777777777778,
             "#fb9f3a"
            ],
            [
             0.8888888888888888,
             "#fdca26"
            ],
            [
             1,
             "#f0f921"
            ]
           ],
           "sequentialminus": [
            [
             0,
             "#0d0887"
            ],
            [
             0.1111111111111111,
             "#46039f"
            ],
            [
             0.2222222222222222,
             "#7201a8"
            ],
            [
             0.3333333333333333,
             "#9c179e"
            ],
            [
             0.4444444444444444,
             "#bd3786"
            ],
            [
             0.5555555555555556,
             "#d8576b"
            ],
            [
             0.6666666666666666,
             "#ed7953"
            ],
            [
             0.7777777777777778,
             "#fb9f3a"
            ],
            [
             0.8888888888888888,
             "#fdca26"
            ],
            [
             1,
             "#f0f921"
            ]
           ]
          },
          "colorway": [
           "#636efa",
           "#EF553B",
           "#00cc96",
           "#ab63fa",
           "#FFA15A",
           "#19d3f3",
           "#FF6692",
           "#B6E880",
           "#FF97FF",
           "#FECB52"
          ],
          "font": {
           "color": "#2a3f5f"
          },
          "geo": {
           "bgcolor": "white",
           "lakecolor": "white",
           "landcolor": "#E5ECF6",
           "showlakes": true,
           "showland": true,
           "subunitcolor": "white"
          },
          "hoverlabel": {
           "align": "left"
          },
          "hovermode": "closest",
          "mapbox": {
           "style": "light"
          },
          "paper_bgcolor": "white",
          "plot_bgcolor": "#E5ECF6",
          "polar": {
           "angularaxis": {
            "gridcolor": "white",
            "linecolor": "white",
            "ticks": ""
           },
           "bgcolor": "#E5ECF6",
           "radialaxis": {
            "gridcolor": "white",
            "linecolor": "white",
            "ticks": ""
           }
          },
          "scene": {
           "xaxis": {
            "backgroundcolor": "#E5ECF6",
            "gridcolor": "white",
            "gridwidth": 2,
            "linecolor": "white",
            "showbackground": true,
            "ticks": "",
            "zerolinecolor": "white"
           },
           "yaxis": {
            "backgroundcolor": "#E5ECF6",
            "gridcolor": "white",
            "gridwidth": 2,
            "linecolor": "white",
            "showbackground": true,
            "ticks": "",
            "zerolinecolor": "white"
           },
           "zaxis": {
            "backgroundcolor": "#E5ECF6",
            "gridcolor": "white",
            "gridwidth": 2,
            "linecolor": "white",
            "showbackground": true,
            "ticks": "",
            "zerolinecolor": "white"
           }
          },
          "shapedefaults": {
           "line": {
            "color": "#2a3f5f"
           }
          },
          "ternary": {
           "aaxis": {
            "gridcolor": "white",
            "linecolor": "white",
            "ticks": ""
           },
           "baxis": {
            "gridcolor": "white",
            "linecolor": "white",
            "ticks": ""
           },
           "bgcolor": "#E5ECF6",
           "caxis": {
            "gridcolor": "white",
            "linecolor": "white",
            "ticks": ""
           }
          },
          "title": {
           "x": 0.05
          },
          "xaxis": {
           "automargin": true,
           "gridcolor": "white",
           "linecolor": "white",
           "ticks": "",
           "title": {
            "standoff": 15
           },
           "zerolinecolor": "white",
           "zerolinewidth": 2
          },
          "yaxis": {
           "automargin": true,
           "gridcolor": "white",
           "linecolor": "white",
           "ticks": "",
           "title": {
            "standoff": 15
           },
           "zerolinecolor": "white",
           "zerolinewidth": 2
          }
         }
        },
        "title": {
         "text": "COCONUT_COUPON (Past) vs SQUID_INK (Present)"
        },
        "xaxis": {
         "title": {
          "text": "Index or Time"
         }
        },
        "yaxis": {
         "tickfont": {
          "color": "blue"
         },
         "title": {
          "font": {
           "color": "blue"
          },
          "text": "COCONUT_COUPON"
         }
        },
        "yaxis2": {
         "anchor": "x",
         "overlaying": "y",
         "side": "right",
         "tickfont": {
          "color": "red"
         },
         "title": {
          "font": {
           "color": "red"
          },
          "text": "SQUID_INK"
         }
        }
       }
      }
     },
     "metadata": {},
     "output_type": "display_data"
    },
    {
     "data": {
      "application/vnd.plotly.v1+json": {
       "config": {
        "plotlyServerURL": "https://plot.ly"
       },
       "data": [
        {
         "line": {
          "color": "blue"
         },
         "name": "STARFRUIT (Past)",
         "type": "scatter",
         "x": {
          "bdata": "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",
          "dtype": "i4"
         },
         "y": {
          "bdata": "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",
          "dtype": "f8"
         },
         "yaxis": "y"
        },
        {
         "line": {
          "color": "red"
         },
         "name": "SQUID_INK (Present)",
         "type": "scatter",
         "x": {
          "bdata": "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",
          "dtype": "i4"
         },
         "y": {
          "bdata": "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",
          "dtype": "f8"
         },
         "yaxis": "y2"
        }
       ],
       "layout": {
        "legend": {
         "x": 0.01,
         "y": 0.99
        },
        "template": {
         "data": {
          "bar": [
           {
            "error_x": {
             "color": "#2a3f5f"
            },
            "error_y": {
             "color": "#2a3f5f"
            },
            "marker": {
             "line": {
              "color": "#E5ECF6",
              "width": 0.5
             },
             "pattern": {
              "fillmode": "overlay",
              "size": 10,
              "solidity": 0.2
             }
            },
            "type": "bar"
           }
          ],
          "barpolar": [
           {
            "marker": {
             "line": {
              "color": "#E5ECF6",
              "width": 0.5
             },
             "pattern": {
              "fillmode": "overlay",
              "size": 10,
              "solidity": 0.2
             }
            },
            "type": "barpolar"
           }
          ],
          "carpet": [
           {
            "aaxis": {
             "endlinecolor": "#2a3f5f",
             "gridcolor": "white",
             "linecolor": "white",
             "minorgridcolor": "white",
             "startlinecolor": "#2a3f5f"
            },
            "baxis": {
             "endlinecolor": "#2a3f5f",
             "gridcolor": "white",
             "linecolor": "white",
             "minorgridcolor": "white",
             "startlinecolor": "#2a3f5f"
            },
            "type": "carpet"
           }
          ],
          "choropleth": [
           {
            "colorbar": {
             "outlinewidth": 0,
             "ticks": ""
            },
            "type": "choropleth"
           }
          ],
          "contour": [
           {
            "colorbar": {
             "outlinewidth": 0,
             "ticks": ""
            },
            "colorscale": [
             [
              0,
              "#0d0887"
             ],
             [
              0.1111111111111111,
              "#46039f"
             ],
             [
              0.2222222222222222,
              "#7201a8"
             ],
             [
              0.3333333333333333,
              "#9c179e"
             ],
             [
              0.4444444444444444,
              "#bd3786"
             ],
             [
              0.5555555555555556,
              "#d8576b"
             ],
             [
              0.6666666666666666,
              "#ed7953"
             ],
             [
              0.7777777777777778,
              "#fb9f3a"
             ],
             [
              0.8888888888888888,
              "#fdca26"
             ],
             [
              1,
              "#f0f921"
             ]
            ],
            "type": "contour"
           }
          ],
          "contourcarpet": [
           {
            "colorbar": {
             "outlinewidth": 0,
             "ticks": ""
            },
            "type": "contourcarpet"
           }
          ],
          "heatmap": [
           {
            "colorbar": {
             "outlinewidth": 0,
             "ticks": ""
            },
            "colorscale": [
             [
              0,
              "#0d0887"
             ],
             [
              0.1111111111111111,
              "#46039f"
             ],
             [
              0.2222222222222222,
              "#7201a8"
             ],
             [
              0.3333333333333333,
              "#9c179e"
             ],
             [
              0.4444444444444444,
              "#bd3786"
             ],
             [
              0.5555555555555556,
              "#d8576b"
             ],
             [
              0.6666666666666666,
              "#ed7953"
             ],
             [
              0.7777777777777778,
              "#fb9f3a"
             ],
             [
              0.8888888888888888,
              "#fdca26"
             ],
             [
              1,
              "#f0f921"
             ]
            ],
            "type": "heatmap"
           }
          ],
          "histogram": [
           {
            "marker": {
             "pattern": {
              "fillmode": "overlay",
              "size": 10,
              "solidity": 0.2
             }
            },
            "type": "histogram"
           }
          ],
          "histogram2d": [
           {
            "colorbar": {
             "outlinewidth": 0,
             "ticks": ""
            },
            "colorscale": [
             [
              0,
              "#0d0887"
             ],
             [
              0.1111111111111111,
              "#46039f"
             ],
             [
              0.2222222222222222,
              "#7201a8"
             ],
             [
              0.3333333333333333,
              "#9c179e"
             ],
             [
              0.4444444444444444,
              "#bd3786"
             ],
             [
              0.5555555555555556,
              "#d8576b"
             ],
             [
              0.6666666666666666,
              "#ed7953"
             ],
             [
              0.7777777777777778,
              "#fb9f3a"
             ],
             [
              0.8888888888888888,
              "#fdca26"
             ],
             [
              1,
              "#f0f921"
             ]
            ],
            "type": "histogram2d"
           }
          ],
          "histogram2dcontour": [
           {
            "colorbar": {
             "outlinewidth": 0,
             "ticks": ""
            },
            "colorscale": [
             [
              0,
              "#0d0887"
             ],
             [
              0.1111111111111111,
              "#46039f"
             ],
             [
              0.2222222222222222,
              "#7201a8"
             ],
             [
              0.3333333333333333,
              "#9c179e"
             ],
             [
              0.4444444444444444,
              "#bd3786"
             ],
             [
              0.5555555555555556,
              "#d8576b"
             ],
             [
              0.6666666666666666,
              "#ed7953"
             ],
             [
              0.7777777777777778,
              "#fb9f3a"
             ],
             [
              0.8888888888888888,
              "#fdca26"
             ],
             [
              1,
              "#f0f921"
             ]
            ],
            "type": "histogram2dcontour"
           }
          ],
          "mesh3d": [
           {
            "colorbar": {
             "outlinewidth": 0,
             "ticks": ""
            },
            "type": "mesh3d"
           }
          ],
          "parcoords": [
           {
            "line": {
             "colorbar": {
              "outlinewidth": 0,
              "ticks": ""
             }
            },
            "type": "parcoords"
           }
          ],
          "pie": [
           {
            "automargin": true,
            "type": "pie"
           }
          ],
          "scatter": [
           {
            "fillpattern": {
             "fillmode": "overlay",
             "size": 10,
             "solidity": 0.2
            },
            "type": "scatter"
           }
          ],
          "scatter3d": [
           {
            "line": {
             "colorbar": {
              "outlinewidth": 0,
              "ticks": ""
             }
            },
            "marker": {
             "colorbar": {
              "outlinewidth": 0,
              "ticks": ""
             }
            },
            "type": "scatter3d"
           }
          ],
          "scattercarpet": [
           {
            "marker": {
             "colorbar": {
              "outlinewidth": 0,
              "ticks": ""
             }
            },
            "type": "scattercarpet"
           }
          ],
          "scattergeo": [
           {
            "marker": {
             "colorbar": {
              "outlinewidth": 0,
              "ticks": ""
             }
            },
            "type": "scattergeo"
           }
          ],
          "scattergl": [
           {
            "marker": {
             "colorbar": {
              "outlinewidth": 0,
              "ticks": ""
             }
            },
            "type": "scattergl"
           }
          ],
          "scattermap": [
           {
            "marker": {
             "colorbar": {
              "outlinewidth": 0,
              "ticks": ""
             }
            },
            "type": "scattermap"
           }
          ],
          "scattermapbox": [
           {
            "marker": {
             "colorbar": {
              "outlinewidth": 0,
              "ticks": ""
             }
            },
            "type": "scattermapbox"
           }
          ],
          "scatterpolar": [
           {
            "marker": {
             "colorbar": {
              "outlinewidth": 0,
              "ticks": ""
             }
            },
            "type": "scatterpolar"
           }
          ],
          "scatterpolargl": [
           {
            "marker": {
             "colorbar": {
              "outlinewidth": 0,
              "ticks": ""
             }
            },
            "type": "scatterpolargl"
           }
          ],
          "scatterternary": [
           {
            "marker": {
             "colorbar": {
              "outlinewidth": 0,
              "ticks": ""
             }
            },
            "type": "scatterternary"
           }
          ],
          "surface": [
           {
            "colorbar": {
             "outlinewidth": 0,
             "ticks": ""
            },
            "colorscale": [
             [
              0,
              "#0d0887"
             ],
             [
              0.1111111111111111,
              "#46039f"
             ],
             [
              0.2222222222222222,
              "#7201a8"
             ],
             [
              0.3333333333333333,
              "#9c179e"
             ],
             [
              0.4444444444444444,
              "#bd3786"
             ],
             [
              0.5555555555555556,
              "#d8576b"
             ],
             [
              0.6666666666666666,
              "#ed7953"
             ],
             [
              0.7777777777777778,
              "#fb9f3a"
             ],
             [
              0.8888888888888888,
              "#fdca26"
             ],
             [
              1,
              "#f0f921"
             ]
            ],
            "type": "surface"
           }
          ],
          "table": [
           {
            "cells": {
             "fill": {
              "color": "#EBF0F8"
             },
             "line": {
              "color": "white"
             }
            },
            "header": {
             "fill": {
              "color": "#C8D4E3"
             },
             "line": {
              "color": "white"
             }
            },
            "type": "table"
           }
          ]
         },
         "layout": {
          "annotationdefaults": {
           "arrowcolor": "#2a3f5f",
           "arrowhead": 0,
           "arrowwidth": 1
          },
          "autotypenumbers": "strict",
          "coloraxis": {
           "colorbar": {
            "outlinewidth": 0,
            "ticks": ""
           }
          },
          "colorscale": {
           "diverging": [
            [
             0,
             "#8e0152"
            ],
            [
             0.1,
             "#c51b7d"
            ],
            [
             0.2,
             "#de77ae"
            ],
            [
             0.3,
             "#f1b6da"
            ],
            [
             0.4,
             "#fde0ef"
            ],
            [
             0.5,
             "#f7f7f7"
            ],
            [
             0.6,
             "#e6f5d0"
            ],
            [
             0.7,
             "#b8e186"
            ],
            [
             0.8,
             "#7fbc41"
            ],
            [
             0.9,
             "#4d9221"
            ],
            [
             1,
             "#276419"
            ]
           ],
           "sequential": [
            [
             0,
             "#0d0887"
            ],
            [
             0.1111111111111111,
             "#46039f"
            ],
            [
             0.2222222222222222,
             "#7201a8"
            ],
            [
             0.3333333333333333,
             "#9c179e"
            ],
            [
             0.4444444444444444,
             "#bd3786"
            ],
            [
             0.5555555555555556,
             "#d8576b"
            ],
            [
             0.6666666666666666,
             "#ed7953"
            ],
            [
             0.7777777777777778,
             "#fb9f3a"
            ],
            [
             0.8888888888888888,
             "#fdca26"
            ],
            [
             1,
             "#f0f921"
            ]
           ],
           "sequentialminus": [
            [
             0,
             "#0d0887"
            ],
            [
             0.1111111111111111,
             "#46039f"
            ],
            [
             0.2222222222222222,
             "#7201a8"
            ],
            [
             0.3333333333333333,
             "#9c179e"
            ],
            [
             0.4444444444444444,
             "#bd3786"
            ],
            [
             0.5555555555555556,
             "#d8576b"
            ],
            [
             0.6666666666666666,
             "#ed7953"
            ],
            [
             0.7777777777777778,
             "#fb9f3a"
            ],
            [
             0.8888888888888888,
             "#fdca26"
            ],
            [
             1,
             "#f0f921"
            ]
           ]
          },
          "colorway": [
           "#636efa",
           "#EF553B",
           "#00cc96",
           "#ab63fa",
           "#FFA15A",
           "#19d3f3",
           "#FF6692",
           "#B6E880",
           "#FF97FF",
           "#FECB52"
          ],
          "font": {
           "color": "#2a3f5f"
          },
          "geo": {
           "bgcolor": "white",
           "lakecolor": "white",
           "landcolor": "#E5ECF6",
           "showlakes": true,
           "showland": true,
           "subunitcolor": "white"
          },
          "hoverlabel": {
           "align": "left"
          },
          "hovermode": "closest",
          "mapbox": {
           "style": "light"
          },
          "paper_bgcolor": "white",
          "plot_bgcolor": "#E5ECF6",
          "polar": {
           "angularaxis": {
            "gridcolor": "white",
            "linecolor": "white",
            "ticks": ""
           },
           "bgcolor": "#E5ECF6",
           "radialaxis": {
            "gridcolor": "white",
            "linecolor": "white",
            "ticks": ""
           }
          },
          "scene": {
           "xaxis": {
            "backgroundcolor": "#E5ECF6",
            "gridcolor": "white",
            "gridwidth": 2,
            "linecolor": "white",
            "showbackground": true,
            "ticks": "",
            "zerolinecolor": "white"
           },
           "yaxis": {
            "backgroundcolor": "#E5ECF6",
            "gridcolor": "white",
            "gridwidth": 2,
            "linecolor": "white",
            "showbackground": true,
            "ticks": "",
            "zerolinecolor": "white"
           },
           "zaxis": {
            "backgroundcolor": "#E5ECF6",
            "gridcolor": "white",
            "gridwidth": 2,
            "linecolor": "white",
            "showbackground": true,
            "ticks": "",
            "zerolinecolor": "white"
           }
          },
          "shapedefaults": {
           "line": {
            "color": "#2a3f5f"
           }
          },
          "ternary": {
           "aaxis": {
            "gridcolor": "white",
            "linecolor": "white",
            "ticks": ""
           },
           "baxis": {
            "gridcolor": "white",
            "linecolor": "white",
            "ticks": ""
           },
           "bgcolor": "#E5ECF6",
           "caxis": {
            "gridcolor": "white",
            "linecolor": "white",
            "ticks": ""
           }
          },
          "title": {
           "x": 0.05
          },
          "xaxis": {
           "automargin": true,
           "gridcolor": "white",
           "linecolor": "white",
           "ticks": "",
           "title": {
            "standoff": 15
           },
           "zerolinecolor": "white",
           "zerolinewidth": 2
          },
          "yaxis": {
           "automargin": true,
           "gridcolor": "white",
           "linecolor": "white",
           "ticks": "",
           "title": {
            "standoff": 15
           },
           "zerolinecolor": "white",
           "zerolinewidth": 2
          }
         }
        },
        "title": {
         "text": "STARFRUIT (Past) vs SQUID_INK (Present)"
        },
        "xaxis": {
         "title": {
          "text": "Index or Time"
         }
        },
        "yaxis": {
         "tickfont": {
          "color": "blue"
         },
         "title": {
          "font": {
           "color": "blue"
          },
          "text": "STARFRUIT"
         }
        },
        "yaxis2": {
         "anchor": "x",
         "overlaying": "y",
         "side": "right",
         "tickfont": {
          "color": "red"
         },
         "title": {
          "font": {
           "color": "red"
          },
          "text": "SQUID_INK"
         }
        }
       }
      }
     },
     "metadata": {},
     "output_type": "display_data"
    },
    {
     "data": {
      "application/vnd.plotly.v1+json": {
       "config": {
        "plotlyServerURL": "https://plot.ly"
       },
       "data": [
        {
         "line": {
          "color": "blue"
         },
         "name": "ORCHIDS (Past)",
         "type": "scatter",
         "x": {
          "bdata": "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",
          "dtype": "i4"
         },
         "y": {
          "bdata": "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",
          "dtype": "f8"
         },
         "yaxis": "y"
        },
        {
         "line": {
          "color": "red"
         },
         "name": "JAMS (Present)",
         "type": "scatter",
         "x": {
          "bdata": "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",
          "dtype": "i4"
         },
         "y": {
          "bdata": "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",
          "dtype": "f8"
         },
         "yaxis": "y2"
        }
       ],
       "layout": {
        "legend": {
         "x": 0.01,
         "y": 0.99
        },
        "template": {
         "data": {
          "bar": [
           {
            "error_x": {
             "color": "#2a3f5f"
            },
            "error_y": {
             "color": "#2a3f5f"
            },
            "marker": {
             "line": {
              "color": "#E5ECF6",
              "width": 0.5
             },
             "pattern": {
              "fillmode": "overlay",
              "size": 10,
              "solidity": 0.2
             }
            },
            "type": "bar"
           }
          ],
          "barpolar": [
           {
            "marker": {
             "line": {
              "color": "#E5ECF6",
              "width": 0.5
             },
             "pattern": {
              "fillmode": "overlay",
              "size": 10,
              "solidity": 0.2
             }
            },
            "type": "barpolar"
           }
          ],
          "carpet": [
           {
            "aaxis": {
             "endlinecolor": "#2a3f5f",
             "gridcolor": "white",
             "linecolor": "white",
             "minorgridcolor": "white",
             "startlinecolor": "#2a3f5f"
            },
            "baxis": {
             "endlinecolor": "#2a3f5f",
             "gridcolor": "white",
             "linecolor": "white",
             "minorgridcolor": "white",
             "startlinecolor": "#2a3f5f"
            },
            "type": "carpet"
           }
          ],
          "choropleth": [
           {
            "colorbar": {
             "outlinewidth": 0,
             "ticks": ""
            },
            "type": "choropleth"
           }
          ],
          "contour": [
           {
            "colorbar": {
             "outlinewidth": 0,
             "ticks": ""
            },
            "colorscale": [
             [
              0,
              "#0d0887"
             ],
             [
              0.1111111111111111,
              "#46039f"
             ],
             [
              0.2222222222222222,
              "#7201a8"
             ],
             [
              0.3333333333333333,
              "#9c179e"
             ],
             [
              0.4444444444444444,
              "#bd3786"
             ],
             [
              0.5555555555555556,
              "#d8576b"
             ],
             [
              0.6666666666666666,
              "#ed7953"
             ],
             [
              0.7777777777777778,
              "#fb9f3a"
             ],
             [
              0.8888888888888888,
              "#fdca26"
             ],
             [
              1,
              "#f0f921"
             ]
            ],
            "type": "contour"
           }
          ],
          "contourcarpet": [
           {
            "colorbar": {
             "outlinewidth": 0,
             "ticks": ""
            },
            "type": "contourcarpet"
           }
          ],
          "heatmap": [
           {
            "colorbar": {
             "outlinewidth": 0,
             "ticks": ""
            },
            "colorscale": [
             [
              0,
              "#0d0887"
             ],
             [
              0.1111111111111111,
              "#46039f"
             ],
             [
              0.2222222222222222,
              "#7201a8"
             ],
             [
              0.3333333333333333,
              "#9c179e"
             ],
             [
              0.4444444444444444,
              "#bd3786"
             ],
             [
              0.5555555555555556,
              "#d8576b"
             ],
             [
              0.6666666666666666,
              "#ed7953"
             ],
             [
              0.7777777777777778,
              "#fb9f3a"
             ],
             [
              0.8888888888888888,
              "#fdca26"
             ],
             [
              1,
              "#f0f921"
             ]
            ],
            "type": "heatmap"
           }
          ],
          "histogram": [
           {
            "marker": {
             "pattern": {
              "fillmode": "overlay",
              "size": 10,
              "solidity": 0.2
             }
            },
            "type": "histogram"
           }
          ],
          "histogram2d": [
           {
            "colorbar": {
             "outlinewidth": 0,
             "ticks": ""
            },
            "colorscale": [
             [
              0,
              "#0d0887"
             ],
             [
              0.1111111111111111,
              "#46039f"
             ],
             [
              0.2222222222222222,
              "#7201a8"
             ],
             [
              0.3333333333333333,
              "#9c179e"
             ],
             [
              0.4444444444444444,
              "#bd3786"
             ],
             [
              0.5555555555555556,
              "#d8576b"
             ],
             [
              0.6666666666666666,
              "#ed7953"
             ],
             [
              0.7777777777777778,
              "#fb9f3a"
             ],
             [
              0.8888888888888888,
              "#fdca26"
             ],
             [
              1,
              "#f0f921"
             ]
            ],
            "type": "histogram2d"
           }
          ],
          "histogram2dcontour": [
           {
            "colorbar": {
             "outlinewidth": 0,
             "ticks": ""
            },
            "colorscale": [
             [
              0,
              "#0d0887"
             ],
             [
              0.1111111111111111,
              "#46039f"
             ],
             [
              0.2222222222222222,
              "#7201a8"
             ],
             [
              0.3333333333333333,
              "#9c179e"
             ],
             [
              0.4444444444444444,
              "#bd3786"
             ],
             [
              0.5555555555555556,
              "#d8576b"
             ],
             [
              0.6666666666666666,
              "#ed7953"
             ],
             [
              0.7777777777777778,
              "#fb9f3a"
             ],
             [
              0.8888888888888888,
              "#fdca26"
             ],
             [
              1,
              "#f0f921"
             ]
            ],
            "type": "histogram2dcontour"
           }
          ],
          "mesh3d": [
           {
            "colorbar": {
             "outlinewidth": 0,
             "ticks": ""
            },
            "type": "mesh3d"
           }
          ],
          "parcoords": [
           {
            "line": {
             "colorbar": {
              "outlinewidth": 0,
              "ticks": ""
             }
            },
            "type": "parcoords"
           }
          ],
          "pie": [
           {
            "automargin": true,
            "type": "pie"
           }
          ],
          "scatter": [
           {
            "fillpattern": {
             "fillmode": "overlay",
             "size": 10,
             "solidity": 0.2
            },
            "type": "scatter"
           }
          ],
          "scatter3d": [
           {
            "line": {
             "colorbar": {
              "outlinewidth": 0,
              "ticks": ""
             }
            },
            "marker": {
             "colorbar": {
              "outlinewidth": 0,
              "ticks": ""
             }
            },
            "type": "scatter3d"
           }
          ],
          "scattercarpet": [
           {
            "marker": {
             "colorbar": {
              "outlinewidth": 0,
              "ticks": ""
             }
            },
            "type": "scattercarpet"
           }
          ],
          "scattergeo": [
           {
            "marker": {
             "colorbar": {
              "outlinewidth": 0,
              "ticks": ""
             }
            },
            "type": "scattergeo"
           }
          ],
          "scattergl": [
           {
            "marker": {
             "colorbar": {
              "outlinewidth": 0,
              "ticks": ""
             }
            },
            "type": "scattergl"
           }
          ],
          "scattermap": [
           {
            "marker": {
             "colorbar": {
              "outlinewidth": 0,
              "ticks": ""
             }
            },
            "type": "scattermap"
           }
          ],
          "scattermapbox": [
           {
            "marker": {
             "colorbar": {
              "outlinewidth": 0,
              "ticks": ""
             }
            },
            "type": "scattermapbox"
           }
          ],
          "scatterpolar": [
           {
            "marker": {
             "colorbar": {
              "outlinewidth": 0,
              "ticks": ""
             }
            },
            "type": "scatterpolar"
           }
          ],
          "scatterpolargl": [
           {
            "marker": {
             "colorbar": {
              "outlinewidth": 0,
              "ticks": ""
             }
            },
            "type": "scatterpolargl"
           }
          ],
          "scatterternary": [
           {
            "marker": {
             "colorbar": {
              "outlinewidth": 0,
              "ticks": ""
             }
            },
            "type": "scatterternary"
           }
          ],
          "surface": [
           {
            "colorbar": {
             "outlinewidth": 0,
             "ticks": ""
            },
            "colorscale": [
             [
              0,
              "#0d0887"
             ],
             [
              0.1111111111111111,
              "#46039f"
             ],
             [
              0.2222222222222222,
              "#7201a8"
             ],
             [
              0.3333333333333333,
              "#9c179e"
             ],
             [
              0.4444444444444444,
              "#bd3786"
             ],
             [
              0.5555555555555556,
              "#d8576b"
             ],
             [
              0.6666666666666666,
              "#ed7953"
             ],
             [
              0.7777777777777778,
              "#fb9f3a"
             ],
             [
              0.8888888888888888,
              "#fdca26"
             ],
             [
              1,
              "#f0f921"
             ]
            ],
            "type": "surface"
           }
          ],
          "table": [
           {
            "cells": {
             "fill": {
              "color": "#EBF0F8"
             },
             "line": {
              "color": "white"
             }
            },
            "header": {
             "fill": {
              "color": "#C8D4E3"
             },
             "line": {
              "color": "white"
             }
            },
            "type": "table"
           }
          ]
         },
         "layout": {
          "annotationdefaults": {
           "arrowcolor": "#2a3f5f",
           "arrowhead": 0,
           "arrowwidth": 1
          },
          "autotypenumbers": "strict",
          "coloraxis": {
           "colorbar": {
            "outlinewidth": 0,
            "ticks": ""
           }
          },
          "colorscale": {
           "diverging": [
            [
             0,
             "#8e0152"
            ],
            [
             0.1,
             "#c51b7d"
            ],
            [
             0.2,
             "#de77ae"
            ],
            [
             0.3,
             "#f1b6da"
            ],
            [
             0.4,
             "#fde0ef"
            ],
            [
             0.5,
             "#f7f7f7"
            ],
            [
             0.6,
             "#e6f5d0"
            ],
            [
             0.7,
             "#b8e186"
            ],
            [
             0.8,
             "#7fbc41"
            ],
            [
             0.9,
             "#4d9221"
            ],
            [
             1,
             "#276419"
            ]
           ],
           "sequential": [
            [
             0,
             "#0d0887"
            ],
            [
             0.1111111111111111,
             "#46039f"
            ],
            [
             0.2222222222222222,
             "#7201a8"
            ],
            [
             0.3333333333333333,
             "#9c179e"
            ],
            [
             0.4444444444444444,
             "#bd3786"
            ],
            [
             0.5555555555555556,
             "#d8576b"
            ],
            [
             0.6666666666666666,
             "#ed7953"
            ],
            [
             0.7777777777777778,
             "#fb9f3a"
            ],
            [
             0.8888888888888888,
             "#fdca26"
            ],
            [
             1,
             "#f0f921"
            ]
           ],
           "sequentialminus": [
            [
             0,
             "#0d0887"
            ],
            [
             0.1111111111111111,
             "#46039f"
            ],
            [
             0.2222222222222222,
             "#7201a8"
            ],
            [
             0.3333333333333333,
             "#9c179e"
            ],
            [
             0.4444444444444444,
             "#bd3786"
            ],
            [
             0.5555555555555556,
             "#d8576b"
            ],
            [
             0.6666666666666666,
             "#ed7953"
            ],
            [
             0.7777777777777778,
             "#fb9f3a"
            ],
            [
             0.8888888888888888,
             "#fdca26"
            ],
            [
             1,
             "#f0f921"
            ]
           ]
          },
          "colorway": [
           "#636efa",
           "#EF553B",
           "#00cc96",
           "#ab63fa",
           "#FFA15A",
           "#19d3f3",
           "#FF6692",
           "#B6E880",
           "#FF97FF",
           "#FECB52"
          ],
          "font": {
           "color": "#2a3f5f"
          },
          "geo": {
           "bgcolor": "white",
           "lakecolor": "white",
           "landcolor": "#E5ECF6",
           "showlakes": true,
           "showland": true,
           "subunitcolor": "white"
          },
          "hoverlabel": {
           "align": "left"
          },
          "hovermode": "closest",
          "mapbox": {
           "style": "light"
          },
          "paper_bgcolor": "white",
          "plot_bgcolor": "#E5ECF6",
          "polar": {
           "angularaxis": {
            "gridcolor": "white",
            "linecolor": "white",
            "ticks": ""
           },
           "bgcolor": "#E5ECF6",
           "radialaxis": {
            "gridcolor": "white",
            "linecolor": "white",
            "ticks": ""
           }
          },
          "scene": {
           "xaxis": {
            "backgroundcolor": "#E5ECF6",
            "gridcolor": "white",
            "gridwidth": 2,
            "linecolor": "white",
            "showbackground": true,
            "ticks": "",
            "zerolinecolor": "white"
           },
           "yaxis": {
            "backgroundcolor": "#E5ECF6",
            "gridcolor": "white",
            "gridwidth": 2,
            "linecolor": "white",
            "showbackground": true,
            "ticks": "",
            "zerolinecolor": "white"
           },
           "zaxis": {
            "backgroundcolor": "#E5ECF6",
            "gridcolor": "white",
            "gridwidth": 2,
            "linecolor": "white",
            "showbackground": true,
            "ticks": "",
            "zerolinecolor": "white"
           }
          },
          "shapedefaults": {
           "line": {
            "color": "#2a3f5f"
           }
          },
          "ternary": {
           "aaxis": {
            "gridcolor": "white",
            "linecolor": "white",
            "ticks": ""
           },
           "baxis": {
            "gridcolor": "white",
            "linecolor": "white",
            "ticks": ""
           },
           "bgcolor": "#E5ECF6",
           "caxis": {
            "gridcolor": "white",
            "linecolor": "white",
            "ticks": ""
           }
          },
          "title": {
           "x": 0.05
          },
          "xaxis": {
           "automargin": true,
           "gridcolor": "white",
           "linecolor": "white",
           "ticks": "",
           "title": {
            "standoff": 15
           },
           "zerolinecolor": "white",
           "zerolinewidth": 2
          },
          "yaxis": {
           "automargin": true,
           "gridcolor": "white",
           "linecolor": "white",
           "ticks": "",
           "title": {
            "standoff": 15
           },
           "zerolinecolor": "white",
           "zerolinewidth": 2
          }
         }
        },
        "title": {
         "text": "ORCHIDS (Past) vs JAMS (Present)"
        },
        "xaxis": {
         "title": {
          "text": "Index or Time"
         }
        },
        "yaxis": {
         "tickfont": {
          "color": "blue"
         },
         "title": {
          "font": {
           "color": "blue"
          },
          "text": "ORCHIDS"
         }
        },
        "yaxis2": {
         "anchor": "x",
         "overlaying": "y",
         "side": "right",
         "tickfont": {
          "color": "red"
         },
         "title": {
          "font": {
           "color": "red"
          },
          "text": "JAMS"
         }
        }
       }
      }
     },
     "metadata": {},
     "output_type": "display_data"
    }
   ],
   "source": [
    "for past_product, present_product in corrs.abs().sort_values(ascending=False).index[:10]:\n",
    "    compare_products(mid_r5_past, mid_r5_present, past_product, present_product, plot=True)"
   ]
  },
  {
   "cell_type": "code",
   "execution_count": 13,
   "metadata": {},
   "outputs": [],
   "source": [
    "from sklearn.linear_model import LinearRegression\n",
    "from sklearn.metrics import r2_score\n",
    "\n",
    "def linear_regression_r2(past_df: pd.DataFrame, present_df: pd.DataFrame, product1: str, product2: str) -> float:\n",
    "    \"\"\"\n",
    "    Perform linear regression between two product series from past and present DataFrames.\n",
    "    Returns the R^2 (coefficient of determination) of the fit.\n",
    "\n",
    "    Args:\n",
    "        past_df (pd.DataFrame): DataFrame containing past product data.\n",
    "        present_df (pd.DataFrame): DataFrame containing present product data.\n",
    "        product1 (str): Column name for the product in past_df (independent variable).\n",
    "        product2 (str): Column name for the product in present_df (dependent variable).\n",
    "\n",
    "    Returns:\n",
    "        float: R^2 score of the linear regression.\n",
    "    \"\"\"\n",
    "    # Align indices to ensure matching rows\n",
    "    min_len = min(len(past_df), len(present_df))\n",
    "    x = past_df[product1].iloc[:min_len].values.reshape(-1, 1)\n",
    "    y = present_df[product2].iloc[:min_len].values\n",
    "\n",
    "    model = LinearRegression()\n",
    "    model.fit(x, y)\n",
    "    y_pred = model.predict(x)\n",
    "    r2 = r2_score(y, y_pred)\n",
    "    return r2"
   ]
  },
  {
   "cell_type": "code",
   "execution_count": 14,
   "metadata": {},
   "outputs": [
    {
     "data": {
      "text/plain": [
       "ROSES         CROISSANTS                     8.745989e-01\n",
       "              PICNIC_BASKET1                 7.783457e-01\n",
       "              PICNIC_BASKET2                 7.774739e-01\n",
       "COCONUT       PICNIC_BASKET1                 7.437797e-01\n",
       "              PICNIC_BASKET2                 6.975957e-01\n",
       "                                                 ...     \n",
       "STARFRUIT     RAINFOREST_RESIN               3.725343e-06\n",
       "CHOCOLATE     DJEMBES                        1.685805e-06\n",
       "STRAWBERRIES  RAINFOREST_RESIN               1.241556e-06\n",
       "STARFRUIT     VOLCANIC_ROCK_VOUCHER_10500    4.117380e-07\n",
       "AMETHYSTS     CROISSANTS                     2.228742e-07\n",
       "Length: 135, dtype: float64"
      ]
     },
     "execution_count": 14,
     "metadata": {},
     "output_type": "execute_result"
    }
   ],
   "source": [
    "r2s = {}\n",
    "for past_product in mid_r5_past.columns:\n",
    "    for present_product in mid_r5_present.columns:\n",
    "        r2s[(past_product, present_product)] = linear_regression_r2(mid_r5_past, mid_r5_present, past_product, present_product)\n",
    "r2s = pd.Series(r2s).sort_values(ascending=False)\n",
    "r2s"
   ]
  },
  {
   "cell_type": "code",
   "execution_count": null,
   "metadata": {},
   "outputs": [],
   "source": []
  }
 ],
 "metadata": {
  "kernelspec": {
   "display_name": ".venv",
   "language": "python",
   "name": "python3"
  },
  "language_info": {
   "codemirror_mode": {
    "name": "ipython",
    "version": 3
   },
   "file_extension": ".py",
   "mimetype": "text/x-python",
   "name": "python",
   "nbconvert_exporter": "python",
   "pygments_lexer": "ipython3",
   "version": "3.12.8"
  }
 },
 "nbformat": 4,
 "nbformat_minor": 2
}
